{
 "cells": [
  {
   "cell_type": "code",
   "execution_count": 1,
   "metadata": {},
   "outputs": [],
   "source": [
    "import numpy as np\n",
    "import pandas as pd\n",
    "import seaborn as sb\n",
    "import matplotlib.pyplot as plt\n",
    "from sklearn.model_selection import train_test_split\n",
    "from sklearn.preprocessing import LabelEncoder\n",
    "from sklearn.linear_model import LinearRegression\n",
    "from sklearn.preprocessing import OneHotEncoder\n",
    "from sklearn.compose import ColumnTransformer\n",
    "sb.set()\n",
    "le=LabelEncoder()"
   ]
  },
  {
   "cell_type": "markdown",
   "metadata": {},
   "source": [
    "# The purpose of this prediction\n",
    "- Give insights to future e-commerce sellers on which product category have the highest customer interest\n",
    "- Suggest the best sale price to obtain high interest"
   ]
  },
  {
   "cell_type": "markdown",
   "metadata": {},
   "source": [
    "## Functions\n",
    "- Such as plot prices, review, bi-variates\n",
    "- Set Data function to choose certain column needed to be trained\n",
    "- Train Data function to train the data which will be predicted later on"
   ]
  },
  {
   "cell_type": "code",
   "execution_count": 2,
   "metadata": {},
   "outputs": [],
   "source": [
    "def plot_review(review):\n",
    "    sb.catplot(y = \"review_score\", data = review, kind = \"count\")"
   ]
  },
  {
   "cell_type": "code",
   "execution_count": 3,
   "metadata": {},
   "outputs": [],
   "source": [
    "def plot_price(price):\n",
    "    f, axes = plt.subplots(1, 3, figsize=(24, 6))\n",
    "    sb.boxplot(data = price, orient = \"h\", ax = axes[0])\n",
    "    sb.histplot(data = price, ax = axes[1])\n",
    "    sb.violinplot(data = price, orient = \"h\", ax = axes[2])"
   ]
  },
  {
   "cell_type": "code",
   "execution_count": 4,
   "metadata": {},
   "outputs": [],
   "source": [
    "def plot_both(review,price):\n",
    "    trainDF = pd.concat([price, review], axis = 1).reindex(price.index)\n",
    "    f = plt.figure(figsize=(18, 6))\n",
    "    sb.boxplot(x = \"price\", y = \"review_score\", data = trainDF, orient = \"h\")"
   ]
  },
  {
   "cell_type": "code",
   "execution_count": 5,
   "metadata": {},
   "outputs": [],
   "source": [
    "def plot_scatter(review,price):\n",
    "    trainDF = pd.concat([price, review], axis = 1).reindex(price.index)\n",
    "    f = plt.figure(figsize=(18, 6))\n",
    "    sb.swarmplot(x = \"price\", y = \"review_score\", data = trainDF, orient = \"h\")"
   ]
  },
  {
   "cell_type": "code",
   "execution_count": 6,
   "metadata": {},
   "outputs": [],
   "source": [
    "def set_data(data):\n",
    "    Data=pd.DataFrame(data[['review_score','price','product_length_cm','product_width_cm','product_height_cm','product_weight_g']])\n",
    "    return Data"
   ]
  },
  {
   "cell_type": "code",
   "execution_count": 7,
   "metadata": {},
   "outputs": [],
   "source": [
    "def train_data(data):\n",
    "    data.review_score=le.fit_transform(data.review_score)\n",
    "    y=data.price\n",
    "    X=data[['review_score','product_length_cm','product_width_cm','product_height_cm','product_weight_g']].values\n",
    "    X_train,X_test,y_train,y_test=train_test_split(X,y,test_size=0.25)\n",
    "    ct = ColumnTransformer(\n",
    "    [('one_hot_encoder', OneHotEncoder(categories='auto'), [0])],\n",
    "    remainder='passthrough')\n",
    "    X_train = ct.fit_transform(X_train)\n",
    "    X_test = ct.fit_transform(X_test)\n",
    "    return X_train,X_test,y_train,y_test"
   ]
  },
  {
   "cell_type": "markdown",
   "metadata": {},
   "source": [
    "## Reading all the data in the csv"
   ]
  },
  {
   "cell_type": "code",
   "execution_count": 8,
   "metadata": {},
   "outputs": [],
   "source": [
    "data=pd.read_csv('joinedData.csv')"
   ]
  },
  {
   "cell_type": "code",
   "execution_count": 9,
   "metadata": {},
   "outputs": [
    {
     "name": "stdout",
     "output_type": "stream",
     "text": [
      "<class 'pandas.core.frame.DataFrame'>\n",
      "RangeIndex: 12670 entries, 0 to 12669\n",
      "Data columns (total 39 columns):\n",
      " #   Column                         Non-Null Count  Dtype  \n",
      "---  ------                         --------------  -----  \n",
      " 0   Unnamed: 0                     12670 non-null  int64  \n",
      " 1   mql_id                         12670 non-null  object \n",
      " 2   first_contact_date             12670 non-null  object \n",
      " 3   landing_page_id                12670 non-null  object \n",
      " 4   origin                         12603 non-null  object \n",
      " 5   seller_id                      5512 non-null   object \n",
      " 6   sdr_id                         5512 non-null   object \n",
      " 7   sr_id                          5512 non-null   object \n",
      " 8   won_date                       5512 non-null   object \n",
      " 9   business_segment               5511 non-null   object \n",
      " 10  lead_type                      5461 non-null   object \n",
      " 11  lead_behaviour_profile         3684 non-null   object \n",
      " 12  has_company                    88 non-null     object \n",
      " 13  has_gtin                       89 non-null     object \n",
      " 14  average_stock                  91 non-null     object \n",
      " 15  business_type                  5500 non-null   object \n",
      " 16  declared_product_catalog_size  69 non-null     float64\n",
      " 17  declared_monthly_revenue       5512 non-null   float64\n",
      " 18  order_id                       5050 non-null   object \n",
      " 19  order_item_id                  5050 non-null   float64\n",
      " 20  product_id                     5050 non-null   object \n",
      " 21  shipping_limit_date            5050 non-null   object \n",
      " 22  price                          5050 non-null   float64\n",
      " 23  freight_value                  5050 non-null   float64\n",
      " 24  product_category_name          5014 non-null   object \n",
      " 25  product_name_lenght            5014 non-null   float64\n",
      " 26  product_description_lenght     5014 non-null   float64\n",
      " 27  product_photos_qty             5014 non-null   float64\n",
      " 28  product_weight_g               5050 non-null   float64\n",
      " 29  product_length_cm              5050 non-null   float64\n",
      " 30  product_height_cm              5050 non-null   float64\n",
      " 31  product_width_cm               5050 non-null   float64\n",
      " 32  product_category_name_english  5000 non-null   object \n",
      " 33  review_id                      5050 non-null   object \n",
      " 34  review_score                   5050 non-null   float64\n",
      " 35  review_comment_title           1671 non-null   object \n",
      " 36  review_comment_message         1963 non-null   object \n",
      " 37  review_creation_date           5050 non-null   object \n",
      " 38  review_answer_timestamp        5050 non-null   object \n",
      "dtypes: float64(13), int64(1), object(25)\n",
      "memory usage: 3.8+ MB\n"
     ]
    }
   ],
   "source": [
    "data.info()"
   ]
  },
  {
   "cell_type": "code",
   "execution_count": 10,
   "metadata": {},
   "outputs": [],
   "source": [
    "pricecatrev=data[data['price'].notna()]\n",
    "pricecatrev=data[data['review_score'].notna()]\n",
    "pricecatrev=data[data['business_segment'].notna()]"
   ]
  },
  {
   "cell_type": "code",
   "execution_count": 11,
   "metadata": {},
   "outputs": [
    {
     "data": {
      "text/plain": [
       "health_beauty                      869\n",
       "watches                            599\n",
       "household_utilities                589\n",
       "home_decor                         514\n",
       "construction_tools_house_garden    356\n",
       "audio_video_electronics            308\n",
       "pet                                301\n",
       "car_accessories                    211\n",
       "bed_bath_table                     200\n",
       "sports_leisure                     190\n",
       "bags_backpacks                     148\n",
       "computers                          147\n",
       "home_appliances                    143\n",
       "toys                               131\n",
       "food_supplement                    120\n",
       "books                              111\n",
       "home_office_furniture               93\n",
       "small_appliances                    74\n",
       "fashion_accessories                 73\n",
       "food_drink                          66\n",
       "stationery                          66\n",
       "phone_mobile                        64\n",
       "baby                                46\n",
       "music_instruments                   30\n",
       "handcrafted                         20\n",
       "gifts                               10\n",
       "jewerly                              8\n",
       "party                                7\n",
       "air_conditioning                     6\n",
       "games_consoles                       5\n",
       "other                                3\n",
       "perfume                              2\n",
       "religious                            1\n",
       "Name: business_segment, dtype: int64"
      ]
     },
     "execution_count": 11,
     "metadata": {},
     "output_type": "execute_result"
    }
   ],
   "source": [
    "pricecatrev['business_segment'].value_counts()"
   ]
  },
  {
   "cell_type": "markdown",
   "metadata": {},
   "source": [
    "## Start to predict data based on each business segment / categories\n",
    "- We took top 10 categories that has the most dataset"
   ]
  },
  {
   "cell_type": "markdown",
   "metadata": {},
   "source": [
    "### Health and Beauty Data"
   ]
  },
  {
   "cell_type": "code",
   "execution_count": 12,
   "metadata": {},
   "outputs": [
    {
     "name": "stdout",
     "output_type": "stream",
     "text": [
      "<class 'pandas.core.frame.DataFrame'>\n",
      "Int64Index: 816 entries, 206 to 12629\n",
      "Data columns (total 39 columns):\n",
      " #   Column                         Non-Null Count  Dtype  \n",
      "---  ------                         --------------  -----  \n",
      " 0   Unnamed: 0                     816 non-null    int64  \n",
      " 1   mql_id                         816 non-null    object \n",
      " 2   first_contact_date             816 non-null    object \n",
      " 3   landing_page_id                816 non-null    object \n",
      " 4   origin                         816 non-null    object \n",
      " 5   seller_id                      816 non-null    object \n",
      " 6   sdr_id                         816 non-null    object \n",
      " 7   sr_id                          816 non-null    object \n",
      " 8   won_date                       816 non-null    object \n",
      " 9   business_segment               816 non-null    object \n",
      " 10  lead_type                      816 non-null    object \n",
      " 11  lead_behaviour_profile         723 non-null    object \n",
      " 12  has_company                    0 non-null      object \n",
      " 13  has_gtin                       0 non-null      object \n",
      " 14  average_stock                  0 non-null      object \n",
      " 15  business_type                  816 non-null    object \n",
      " 16  declared_product_catalog_size  0 non-null      float64\n",
      " 17  declared_monthly_revenue       816 non-null    float64\n",
      " 18  order_id                       816 non-null    object \n",
      " 19  order_item_id                  816 non-null    float64\n",
      " 20  product_id                     816 non-null    object \n",
      " 21  shipping_limit_date            816 non-null    object \n",
      " 22  price                          816 non-null    float64\n",
      " 23  freight_value                  816 non-null    float64\n",
      " 24  product_category_name          816 non-null    object \n",
      " 25  product_name_lenght            816 non-null    float64\n",
      " 26  product_description_lenght     816 non-null    float64\n",
      " 27  product_photos_qty             816 non-null    float64\n",
      " 28  product_weight_g               816 non-null    float64\n",
      " 29  product_length_cm              816 non-null    float64\n",
      " 30  product_height_cm              816 non-null    float64\n",
      " 31  product_width_cm               816 non-null    float64\n",
      " 32  product_category_name_english  816 non-null    object \n",
      " 33  review_id                      816 non-null    object \n",
      " 34  review_score                   816 non-null    float64\n",
      " 35  review_comment_title           262 non-null    object \n",
      " 36  review_comment_message         289 non-null    object \n",
      " 37  review_creation_date           816 non-null    object \n",
      " 38  review_answer_timestamp        816 non-null    object \n",
      "dtypes: float64(13), int64(1), object(25)\n",
      "memory usage: 255.0+ KB\n"
     ]
    }
   ],
   "source": [
    "health=pricecatrev.loc[pricecatrev['business_segment'] == 'health_beauty']\n",
    "health=health[health['price'] < 800.00]\n",
    "price_health=pd.DataFrame(health['price'])\n",
    "review_health=pd.DataFrame(health['review_score'], dtype=\"category\")\n",
    "health.info()"
   ]
  },
  {
   "cell_type": "code",
   "execution_count": 13,
   "metadata": {},
   "outputs": [
    {
     "data": {
      "text/html": [
       "<div>\n",
       "<style scoped>\n",
       "    .dataframe tbody tr th:only-of-type {\n",
       "        vertical-align: middle;\n",
       "    }\n",
       "\n",
       "    .dataframe tbody tr th {\n",
       "        vertical-align: top;\n",
       "    }\n",
       "\n",
       "    .dataframe thead th {\n",
       "        text-align: right;\n",
       "    }\n",
       "</style>\n",
       "<table border=\"1\" class=\"dataframe\">\n",
       "  <thead>\n",
       "    <tr style=\"text-align: right;\">\n",
       "      <th></th>\n",
       "      <th>price</th>\n",
       "    </tr>\n",
       "  </thead>\n",
       "  <tbody>\n",
       "    <tr>\n",
       "      <th>count</th>\n",
       "      <td>816.000000</td>\n",
       "    </tr>\n",
       "    <tr>\n",
       "      <th>mean</th>\n",
       "      <td>104.485074</td>\n",
       "    </tr>\n",
       "    <tr>\n",
       "      <th>std</th>\n",
       "      <td>86.576613</td>\n",
       "    </tr>\n",
       "    <tr>\n",
       "      <th>min</th>\n",
       "      <td>7.650000</td>\n",
       "    </tr>\n",
       "    <tr>\n",
       "      <th>25%</th>\n",
       "      <td>49.990000</td>\n",
       "    </tr>\n",
       "    <tr>\n",
       "      <th>50%</th>\n",
       "      <td>110.320000</td>\n",
       "    </tr>\n",
       "    <tr>\n",
       "      <th>75%</th>\n",
       "      <td>110.320000</td>\n",
       "    </tr>\n",
       "    <tr>\n",
       "      <th>max</th>\n",
       "      <td>682.980000</td>\n",
       "    </tr>\n",
       "  </tbody>\n",
       "</table>\n",
       "</div>"
      ],
      "text/plain": [
       "            price\n",
       "count  816.000000\n",
       "mean   104.485074\n",
       "std     86.576613\n",
       "min      7.650000\n",
       "25%     49.990000\n",
       "50%    110.320000\n",
       "75%    110.320000\n",
       "max    682.980000"
      ]
     },
     "execution_count": 13,
     "metadata": {},
     "output_type": "execute_result"
    }
   ],
   "source": [
    "price_health.describe()"
   ]
  },
  {
   "cell_type": "code",
   "execution_count": 14,
   "metadata": {},
   "outputs": [
    {
     "data": {
      "text/plain": [
       "review_score\n",
       "5.0             556\n",
       "4.0             118\n",
       "1.0              85\n",
       "3.0              43\n",
       "2.0              14\n",
       "dtype: int64"
      ]
     },
     "execution_count": 14,
     "metadata": {},
     "output_type": "execute_result"
    }
   ],
   "source": [
    "review_health.value_counts()"
   ]
  },
  {
   "cell_type": "code",
   "execution_count": 15,
   "metadata": {},
   "outputs": [
    {
     "data": {
      "image/png": "[encoded data removed]",
      "text/plain": [
       "<Figure size 360x360 with 1 Axes>"
      ]
     },
     "metadata": {},
     "output_type": "display_data"
    }
   ],
   "source": [
    "plot_review(review_health)"
   ]
  },
  {
   "cell_type": "code",
   "execution_count": 16,
   "metadata": {},
   "outputs": [
    {
     "data": {
      "image/png": "[encoded data removed]",
      "text/plain": [
       "<Figure size 1728x432 with 3 Axes>"
      ]
     },
     "metadata": {},
     "output_type": "display_data"
    }
   ],
   "source": [
    "plot_price(price_health)"
   ]
  },
  {
   "cell_type": "code",
   "execution_count": 17,
   "metadata": {},
   "outputs": [
    {
     "data": {
      "image/png": "[encoded data removed]",
      "text/plain": [
       "<Figure size 1296x432 with 1 Axes>"
      ]
     },
     "metadata": {},
     "output_type": "display_data"
    }
   ],
   "source": [
    "plot_both(review_health,price_health)"
   ]
  },
  {
   "cell_type": "code",
   "execution_count": 18,
   "metadata": {},
   "outputs": [
    {
     "name": "stderr",
     "output_type": "stream",
     "text": [
      "C:\\Users\\Daren\\anaconda3\\lib\\site-packages\\seaborn\\categorical.py:1296: UserWarning: 21.2% of the points cannot be placed; you may want to decrease the size of the markers or use stripplot.\n",
      "  warnings.warn(msg, UserWarning)\n",
      "C:\\Users\\Daren\\anaconda3\\lib\\site-packages\\seaborn\\categorical.py:1296: UserWarning: 27.9% of the points cannot be placed; you may want to decrease the size of the markers or use stripplot.\n",
      "  warnings.warn(msg, UserWarning)\n",
      "C:\\Users\\Daren\\anaconda3\\lib\\site-packages\\seaborn\\categorical.py:1296: UserWarning: 25.4% of the points cannot be placed; you may want to decrease the size of the markers or use stripplot.\n",
      "  warnings.warn(msg, UserWarning)\n",
      "C:\\Users\\Daren\\anaconda3\\lib\\site-packages\\seaborn\\categorical.py:1296: UserWarning: 49.1% of the points cannot be placed; you may want to decrease the size of the markers or use stripplot.\n",
      "  warnings.warn(msg, UserWarning)\n"
     ]
    },
    {
     "data": {
      "image/png": "[encoded data removed]",
      "text/plain": [
       "<Figure size 1296x432 with 1 Axes>"
      ]
     },
     "metadata": {},
     "output_type": "display_data"
    }
   ],
   "source": [
    "plot_scatter(review_health,price_health)"
   ]
  },
  {
   "cell_type": "code",
   "execution_count": 19,
   "metadata": {},
   "outputs": [],
   "source": [
    "healthData=set_data(health)"
   ]
  },
  {
   "cell_type": "code",
   "execution_count": 20,
   "metadata": {},
   "outputs": [
    {
     "data": {
      "text/html": [
       "<div>\n",
       "<style scoped>\n",
       "    .dataframe tbody tr th:only-of-type {\n",
       "        vertical-align: middle;\n",
       "    }\n",
       "\n",
       "    .dataframe tbody tr th {\n",
       "        vertical-align: top;\n",
       "    }\n",
       "\n",
       "    .dataframe thead th {\n",
       "        text-align: right;\n",
       "    }\n",
       "</style>\n",
       "<table border=\"1\" class=\"dataframe\">\n",
       "  <thead>\n",
       "    <tr style=\"text-align: right;\">\n",
       "      <th></th>\n",
       "      <th>review_score</th>\n",
       "      <th>price</th>\n",
       "      <th>product_length_cm</th>\n",
       "      <th>product_width_cm</th>\n",
       "      <th>product_height_cm</th>\n",
       "      <th>product_weight_g</th>\n",
       "    </tr>\n",
       "  </thead>\n",
       "  <tbody>\n",
       "    <tr>\n",
       "      <th>206</th>\n",
       "      <td>5.0</td>\n",
       "      <td>97.90</td>\n",
       "      <td>16.0</td>\n",
       "      <td>16.0</td>\n",
       "      <td>16.0</td>\n",
       "      <td>200.0</td>\n",
       "    </tr>\n",
       "    <tr>\n",
       "      <th>213</th>\n",
       "      <td>4.0</td>\n",
       "      <td>49.99</td>\n",
       "      <td>16.0</td>\n",
       "      <td>16.0</td>\n",
       "      <td>16.0</td>\n",
       "      <td>400.0</td>\n",
       "    </tr>\n",
       "    <tr>\n",
       "      <th>214</th>\n",
       "      <td>5.0</td>\n",
       "      <td>39.90</td>\n",
       "      <td>17.0</td>\n",
       "      <td>16.0</td>\n",
       "      <td>14.0</td>\n",
       "      <td>1050.0</td>\n",
       "    </tr>\n",
       "    <tr>\n",
       "      <th>215</th>\n",
       "      <td>5.0</td>\n",
       "      <td>39.90</td>\n",
       "      <td>17.0</td>\n",
       "      <td>16.0</td>\n",
       "      <td>14.0</td>\n",
       "      <td>1050.0</td>\n",
       "    </tr>\n",
       "    <tr>\n",
       "      <th>392</th>\n",
       "      <td>3.0</td>\n",
       "      <td>119.90</td>\n",
       "      <td>16.0</td>\n",
       "      <td>15.0</td>\n",
       "      <td>16.0</td>\n",
       "      <td>270.0</td>\n",
       "    </tr>\n",
       "    <tr>\n",
       "      <th>393</th>\n",
       "      <td>5.0</td>\n",
       "      <td>169.90</td>\n",
       "      <td>32.0</td>\n",
       "      <td>15.0</td>\n",
       "      <td>11.0</td>\n",
       "      <td>1250.0</td>\n",
       "    </tr>\n",
       "    <tr>\n",
       "      <th>394</th>\n",
       "      <td>5.0</td>\n",
       "      <td>127.90</td>\n",
       "      <td>25.0</td>\n",
       "      <td>25.0</td>\n",
       "      <td>20.0</td>\n",
       "      <td>275.0</td>\n",
       "    </tr>\n",
       "    <tr>\n",
       "      <th>395</th>\n",
       "      <td>1.0</td>\n",
       "      <td>144.90</td>\n",
       "      <td>18.0</td>\n",
       "      <td>11.0</td>\n",
       "      <td>11.0</td>\n",
       "      <td>350.0</td>\n",
       "    </tr>\n",
       "    <tr>\n",
       "      <th>396</th>\n",
       "      <td>5.0</td>\n",
       "      <td>109.90</td>\n",
       "      <td>19.0</td>\n",
       "      <td>11.0</td>\n",
       "      <td>14.0</td>\n",
       "      <td>250.0</td>\n",
       "    </tr>\n",
       "    <tr>\n",
       "      <th>397</th>\n",
       "      <td>5.0</td>\n",
       "      <td>69.90</td>\n",
       "      <td>19.0</td>\n",
       "      <td>15.0</td>\n",
       "      <td>15.0</td>\n",
       "      <td>150.0</td>\n",
       "    </tr>\n",
       "    <tr>\n",
       "      <th>398</th>\n",
       "      <td>5.0</td>\n",
       "      <td>127.90</td>\n",
       "      <td>25.0</td>\n",
       "      <td>25.0</td>\n",
       "      <td>20.0</td>\n",
       "      <td>275.0</td>\n",
       "    </tr>\n",
       "    <tr>\n",
       "      <th>399</th>\n",
       "      <td>5.0</td>\n",
       "      <td>124.90</td>\n",
       "      <td>21.0</td>\n",
       "      <td>11.0</td>\n",
       "      <td>14.0</td>\n",
       "      <td>700.0</td>\n",
       "    </tr>\n",
       "    <tr>\n",
       "      <th>400</th>\n",
       "      <td>5.0</td>\n",
       "      <td>99.90</td>\n",
       "      <td>24.0</td>\n",
       "      <td>20.0</td>\n",
       "      <td>28.0</td>\n",
       "      <td>1167.0</td>\n",
       "    </tr>\n",
       "    <tr>\n",
       "      <th>401</th>\n",
       "      <td>5.0</td>\n",
       "      <td>124.90</td>\n",
       "      <td>21.0</td>\n",
       "      <td>11.0</td>\n",
       "      <td>14.0</td>\n",
       "      <td>700.0</td>\n",
       "    </tr>\n",
       "    <tr>\n",
       "      <th>402</th>\n",
       "      <td>5.0</td>\n",
       "      <td>218.90</td>\n",
       "      <td>18.0</td>\n",
       "      <td>12.0</td>\n",
       "      <td>12.0</td>\n",
       "      <td>700.0</td>\n",
       "    </tr>\n",
       "    <tr>\n",
       "      <th>403</th>\n",
       "      <td>5.0</td>\n",
       "      <td>199.90</td>\n",
       "      <td>16.0</td>\n",
       "      <td>12.0</td>\n",
       "      <td>12.0</td>\n",
       "      <td>1250.0</td>\n",
       "    </tr>\n",
       "    <tr>\n",
       "      <th>404</th>\n",
       "      <td>5.0</td>\n",
       "      <td>226.90</td>\n",
       "      <td>18.0</td>\n",
       "      <td>12.0</td>\n",
       "      <td>9.0</td>\n",
       "      <td>825.0</td>\n",
       "    </tr>\n",
       "    <tr>\n",
       "      <th>405</th>\n",
       "      <td>5.0</td>\n",
       "      <td>99.90</td>\n",
       "      <td>16.0</td>\n",
       "      <td>14.0</td>\n",
       "      <td>15.0</td>\n",
       "      <td>355.0</td>\n",
       "    </tr>\n",
       "    <tr>\n",
       "      <th>406</th>\n",
       "      <td>5.0</td>\n",
       "      <td>69.90</td>\n",
       "      <td>19.0</td>\n",
       "      <td>15.0</td>\n",
       "      <td>11.0</td>\n",
       "      <td>517.0</td>\n",
       "    </tr>\n",
       "    <tr>\n",
       "      <th>407</th>\n",
       "      <td>5.0</td>\n",
       "      <td>309.90</td>\n",
       "      <td>19.0</td>\n",
       "      <td>11.0</td>\n",
       "      <td>14.0</td>\n",
       "      <td>600.0</td>\n",
       "    </tr>\n",
       "    <tr>\n",
       "      <th>408</th>\n",
       "      <td>4.0</td>\n",
       "      <td>44.90</td>\n",
       "      <td>16.0</td>\n",
       "      <td>11.0</td>\n",
       "      <td>11.0</td>\n",
       "      <td>200.0</td>\n",
       "    </tr>\n",
       "    <tr>\n",
       "      <th>409</th>\n",
       "      <td>4.0</td>\n",
       "      <td>35.00</td>\n",
       "      <td>16.0</td>\n",
       "      <td>11.0</td>\n",
       "      <td>11.0</td>\n",
       "      <td>200.0</td>\n",
       "    </tr>\n",
       "    <tr>\n",
       "      <th>410</th>\n",
       "      <td>5.0</td>\n",
       "      <td>89.90</td>\n",
       "      <td>23.0</td>\n",
       "      <td>23.0</td>\n",
       "      <td>18.0</td>\n",
       "      <td>200.0</td>\n",
       "    </tr>\n",
       "    <tr>\n",
       "      <th>411</th>\n",
       "      <td>5.0</td>\n",
       "      <td>129.90</td>\n",
       "      <td>16.0</td>\n",
       "      <td>11.0</td>\n",
       "      <td>11.0</td>\n",
       "      <td>300.0</td>\n",
       "    </tr>\n",
       "    <tr>\n",
       "      <th>412</th>\n",
       "      <td>5.0</td>\n",
       "      <td>159.90</td>\n",
       "      <td>18.0</td>\n",
       "      <td>12.0</td>\n",
       "      <td>10.0</td>\n",
       "      <td>317.0</td>\n",
       "    </tr>\n",
       "    <tr>\n",
       "      <th>413</th>\n",
       "      <td>5.0</td>\n",
       "      <td>153.90</td>\n",
       "      <td>16.0</td>\n",
       "      <td>15.0</td>\n",
       "      <td>17.0</td>\n",
       "      <td>361.0</td>\n",
       "    </tr>\n",
       "    <tr>\n",
       "      <th>1230</th>\n",
       "      <td>5.0</td>\n",
       "      <td>27.90</td>\n",
       "      <td>28.0</td>\n",
       "      <td>25.0</td>\n",
       "      <td>40.0</td>\n",
       "      <td>5275.0</td>\n",
       "    </tr>\n",
       "    <tr>\n",
       "      <th>1337</th>\n",
       "      <td>1.0</td>\n",
       "      <td>175.06</td>\n",
       "      <td>19.0</td>\n",
       "      <td>18.0</td>\n",
       "      <td>29.0</td>\n",
       "      <td>1500.0</td>\n",
       "    </tr>\n",
       "    <tr>\n",
       "      <th>1338</th>\n",
       "      <td>4.0</td>\n",
       "      <td>79.90</td>\n",
       "      <td>16.0</td>\n",
       "      <td>16.0</td>\n",
       "      <td>16.0</td>\n",
       "      <td>400.0</td>\n",
       "    </tr>\n",
       "    <tr>\n",
       "      <th>1339</th>\n",
       "      <td>4.0</td>\n",
       "      <td>79.90</td>\n",
       "      <td>16.0</td>\n",
       "      <td>16.0</td>\n",
       "      <td>16.0</td>\n",
       "      <td>400.0</td>\n",
       "    </tr>\n",
       "  </tbody>\n",
       "</table>\n",
       "</div>"
      ],
      "text/plain": [
       "      review_score   price  product_length_cm  product_width_cm  \\\n",
       "206            5.0   97.90               16.0              16.0   \n",
       "213            4.0   49.99               16.0              16.0   \n",
       "214            5.0   39.90               17.0              16.0   \n",
       "215            5.0   39.90               17.0              16.0   \n",
       "392            3.0  119.90               16.0              15.0   \n",
       "393            5.0  169.90               32.0              15.0   \n",
       "394            5.0  127.90               25.0              25.0   \n",
       "395            1.0  144.90               18.0              11.0   \n",
       "396            5.0  109.90               19.0              11.0   \n",
       "397            5.0   69.90               19.0              15.0   \n",
       "398            5.0  127.90               25.0              25.0   \n",
       "399            5.0  124.90               21.0              11.0   \n",
       "400            5.0   99.90               24.0              20.0   \n",
       "401            5.0  124.90               21.0              11.0   \n",
       "402            5.0  218.90               18.0              12.0   \n",
       "403            5.0  199.90               16.0              12.0   \n",
       "404            5.0  226.90               18.0              12.0   \n",
       "405            5.0   99.90               16.0              14.0   \n",
       "406            5.0   69.90               19.0              15.0   \n",
       "407            5.0  309.90               19.0              11.0   \n",
       "408            4.0   44.90               16.0              11.0   \n",
       "409            4.0   35.00               16.0              11.0   \n",
       "410            5.0   89.90               23.0              23.0   \n",
       "411            5.0  129.90               16.0              11.0   \n",
       "412            5.0  159.90               18.0              12.0   \n",
       "413            5.0  153.90               16.0              15.0   \n",
       "1230           5.0   27.90               28.0              25.0   \n",
       "1337           1.0  175.06               19.0              18.0   \n",
       "1338           4.0   79.90               16.0              16.0   \n",
       "1339           4.0   79.90               16.0              16.0   \n",
       "\n",
       "      product_height_cm  product_weight_g  \n",
       "206                16.0             200.0  \n",
       "213                16.0             400.0  \n",
       "214                14.0            1050.0  \n",
       "215                14.0            1050.0  \n",
       "392                16.0             270.0  \n",
       "393                11.0            1250.0  \n",
       "394                20.0             275.0  \n",
       "395                11.0             350.0  \n",
       "396                14.0             250.0  \n",
       "397                15.0             150.0  \n",
       "398                20.0             275.0  \n",
       "399                14.0             700.0  \n",
       "400                28.0            1167.0  \n",
       "401                14.0             700.0  \n",
       "402                12.0             700.0  \n",
       "403                12.0            1250.0  \n",
       "404                 9.0             825.0  \n",
       "405                15.0             355.0  \n",
       "406                11.0             517.0  \n",
       "407                14.0             600.0  \n",
       "408                11.0             200.0  \n",
       "409                11.0             200.0  \n",
       "410                18.0             200.0  \n",
       "411                11.0             300.0  \n",
       "412                10.0             317.0  \n",
       "413                17.0             361.0  \n",
       "1230               40.0            5275.0  \n",
       "1337               29.0            1500.0  \n",
       "1338               16.0             400.0  \n",
       "1339               16.0             400.0  "
      ]
     },
     "execution_count": 20,
     "metadata": {},
     "output_type": "execute_result"
    }
   ],
   "source": [
    "healthData.head(30)"
   ]
  },
  {
   "cell_type": "code",
   "execution_count": 21,
   "metadata": {},
   "outputs": [
    {
     "data": {
      "text/html": [
       "<div>\n",
       "<style scoped>\n",
       "    .dataframe tbody tr th:only-of-type {\n",
       "        vertical-align: middle;\n",
       "    }\n",
       "\n",
       "    .dataframe tbody tr th {\n",
       "        vertical-align: top;\n",
       "    }\n",
       "\n",
       "    .dataframe thead th {\n",
       "        text-align: right;\n",
       "    }\n",
       "</style>\n",
       "<table border=\"1\" class=\"dataframe\">\n",
       "  <thead>\n",
       "    <tr style=\"text-align: right;\">\n",
       "      <th></th>\n",
       "      <th>review_score</th>\n",
       "      <th>price</th>\n",
       "      <th>product_length_cm</th>\n",
       "      <th>product_width_cm</th>\n",
       "      <th>product_height_cm</th>\n",
       "      <th>product_weight_g</th>\n",
       "    </tr>\n",
       "  </thead>\n",
       "  <tbody>\n",
       "    <tr>\n",
       "      <th>count</th>\n",
       "      <td>816.000000</td>\n",
       "      <td>816.000000</td>\n",
       "      <td>816.000000</td>\n",
       "      <td>816.000000</td>\n",
       "      <td>816.000000</td>\n",
       "      <td>816.000000</td>\n",
       "    </tr>\n",
       "    <tr>\n",
       "      <th>mean</th>\n",
       "      <td>4.281863</td>\n",
       "      <td>104.485074</td>\n",
       "      <td>22.727941</td>\n",
       "      <td>16.898284</td>\n",
       "      <td>12.850490</td>\n",
       "      <td>1261.602941</td>\n",
       "    </tr>\n",
       "    <tr>\n",
       "      <th>std</th>\n",
       "      <td>1.289491</td>\n",
       "      <td>86.576613</td>\n",
       "      <td>10.517389</td>\n",
       "      <td>4.677653</td>\n",
       "      <td>12.818495</td>\n",
       "      <td>3163.168993</td>\n",
       "    </tr>\n",
       "    <tr>\n",
       "      <th>min</th>\n",
       "      <td>1.000000</td>\n",
       "      <td>7.650000</td>\n",
       "      <td>14.000000</td>\n",
       "      <td>11.000000</td>\n",
       "      <td>2.000000</td>\n",
       "      <td>50.000000</td>\n",
       "    </tr>\n",
       "    <tr>\n",
       "      <th>25%</th>\n",
       "      <td>4.000000</td>\n",
       "      <td>49.990000</td>\n",
       "      <td>19.000000</td>\n",
       "      <td>15.000000</td>\n",
       "      <td>3.000000</td>\n",
       "      <td>150.000000</td>\n",
       "    </tr>\n",
       "    <tr>\n",
       "      <th>50%</th>\n",
       "      <td>5.000000</td>\n",
       "      <td>110.320000</td>\n",
       "      <td>22.000000</td>\n",
       "      <td>15.000000</td>\n",
       "      <td>11.000000</td>\n",
       "      <td>267.000000</td>\n",
       "    </tr>\n",
       "    <tr>\n",
       "      <th>75%</th>\n",
       "      <td>5.000000</td>\n",
       "      <td>110.320000</td>\n",
       "      <td>22.000000</td>\n",
       "      <td>18.000000</td>\n",
       "      <td>18.000000</td>\n",
       "      <td>1075.000000</td>\n",
       "    </tr>\n",
       "    <tr>\n",
       "      <th>max</th>\n",
       "      <td>5.000000</td>\n",
       "      <td>682.980000</td>\n",
       "      <td>87.000000</td>\n",
       "      <td>48.000000</td>\n",
       "      <td>88.000000</td>\n",
       "      <td>27050.000000</td>\n",
       "    </tr>\n",
       "  </tbody>\n",
       "</table>\n",
       "</div>"
      ],
      "text/plain": [
       "       review_score       price  product_length_cm  product_width_cm  \\\n",
       "count    816.000000  816.000000         816.000000        816.000000   \n",
       "mean       4.281863  104.485074          22.727941         16.898284   \n",
       "std        1.289491   86.576613          10.517389          4.677653   \n",
       "min        1.000000    7.650000          14.000000         11.000000   \n",
       "25%        4.000000   49.990000          19.000000         15.000000   \n",
       "50%        5.000000  110.320000          22.000000         15.000000   \n",
       "75%        5.000000  110.320000          22.000000         18.000000   \n",
       "max        5.000000  682.980000          87.000000         48.000000   \n",
       "\n",
       "       product_height_cm  product_weight_g  \n",
       "count         816.000000        816.000000  \n",
       "mean           12.850490       1261.602941  \n",
       "std            12.818495       3163.168993  \n",
       "min             2.000000         50.000000  \n",
       "25%             3.000000        150.000000  \n",
       "50%            11.000000        267.000000  \n",
       "75%            18.000000       1075.000000  \n",
       "max            88.000000      27050.000000  "
      ]
     },
     "execution_count": 21,
     "metadata": {},
     "output_type": "execute_result"
    }
   ],
   "source": [
    "healthData.describe()"
   ]
  },
  {
   "cell_type": "code",
   "execution_count": 22,
   "metadata": {},
   "outputs": [
    {
     "data": {
      "text/plain": [
       "array([  0.,   0.,   0.,   1.,   0.,  22.,  15.,   3., 200.])"
      ]
     },
     "execution_count": 22,
     "metadata": {},
     "output_type": "execute_result"
    }
   ],
   "source": [
    "X_train,X_test,y_train,y_test=train_data(healthData)\n",
    "X_train[0]"
   ]
  },
  {
   "cell_type": "code",
   "execution_count": 23,
   "metadata": {},
   "outputs": [
    {
     "data": {
      "text/plain": [
       "LinearRegression()"
      ]
     },
     "execution_count": 23,
     "metadata": {},
     "output_type": "execute_result"
    }
   ],
   "source": [
    "from sklearn.linear_model import LinearRegression\n",
    "model=LinearRegression()\n",
    "model.fit(X_train,y_train)"
   ]
  },
  {
   "cell_type": "code",
   "execution_count": 24,
   "metadata": {},
   "outputs": [
    {
     "data": {
      "text/plain": [
       "array([49.48021787])"
      ]
     },
     "execution_count": 24,
     "metadata": {},
     "output_type": "execute_result"
    }
   ],
   "source": [
    "model.predict([[1,0,0,0,0,16,16,16,200]])"
   ]
  },
  {
   "cell_type": "code",
   "execution_count": 25,
   "metadata": {},
   "outputs": [
    {
     "data": {
      "text/plain": [
       "array([117.45823612])"
      ]
     },
     "execution_count": 25,
     "metadata": {},
     "output_type": "execute_result"
    }
   ],
   "source": [
    "model.predict([[0,0,0,0,1,32,32,32,200]])"
   ]
  },
  {
   "cell_type": "code",
   "execution_count": 26,
   "metadata": {},
   "outputs": [
    {
     "data": {
      "text/plain": [
       "array([85.25500274])"
      ]
     },
     "execution_count": 26,
     "metadata": {},
     "output_type": "execute_result"
    }
   ],
   "source": [
    "model.predict([[1,0,0,0,0,32,32,32,200]])"
   ]
  },
  {
   "cell_type": "code",
   "execution_count": 27,
   "metadata": {},
   "outputs": [
    {
     "data": {
      "text/plain": [
       "array([91.88912711])"
      ]
     },
     "execution_count": 27,
     "metadata": {},
     "output_type": "execute_result"
    }
   ],
   "source": [
    "model.predict([[0,0,0,0,1,16,16,16,1000]])"
   ]
  },
  {
   "cell_type": "code",
   "execution_count": 28,
   "metadata": {},
   "outputs": [
    {
     "data": {
      "text/plain": [
       "array([59.68589373])"
      ]
     },
     "execution_count": 28,
     "metadata": {},
     "output_type": "execute_result"
    }
   ],
   "source": [
    "model.predict([[1,0,0,0,0,16,16,16,1000]])"
   ]
  },
  {
   "cell_type": "code",
   "execution_count": 29,
   "metadata": {},
   "outputs": [
    {
     "data": {
      "text/plain": [
       "array([127.66391197])"
      ]
     },
     "execution_count": 29,
     "metadata": {},
     "output_type": "execute_result"
    }
   ],
   "source": [
    "model.predict([[0,0,0,0,1,32,32,32,1000]])"
   ]
  },
  {
   "cell_type": "code",
   "execution_count": 30,
   "metadata": {},
   "outputs": [
    {
     "data": {
      "text/plain": [
       "array([95.46067859])"
      ]
     },
     "execution_count": 30,
     "metadata": {},
     "output_type": "execute_result"
    }
   ],
   "source": [
    "model.predict([[1,0,0,0,0,32,32,32,1000]])"
   ]
  },
  {
   "cell_type": "code",
   "execution_count": 31,
   "metadata": {},
   "outputs": [
    {
     "data": {
      "text/plain": [
       "0.3048523999228788"
      ]
     },
     "execution_count": 31,
     "metadata": {},
     "output_type": "execute_result"
    }
   ],
   "source": [
    "model.score(X_train,y_train)"
   ]
  },
  {
   "cell_type": "code",
   "execution_count": 32,
   "metadata": {},
   "outputs": [
    {
     "data": {
      "text/plain": [
       "array([67.32268935])"
      ]
     },
     "execution_count": 32,
     "metadata": {},
     "output_type": "execute_result"
    }
   ],
   "source": [
    "model.fit(X_test,y_test)\n",
    "model.predict([[0,0,0,0,1,16,16,16,200]])"
   ]
  },
  {
   "cell_type": "code",
   "execution_count": 33,
   "metadata": {},
   "outputs": [
    {
     "data": {
      "text/plain": [
       "array([90.94565003])"
      ]
     },
     "execution_count": 33,
     "metadata": {},
     "output_type": "execute_result"
    }
   ],
   "source": [
    "model.predict([[0,0,0,0,1,25,25,25,200]])"
   ]
  },
  {
   "cell_type": "code",
   "execution_count": 34,
   "metadata": {},
   "outputs": [
    {
     "data": {
      "text/plain": [
       "array([74.18836439])"
      ]
     },
     "execution_count": 34,
     "metadata": {},
     "output_type": "execute_result"
    }
   ],
   "source": [
    "model.predict([[0,0,0,0,1,16,16,16,1000]])"
   ]
  },
  {
   "cell_type": "code",
   "execution_count": 35,
   "metadata": {},
   "outputs": [
    {
     "data": {
      "text/plain": [
       "array([97.81132508])"
      ]
     },
     "execution_count": 35,
     "metadata": {},
     "output_type": "execute_result"
    }
   ],
   "source": [
    "model.predict([[0,0,0,0,1,25,25,25,1000]])"
   ]
  },
  {
   "cell_type": "code",
   "execution_count": 36,
   "metadata": {},
   "outputs": [
    {
     "data": {
      "text/plain": [
       "array([100.20753209])"
      ]
     },
     "execution_count": 36,
     "metadata": {},
     "output_type": "execute_result"
    }
   ],
   "source": [
    "model.predict([[1,0,0,0,0,25,25,25,1000]])"
   ]
  },
  {
   "cell_type": "code",
   "execution_count": 37,
   "metadata": {},
   "outputs": [
    {
     "data": {
      "text/plain": [
       "array([69.71889636])"
      ]
     },
     "execution_count": 37,
     "metadata": {},
     "output_type": "execute_result"
    }
   ],
   "source": [
    "model.predict([[1,0,0,0,0,16,16,16,200]])"
   ]
  },
  {
   "cell_type": "code",
   "execution_count": 38,
   "metadata": {},
   "outputs": [
    {
     "data": {
      "text/plain": [
       "0.4006505478220742"
      ]
     },
     "execution_count": 38,
     "metadata": {},
     "output_type": "execute_result"
    }
   ],
   "source": [
    "model.score(X_test,y_test)"
   ]
  },
  {
   "cell_type": "markdown",
   "metadata": {},
   "source": [
    "### Watches Data"
   ]
  },
  {
   "cell_type": "code",
   "execution_count": 39,
   "metadata": {},
   "outputs": [],
   "source": [
    "watches=pricecatrev.loc[pricecatrev['business_segment'] == 'watches']\n",
    "watches=watches[watches['product_weight_g'] < 800.00]\n",
    "price_watches=pd.DataFrame(watches['price'])\n",
    "review_watches=pd.DataFrame(watches['review_score'])"
   ]
  },
  {
   "cell_type": "code",
   "execution_count": 40,
   "metadata": {},
   "outputs": [
    {
     "name": "stdout",
     "output_type": "stream",
     "text": [
      "<class 'pandas.core.frame.DataFrame'>\n",
      "Int64Index: 560 entries, 436 to 8063\n",
      "Data columns (total 39 columns):\n",
      " #   Column                         Non-Null Count  Dtype  \n",
      "---  ------                         --------------  -----  \n",
      " 0   Unnamed: 0                     560 non-null    int64  \n",
      " 1   mql_id                         560 non-null    object \n",
      " 2   first_contact_date             560 non-null    object \n",
      " 3   landing_page_id                560 non-null    object \n",
      " 4   origin                         560 non-null    object \n",
      " 5   seller_id                      560 non-null    object \n",
      " 6   sdr_id                         560 non-null    object \n",
      " 7   sr_id                          560 non-null    object \n",
      " 8   won_date                       560 non-null    object \n",
      " 9   business_segment               560 non-null    object \n",
      " 10  lead_type                      560 non-null    object \n",
      " 11  lead_behaviour_profile         15 non-null     object \n",
      " 12  has_company                    0 non-null      object \n",
      " 13  has_gtin                       0 non-null      object \n",
      " 14  average_stock                  0 non-null      object \n",
      " 15  business_type                  560 non-null    object \n",
      " 16  declared_product_catalog_size  0 non-null      float64\n",
      " 17  declared_monthly_revenue       560 non-null    float64\n",
      " 18  order_id                       560 non-null    object \n",
      " 19  order_item_id                  560 non-null    float64\n",
      " 20  product_id                     560 non-null    object \n",
      " 21  shipping_limit_date            560 non-null    object \n",
      " 22  price                          560 non-null    float64\n",
      " 23  freight_value                  560 non-null    float64\n",
      " 24  product_category_name          560 non-null    object \n",
      " 25  product_name_lenght            560 non-null    float64\n",
      " 26  product_description_lenght     560 non-null    float64\n",
      " 27  product_photos_qty             560 non-null    float64\n",
      " 28  product_weight_g               560 non-null    float64\n",
      " 29  product_length_cm              560 non-null    float64\n",
      " 30  product_height_cm              560 non-null    float64\n",
      " 31  product_width_cm               560 non-null    float64\n",
      " 32  product_category_name_english  560 non-null    object \n",
      " 33  review_id                      560 non-null    object \n",
      " 34  review_score                   560 non-null    float64\n",
      " 35  review_comment_title           184 non-null    object \n",
      " 36  review_comment_message         230 non-null    object \n",
      " 37  review_creation_date           560 non-null    object \n",
      " 38  review_answer_timestamp        560 non-null    object \n",
      "dtypes: float64(13), int64(1), object(25)\n",
      "memory usage: 175.0+ KB\n"
     ]
    }
   ],
   "source": [
    "watches.info()"
   ]
  },
  {
   "cell_type": "code",
   "execution_count": 41,
   "metadata": {},
   "outputs": [
    {
     "data": {
      "text/html": [
       "<div>\n",
       "<style scoped>\n",
       "    .dataframe tbody tr th:only-of-type {\n",
       "        vertical-align: middle;\n",
       "    }\n",
       "\n",
       "    .dataframe tbody tr th {\n",
       "        vertical-align: top;\n",
       "    }\n",
       "\n",
       "    .dataframe thead th {\n",
       "        text-align: right;\n",
       "    }\n",
       "</style>\n",
       "<table border=\"1\" class=\"dataframe\">\n",
       "  <thead>\n",
       "    <tr style=\"text-align: right;\">\n",
       "      <th></th>\n",
       "      <th>price</th>\n",
       "    </tr>\n",
       "  </thead>\n",
       "  <tbody>\n",
       "    <tr>\n",
       "      <th>count</th>\n",
       "      <td>560.000000</td>\n",
       "    </tr>\n",
       "    <tr>\n",
       "      <th>mean</th>\n",
       "      <td>197.500357</td>\n",
       "    </tr>\n",
       "    <tr>\n",
       "      <th>std</th>\n",
       "      <td>145.367376</td>\n",
       "    </tr>\n",
       "    <tr>\n",
       "      <th>min</th>\n",
       "      <td>55.000000</td>\n",
       "    </tr>\n",
       "    <tr>\n",
       "      <th>25%</th>\n",
       "      <td>110.000000</td>\n",
       "    </tr>\n",
       "    <tr>\n",
       "      <th>50%</th>\n",
       "      <td>127.175000</td>\n",
       "    </tr>\n",
       "    <tr>\n",
       "      <th>75%</th>\n",
       "      <td>219.000000</td>\n",
       "    </tr>\n",
       "    <tr>\n",
       "      <th>max</th>\n",
       "      <td>680.000000</td>\n",
       "    </tr>\n",
       "  </tbody>\n",
       "</table>\n",
       "</div>"
      ],
      "text/plain": [
       "            price\n",
       "count  560.000000\n",
       "mean   197.500357\n",
       "std    145.367376\n",
       "min     55.000000\n",
       "25%    110.000000\n",
       "50%    127.175000\n",
       "75%    219.000000\n",
       "max    680.000000"
      ]
     },
     "execution_count": 41,
     "metadata": {},
     "output_type": "execute_result"
    }
   ],
   "source": [
    "price_watches.describe()"
   ]
  },
  {
   "cell_type": "code",
   "execution_count": 42,
   "metadata": {},
   "outputs": [
    {
     "data": {
      "text/plain": [
       "review_score\n",
       "5.0             315\n",
       "4.0             103\n",
       "1.0              76\n",
       "3.0              38\n",
       "2.0              28\n",
       "dtype: int64"
      ]
     },
     "execution_count": 42,
     "metadata": {},
     "output_type": "execute_result"
    }
   ],
   "source": [
    "review_watches.value_counts()"
   ]
  },
  {
   "cell_type": "code",
   "execution_count": 43,
   "metadata": {},
   "outputs": [
    {
     "data": {
      "image/png": "[encoded data removed]",
      "text/plain": [
       "<Figure size 1728x432 with 3 Axes>"
      ]
     },
     "metadata": {},
     "output_type": "display_data"
    }
   ],
   "source": [
    "plot_price(price_watches)"
   ]
  },
  {
   "cell_type": "code",
   "execution_count": 44,
   "metadata": {},
   "outputs": [
    {
     "data": {
      "image/png": "[encoded data removed]",
      "text/plain": [
       "<Figure size 360x360 with 1 Axes>"
      ]
     },
     "metadata": {},
     "output_type": "display_data"
    }
   ],
   "source": [
    "plot_review(review_watches)"
   ]
  },
  {
   "cell_type": "code",
   "execution_count": 45,
   "metadata": {},
   "outputs": [
    {
     "data": {
      "image/png": "[encoded data removed]",
      "text/plain": [
       "<Figure size 1296x432 with 1 Axes>"
      ]
     },
     "metadata": {},
     "output_type": "display_data"
    }
   ],
   "source": [
    "plot_both(review_watches,price_watches)"
   ]
  },
  {
   "cell_type": "code",
   "execution_count": 46,
   "metadata": {},
   "outputs": [
    {
     "name": "stderr",
     "output_type": "stream",
     "text": [
      "C:\\Users\\Daren\\anaconda3\\lib\\site-packages\\seaborn\\categorical.py:1296: UserWarning: 19.4% of the points cannot be placed; you may want to decrease the size of the markers or use stripplot.\n",
      "  warnings.warn(msg, UserWarning)\n",
      "C:\\Users\\Daren\\anaconda3\\lib\\site-packages\\seaborn\\categorical.py:1296: UserWarning: 44.8% of the points cannot be placed; you may want to decrease the size of the markers or use stripplot.\n",
      "  warnings.warn(msg, UserWarning)\n"
     ]
    },
    {
     "data": {
      "image/png": "[encoded data removed]",
      "text/plain": [
       "<Figure size 1296x432 with 1 Axes>"
      ]
     },
     "metadata": {},
     "output_type": "display_data"
    }
   ],
   "source": [
    "plot_scatter(review_watches,price_watches)"
   ]
  },
  {
   "cell_type": "code",
   "execution_count": 47,
   "metadata": {},
   "outputs": [
    {
     "data": {
      "text/html": [
       "<div>\n",
       "<style scoped>\n",
       "    .dataframe tbody tr th:only-of-type {\n",
       "        vertical-align: middle;\n",
       "    }\n",
       "\n",
       "    .dataframe tbody tr th {\n",
       "        vertical-align: top;\n",
       "    }\n",
       "\n",
       "    .dataframe thead th {\n",
       "        text-align: right;\n",
       "    }\n",
       "</style>\n",
       "<table border=\"1\" class=\"dataframe\">\n",
       "  <thead>\n",
       "    <tr style=\"text-align: right;\">\n",
       "      <th></th>\n",
       "      <th>review_score</th>\n",
       "      <th>price</th>\n",
       "      <th>product_length_cm</th>\n",
       "      <th>product_width_cm</th>\n",
       "      <th>product_height_cm</th>\n",
       "      <th>product_weight_g</th>\n",
       "    </tr>\n",
       "  </thead>\n",
       "  <tbody>\n",
       "    <tr>\n",
       "      <th>436</th>\n",
       "      <td>5.0</td>\n",
       "      <td>99.90</td>\n",
       "      <td>16.0</td>\n",
       "      <td>13.0</td>\n",
       "      <td>11.0</td>\n",
       "      <td>584.0</td>\n",
       "    </tr>\n",
       "    <tr>\n",
       "      <th>437</th>\n",
       "      <td>5.0</td>\n",
       "      <td>540.00</td>\n",
       "      <td>19.0</td>\n",
       "      <td>14.0</td>\n",
       "      <td>13.0</td>\n",
       "      <td>710.0</td>\n",
       "    </tr>\n",
       "    <tr>\n",
       "      <th>439</th>\n",
       "      <td>5.0</td>\n",
       "      <td>320.00</td>\n",
       "      <td>17.0</td>\n",
       "      <td>12.0</td>\n",
       "      <td>9.0</td>\n",
       "      <td>342.0</td>\n",
       "    </tr>\n",
       "    <tr>\n",
       "      <th>440</th>\n",
       "      <td>5.0</td>\n",
       "      <td>175.00</td>\n",
       "      <td>17.0</td>\n",
       "      <td>13.0</td>\n",
       "      <td>11.0</td>\n",
       "      <td>483.0</td>\n",
       "    </tr>\n",
       "    <tr>\n",
       "      <th>441</th>\n",
       "      <td>2.0</td>\n",
       "      <td>99.90</td>\n",
       "      <td>16.0</td>\n",
       "      <td>13.0</td>\n",
       "      <td>11.0</td>\n",
       "      <td>584.0</td>\n",
       "    </tr>\n",
       "    <tr>\n",
       "      <th>443</th>\n",
       "      <td>1.0</td>\n",
       "      <td>467.00</td>\n",
       "      <td>17.0</td>\n",
       "      <td>14.0</td>\n",
       "      <td>11.0</td>\n",
       "      <td>425.0</td>\n",
       "    </tr>\n",
       "    <tr>\n",
       "      <th>444</th>\n",
       "      <td>5.0</td>\n",
       "      <td>118.00</td>\n",
       "      <td>20.0</td>\n",
       "      <td>16.0</td>\n",
       "      <td>14.0</td>\n",
       "      <td>444.0</td>\n",
       "    </tr>\n",
       "    <tr>\n",
       "      <th>445</th>\n",
       "      <td>4.0</td>\n",
       "      <td>230.00</td>\n",
       "      <td>18.0</td>\n",
       "      <td>13.0</td>\n",
       "      <td>10.0</td>\n",
       "      <td>346.0</td>\n",
       "    </tr>\n",
       "    <tr>\n",
       "      <th>446</th>\n",
       "      <td>2.0</td>\n",
       "      <td>128.89</td>\n",
       "      <td>16.0</td>\n",
       "      <td>13.0</td>\n",
       "      <td>11.0</td>\n",
       "      <td>584.0</td>\n",
       "    </tr>\n",
       "    <tr>\n",
       "      <th>447</th>\n",
       "      <td>5.0</td>\n",
       "      <td>115.00</td>\n",
       "      <td>16.0</td>\n",
       "      <td>13.0</td>\n",
       "      <td>11.0</td>\n",
       "      <td>584.0</td>\n",
       "    </tr>\n",
       "  </tbody>\n",
       "</table>\n",
       "</div>"
      ],
      "text/plain": [
       "     review_score   price  product_length_cm  product_width_cm  \\\n",
       "436           5.0   99.90               16.0              13.0   \n",
       "437           5.0  540.00               19.0              14.0   \n",
       "439           5.0  320.00               17.0              12.0   \n",
       "440           5.0  175.00               17.0              13.0   \n",
       "441           2.0   99.90               16.0              13.0   \n",
       "443           1.0  467.00               17.0              14.0   \n",
       "444           5.0  118.00               20.0              16.0   \n",
       "445           4.0  230.00               18.0              13.0   \n",
       "446           2.0  128.89               16.0              13.0   \n",
       "447           5.0  115.00               16.0              13.0   \n",
       "\n",
       "     product_height_cm  product_weight_g  \n",
       "436               11.0             584.0  \n",
       "437               13.0             710.0  \n",
       "439                9.0             342.0  \n",
       "440               11.0             483.0  \n",
       "441               11.0             584.0  \n",
       "443               11.0             425.0  \n",
       "444               14.0             444.0  \n",
       "445               10.0             346.0  \n",
       "446               11.0             584.0  \n",
       "447               11.0             584.0  "
      ]
     },
     "execution_count": 47,
     "metadata": {},
     "output_type": "execute_result"
    }
   ],
   "source": [
    "watchesData=set_data(watches)\n",
    "watchesData.head(10)"
   ]
  },
  {
   "cell_type": "code",
   "execution_count": 48,
   "metadata": {},
   "outputs": [
    {
     "data": {
      "text/html": [
       "<div>\n",
       "<style scoped>\n",
       "    .dataframe tbody tr th:only-of-type {\n",
       "        vertical-align: middle;\n",
       "    }\n",
       "\n",
       "    .dataframe tbody tr th {\n",
       "        vertical-align: top;\n",
       "    }\n",
       "\n",
       "    .dataframe thead th {\n",
       "        text-align: right;\n",
       "    }\n",
       "</style>\n",
       "<table border=\"1\" class=\"dataframe\">\n",
       "  <thead>\n",
       "    <tr style=\"text-align: right;\">\n",
       "      <th></th>\n",
       "      <th>review_score</th>\n",
       "      <th>price</th>\n",
       "      <th>product_length_cm</th>\n",
       "      <th>product_width_cm</th>\n",
       "      <th>product_height_cm</th>\n",
       "      <th>product_weight_g</th>\n",
       "    </tr>\n",
       "  </thead>\n",
       "  <tbody>\n",
       "    <tr>\n",
       "      <th>count</th>\n",
       "      <td>560.000000</td>\n",
       "      <td>560.000000</td>\n",
       "      <td>560.000000</td>\n",
       "      <td>560.000000</td>\n",
       "      <td>560.000000</td>\n",
       "      <td>560.000000</td>\n",
       "    </tr>\n",
       "    <tr>\n",
       "      <th>mean</th>\n",
       "      <td>2.987500</td>\n",
       "      <td>197.500357</td>\n",
       "      <td>17.182143</td>\n",
       "      <td>13.821429</td>\n",
       "      <td>11.248214</td>\n",
       "      <td>467.775000</td>\n",
       "    </tr>\n",
       "    <tr>\n",
       "      <th>std</th>\n",
       "      <td>1.433632</td>\n",
       "      <td>145.367376</td>\n",
       "      <td>1.331752</td>\n",
       "      <td>1.375835</td>\n",
       "      <td>1.377365</td>\n",
       "      <td>121.885336</td>\n",
       "    </tr>\n",
       "    <tr>\n",
       "      <th>min</th>\n",
       "      <td>0.000000</td>\n",
       "      <td>55.000000</td>\n",
       "      <td>13.000000</td>\n",
       "      <td>12.000000</td>\n",
       "      <td>8.000000</td>\n",
       "      <td>132.000000</td>\n",
       "    </tr>\n",
       "    <tr>\n",
       "      <th>25%</th>\n",
       "      <td>2.000000</td>\n",
       "      <td>110.000000</td>\n",
       "      <td>16.000000</td>\n",
       "      <td>13.000000</td>\n",
       "      <td>11.000000</td>\n",
       "      <td>343.000000</td>\n",
       "    </tr>\n",
       "    <tr>\n",
       "      <th>50%</th>\n",
       "      <td>4.000000</td>\n",
       "      <td>127.175000</td>\n",
       "      <td>17.000000</td>\n",
       "      <td>13.000000</td>\n",
       "      <td>11.000000</td>\n",
       "      <td>467.000000</td>\n",
       "    </tr>\n",
       "    <tr>\n",
       "      <th>75%</th>\n",
       "      <td>4.000000</td>\n",
       "      <td>219.000000</td>\n",
       "      <td>18.000000</td>\n",
       "      <td>15.000000</td>\n",
       "      <td>12.000000</td>\n",
       "      <td>584.000000</td>\n",
       "    </tr>\n",
       "    <tr>\n",
       "      <th>max</th>\n",
       "      <td>4.000000</td>\n",
       "      <td>680.000000</td>\n",
       "      <td>23.000000</td>\n",
       "      <td>19.000000</td>\n",
       "      <td>14.000000</td>\n",
       "      <td>710.000000</td>\n",
       "    </tr>\n",
       "  </tbody>\n",
       "</table>\n",
       "</div>"
      ],
      "text/plain": [
       "       review_score       price  product_length_cm  product_width_cm  \\\n",
       "count    560.000000  560.000000         560.000000        560.000000   \n",
       "mean       2.987500  197.500357          17.182143         13.821429   \n",
       "std        1.433632  145.367376           1.331752          1.375835   \n",
       "min        0.000000   55.000000          13.000000         12.000000   \n",
       "25%        2.000000  110.000000          16.000000         13.000000   \n",
       "50%        4.000000  127.175000          17.000000         13.000000   \n",
       "75%        4.000000  219.000000          18.000000         15.000000   \n",
       "max        4.000000  680.000000          23.000000         19.000000   \n",
       "\n",
       "       product_height_cm  product_weight_g  \n",
       "count         560.000000        560.000000  \n",
       "mean           11.248214        467.775000  \n",
       "std             1.377365        121.885336  \n",
       "min             8.000000        132.000000  \n",
       "25%            11.000000        343.000000  \n",
       "50%            11.000000        467.000000  \n",
       "75%            12.000000        584.000000  \n",
       "max            14.000000        710.000000  "
      ]
     },
     "execution_count": 48,
     "metadata": {},
     "output_type": "execute_result"
    }
   ],
   "source": [
    "X_train,X_test,y_train,y_test=train_data(watchesData)\n",
    "watchesData.describe()"
   ]
  },
  {
   "cell_type": "code",
   "execution_count": 49,
   "metadata": {},
   "outputs": [
    {
     "data": {
      "text/plain": [
       "array([134.47033559])"
      ]
     },
     "execution_count": 49,
     "metadata": {},
     "output_type": "execute_result"
    }
   ],
   "source": [
    "model.fit(X_train,y_train)\n",
    "model.predict([[0,0,0,0,1,16,13,11,400]])"
   ]
  },
  {
   "cell_type": "code",
   "execution_count": 50,
   "metadata": {},
   "outputs": [
    {
     "data": {
      "text/plain": [
       "array([165.29580413])"
      ]
     },
     "execution_count": 50,
     "metadata": {},
     "output_type": "execute_result"
    }
   ],
   "source": [
    "model.predict([[1,0,0,0,0,16,13,11,400]])"
   ]
  },
  {
   "cell_type": "code",
   "execution_count": 51,
   "metadata": {},
   "outputs": [
    {
     "data": {
      "text/plain": [
       "array([290.35056582])"
      ]
     },
     "execution_count": 51,
     "metadata": {},
     "output_type": "execute_result"
    }
   ],
   "source": [
    "model.predict([[0,0,0,0,1,20,13,11,400]])"
   ]
  },
  {
   "cell_type": "code",
   "execution_count": 52,
   "metadata": {},
   "outputs": [
    {
     "data": {
      "text/plain": [
       "array([321.17603436])"
      ]
     },
     "execution_count": 52,
     "metadata": {},
     "output_type": "execute_result"
    }
   ],
   "source": [
    "model.predict([[1,0,0,0,0,20,13,11,400]])"
   ]
  },
  {
   "cell_type": "code",
   "execution_count": 53,
   "metadata": {},
   "outputs": [
    {
     "data": {
      "text/plain": [
       "array([179.86749876])"
      ]
     },
     "execution_count": 53,
     "metadata": {},
     "output_type": "execute_result"
    }
   ],
   "source": [
    "model.predict([[0,0,0,0,1,16,13,11,700]])"
   ]
  },
  {
   "cell_type": "code",
   "execution_count": 54,
   "metadata": {},
   "outputs": [
    {
     "data": {
      "text/plain": [
       "array([210.69296731])"
      ]
     },
     "execution_count": 54,
     "metadata": {},
     "output_type": "execute_result"
    }
   ],
   "source": [
    "model.predict([[1,0,0,0,0,16,13,11,700]])"
   ]
  },
  {
   "cell_type": "code",
   "execution_count": 55,
   "metadata": {},
   "outputs": [
    {
     "data": {
      "text/plain": [
       "array([335.747729])"
      ]
     },
     "execution_count": 55,
     "metadata": {},
     "output_type": "execute_result"
    }
   ],
   "source": [
    "model.predict([[0,0,0,0,1,20,13,11,700]])"
   ]
  },
  {
   "cell_type": "code",
   "execution_count": 57,
   "metadata": {},
   "outputs": [
    {
     "data": {
      "text/plain": [
       "array([366.57319754])"
      ]
     },
     "execution_count": 57,
     "metadata": {},
     "output_type": "execute_result"
    }
   ],
   "source": [
    "model.predict([[1,0,0,0,0,20,13,11,700]])"
   ]
  },
  {
   "cell_type": "code",
   "execution_count": 58,
   "metadata": {},
   "outputs": [
    {
     "data": {
      "text/plain": [
       "0.13432526374114084"
      ]
     },
     "execution_count": 58,
     "metadata": {},
     "output_type": "execute_result"
    }
   ],
   "source": [
    "model.score(X_train,y_train)"
   ]
  },
  {
   "cell_type": "code",
   "execution_count": 59,
   "metadata": {},
   "outputs": [
    {
     "data": {
      "text/plain": [
       "array([128.97751955])"
      ]
     },
     "execution_count": 59,
     "metadata": {},
     "output_type": "execute_result"
    }
   ],
   "source": [
    "model.fit(X_test,y_test)\n",
    "model.predict([[0,0,0,0,1,16,13,11,584]])"
   ]
  },
  {
   "cell_type": "code",
   "execution_count": 60,
   "metadata": {},
   "outputs": [
    {
     "data": {
      "text/plain": [
       "0.235484589667471"
      ]
     },
     "execution_count": 60,
     "metadata": {},
     "output_type": "execute_result"
    }
   ],
   "source": [
    "model.score(X_test,y_test)"
   ]
  },
  {
   "cell_type": "markdown",
   "metadata": {},
   "source": [
    "### Household Utilities Data"
   ]
  },
  {
   "cell_type": "code",
   "execution_count": 61,
   "metadata": {},
   "outputs": [],
   "source": [
    "household=pricecatrev.loc[pricecatrev['business_segment']=='household_utilities']\n",
    "household=household[household['product_weight_g']<800]\n",
    "price_household=pd.DataFrame(household['price'])\n",
    "review_household=pd.DataFrame(household['review_score'])"
   ]
  },
  {
   "cell_type": "code",
   "execution_count": 62,
   "metadata": {},
   "outputs": [
    {
     "name": "stdout",
     "output_type": "stream",
     "text": [
      "<class 'pandas.core.frame.DataFrame'>\n",
      "Int64Index: 319 entries, 280 to 11283\n",
      "Data columns (total 39 columns):\n",
      " #   Column                         Non-Null Count  Dtype  \n",
      "---  ------                         --------------  -----  \n",
      " 0   Unnamed: 0                     319 non-null    int64  \n",
      " 1   mql_id                         319 non-null    object \n",
      " 2   first_contact_date             319 non-null    object \n",
      " 3   landing_page_id                319 non-null    object \n",
      " 4   origin                         319 non-null    object \n",
      " 5   seller_id                      319 non-null    object \n",
      " 6   sdr_id                         319 non-null    object \n",
      " 7   sr_id                          319 non-null    object \n",
      " 8   won_date                       319 non-null    object \n",
      " 9   business_segment               319 non-null    object \n",
      " 10  lead_type                      319 non-null    object \n",
      " 11  lead_behaviour_profile         205 non-null    object \n",
      " 12  has_company                    0 non-null      object \n",
      " 13  has_gtin                       0 non-null      object \n",
      " 14  average_stock                  0 non-null      object \n",
      " 15  business_type                  319 non-null    object \n",
      " 16  declared_product_catalog_size  0 non-null      float64\n",
      " 17  declared_monthly_revenue       319 non-null    float64\n",
      " 18  order_id                       319 non-null    object \n",
      " 19  order_item_id                  319 non-null    float64\n",
      " 20  product_id                     319 non-null    object \n",
      " 21  shipping_limit_date            319 non-null    object \n",
      " 22  price                          319 non-null    float64\n",
      " 23  freight_value                  319 non-null    float64\n",
      " 24  product_category_name          309 non-null    object \n",
      " 25  product_name_lenght            309 non-null    float64\n",
      " 26  product_description_lenght     309 non-null    float64\n",
      " 27  product_photos_qty             309 non-null    float64\n",
      " 28  product_weight_g               319 non-null    float64\n",
      " 29  product_length_cm              319 non-null    float64\n",
      " 30  product_height_cm              319 non-null    float64\n",
      " 31  product_width_cm               319 non-null    float64\n",
      " 32  product_category_name_english  309 non-null    object \n",
      " 33  review_id                      319 non-null    object \n",
      " 34  review_score                   319 non-null    float64\n",
      " 35  review_comment_title           109 non-null    object \n",
      " 36  review_comment_message         119 non-null    object \n",
      " 37  review_creation_date           319 non-null    object \n",
      " 38  review_answer_timestamp        319 non-null    object \n",
      "dtypes: float64(13), int64(1), object(25)\n",
      "memory usage: 99.7+ KB\n"
     ]
    }
   ],
   "source": [
    "household.info()"
   ]
  },
  {
   "cell_type": "code",
   "execution_count": 63,
   "metadata": {},
   "outputs": [
    {
     "data": {
      "text/html": [
       "<div>\n",
       "<style scoped>\n",
       "    .dataframe tbody tr th:only-of-type {\n",
       "        vertical-align: middle;\n",
       "    }\n",
       "\n",
       "    .dataframe tbody tr th {\n",
       "        vertical-align: top;\n",
       "    }\n",
       "\n",
       "    .dataframe thead th {\n",
       "        text-align: right;\n",
       "    }\n",
       "</style>\n",
       "<table border=\"1\" class=\"dataframe\">\n",
       "  <thead>\n",
       "    <tr style=\"text-align: right;\">\n",
       "      <th></th>\n",
       "      <th>price</th>\n",
       "    </tr>\n",
       "  </thead>\n",
       "  <tbody>\n",
       "    <tr>\n",
       "      <th>count</th>\n",
       "      <td>319.000000</td>\n",
       "    </tr>\n",
       "    <tr>\n",
       "      <th>mean</th>\n",
       "      <td>37.807712</td>\n",
       "    </tr>\n",
       "    <tr>\n",
       "      <th>std</th>\n",
       "      <td>33.980601</td>\n",
       "    </tr>\n",
       "    <tr>\n",
       "      <th>min</th>\n",
       "      <td>2.200000</td>\n",
       "    </tr>\n",
       "    <tr>\n",
       "      <th>25%</th>\n",
       "      <td>17.900000</td>\n",
       "    </tr>\n",
       "    <tr>\n",
       "      <th>50%</th>\n",
       "      <td>31.700000</td>\n",
       "    </tr>\n",
       "    <tr>\n",
       "      <th>75%</th>\n",
       "      <td>45.000000</td>\n",
       "    </tr>\n",
       "    <tr>\n",
       "      <th>max</th>\n",
       "      <td>255.000000</td>\n",
       "    </tr>\n",
       "  </tbody>\n",
       "</table>\n",
       "</div>"
      ],
      "text/plain": [
       "            price\n",
       "count  319.000000\n",
       "mean    37.807712\n",
       "std     33.980601\n",
       "min      2.200000\n",
       "25%     17.900000\n",
       "50%     31.700000\n",
       "75%     45.000000\n",
       "max    255.000000"
      ]
     },
     "execution_count": 63,
     "metadata": {},
     "output_type": "execute_result"
    }
   ],
   "source": [
    "price_household.describe()"
   ]
  },
  {
   "cell_type": "code",
   "execution_count": 64,
   "metadata": {},
   "outputs": [
    {
     "data": {
      "text/plain": [
       "review_score\n",
       "5.0             207\n",
       "4.0              51\n",
       "3.0              27\n",
       "1.0              25\n",
       "2.0               9\n",
       "dtype: int64"
      ]
     },
     "execution_count": 64,
     "metadata": {},
     "output_type": "execute_result"
    }
   ],
   "source": [
    "review_household.value_counts()"
   ]
  },
  {
   "cell_type": "code",
   "execution_count": 65,
   "metadata": {},
   "outputs": [
    {
     "data": {
      "image/png": "[encoded data removed]",
      "text/plain": [
       "<Figure size 1728x432 with 3 Axes>"
      ]
     },
     "metadata": {},
     "output_type": "display_data"
    }
   ],
   "source": [
    "plot_price(price_household)"
   ]
  },
  {
   "cell_type": "code",
   "execution_count": 66,
   "metadata": {},
   "outputs": [
    {
     "data": {
      "image/png": "[encoded data removed]",
      "text/plain": [
       "<Figure size 360x360 with 1 Axes>"
      ]
     },
     "metadata": {},
     "output_type": "display_data"
    }
   ],
   "source": [
    "plot_review(review_household)"
   ]
  },
  {
   "cell_type": "code",
   "execution_count": 67,
   "metadata": {},
   "outputs": [
    {
     "data": {
      "image/png": "[encoded data removed]",
      "text/plain": [
       "<Figure size 1296x432 with 1 Axes>"
      ]
     },
     "metadata": {},
     "output_type": "display_data"
    }
   ],
   "source": [
    "plot_both(review_household,price_household)"
   ]
  },
  {
   "cell_type": "code",
   "execution_count": 68,
   "metadata": {},
   "outputs": [
    {
     "name": "stderr",
     "output_type": "stream",
     "text": [
      "C:\\Users\\Daren\\anaconda3\\lib\\site-packages\\seaborn\\categorical.py:1296: UserWarning: 17.9% of the points cannot be placed; you may want to decrease the size of the markers or use stripplot.\n",
      "  warnings.warn(msg, UserWarning)\n"
     ]
    },
    {
     "data": {
      "image/png": "[encoded data removed]",
      "text/plain": [
       "<Figure size 1296x432 with 1 Axes>"
      ]
     },
     "metadata": {},
     "output_type": "display_data"
    }
   ],
   "source": [
    "plot_scatter(review_household,price_household)"
   ]
  },
  {
   "cell_type": "code",
   "execution_count": 69,
   "metadata": {},
   "outputs": [
    {
     "data": {
      "text/html": [
       "<div>\n",
       "<style scoped>\n",
       "    .dataframe tbody tr th:only-of-type {\n",
       "        vertical-align: middle;\n",
       "    }\n",
       "\n",
       "    .dataframe tbody tr th {\n",
       "        vertical-align: top;\n",
       "    }\n",
       "\n",
       "    .dataframe thead th {\n",
       "        text-align: right;\n",
       "    }\n",
       "</style>\n",
       "<table border=\"1\" class=\"dataframe\">\n",
       "  <thead>\n",
       "    <tr style=\"text-align: right;\">\n",
       "      <th></th>\n",
       "      <th>review_score</th>\n",
       "      <th>price</th>\n",
       "      <th>product_length_cm</th>\n",
       "      <th>product_width_cm</th>\n",
       "      <th>product_height_cm</th>\n",
       "      <th>product_weight_g</th>\n",
       "    </tr>\n",
       "  </thead>\n",
       "  <tbody>\n",
       "    <tr>\n",
       "      <th>280</th>\n",
       "      <td>5.0</td>\n",
       "      <td>21.5</td>\n",
       "      <td>21.0</td>\n",
       "      <td>12.0</td>\n",
       "      <td>7.0</td>\n",
       "      <td>650.0</td>\n",
       "    </tr>\n",
       "    <tr>\n",
       "      <th>281</th>\n",
       "      <td>5.0</td>\n",
       "      <td>24.5</td>\n",
       "      <td>22.0</td>\n",
       "      <td>12.0</td>\n",
       "      <td>8.0</td>\n",
       "      <td>750.0</td>\n",
       "    </tr>\n",
       "    <tr>\n",
       "      <th>282</th>\n",
       "      <td>5.0</td>\n",
       "      <td>24.5</td>\n",
       "      <td>22.0</td>\n",
       "      <td>12.0</td>\n",
       "      <td>8.0</td>\n",
       "      <td>750.0</td>\n",
       "    </tr>\n",
       "    <tr>\n",
       "      <th>283</th>\n",
       "      <td>5.0</td>\n",
       "      <td>24.5</td>\n",
       "      <td>22.0</td>\n",
       "      <td>12.0</td>\n",
       "      <td>8.0</td>\n",
       "      <td>750.0</td>\n",
       "    </tr>\n",
       "    <tr>\n",
       "      <th>284</th>\n",
       "      <td>5.0</td>\n",
       "      <td>15.5</td>\n",
       "      <td>20.0</td>\n",
       "      <td>11.0</td>\n",
       "      <td>6.0</td>\n",
       "      <td>583.0</td>\n",
       "    </tr>\n",
       "    <tr>\n",
       "      <th>285</th>\n",
       "      <td>5.0</td>\n",
       "      <td>9.8</td>\n",
       "      <td>21.0</td>\n",
       "      <td>21.0</td>\n",
       "      <td>6.0</td>\n",
       "      <td>338.0</td>\n",
       "    </tr>\n",
       "    <tr>\n",
       "      <th>286</th>\n",
       "      <td>4.0</td>\n",
       "      <td>19.2</td>\n",
       "      <td>20.0</td>\n",
       "      <td>11.0</td>\n",
       "      <td>6.0</td>\n",
       "      <td>583.0</td>\n",
       "    </tr>\n",
       "    <tr>\n",
       "      <th>287</th>\n",
       "      <td>5.0</td>\n",
       "      <td>19.2</td>\n",
       "      <td>20.0</td>\n",
       "      <td>11.0</td>\n",
       "      <td>6.0</td>\n",
       "      <td>583.0</td>\n",
       "    </tr>\n",
       "    <tr>\n",
       "      <th>288</th>\n",
       "      <td>5.0</td>\n",
       "      <td>15.5</td>\n",
       "      <td>20.0</td>\n",
       "      <td>11.0</td>\n",
       "      <td>6.0</td>\n",
       "      <td>583.0</td>\n",
       "    </tr>\n",
       "    <tr>\n",
       "      <th>289</th>\n",
       "      <td>5.0</td>\n",
       "      <td>2.2</td>\n",
       "      <td>22.0</td>\n",
       "      <td>15.0</td>\n",
       "      <td>2.0</td>\n",
       "      <td>54.0</td>\n",
       "    </tr>\n",
       "  </tbody>\n",
       "</table>\n",
       "</div>"
      ],
      "text/plain": [
       "     review_score  price  product_length_cm  product_width_cm  \\\n",
       "280           5.0   21.5               21.0              12.0   \n",
       "281           5.0   24.5               22.0              12.0   \n",
       "282           5.0   24.5               22.0              12.0   \n",
       "283           5.0   24.5               22.0              12.0   \n",
       "284           5.0   15.5               20.0              11.0   \n",
       "285           5.0    9.8               21.0              21.0   \n",
       "286           4.0   19.2               20.0              11.0   \n",
       "287           5.0   19.2               20.0              11.0   \n",
       "288           5.0   15.5               20.0              11.0   \n",
       "289           5.0    2.2               22.0              15.0   \n",
       "\n",
       "     product_height_cm  product_weight_g  \n",
       "280                7.0             650.0  \n",
       "281                8.0             750.0  \n",
       "282                8.0             750.0  \n",
       "283                8.0             750.0  \n",
       "284                6.0             583.0  \n",
       "285                6.0             338.0  \n",
       "286                6.0             583.0  \n",
       "287                6.0             583.0  \n",
       "288                6.0             583.0  \n",
       "289                2.0              54.0  "
      ]
     },
     "execution_count": 69,
     "metadata": {},
     "output_type": "execute_result"
    }
   ],
   "source": [
    "householdData=set_data(household)\n",
    "householdData.head(10)"
   ]
  },
  {
   "cell_type": "code",
   "execution_count": 70,
   "metadata": {
    "scrolled": true
   },
   "outputs": [
    {
     "data": {
      "text/html": [
       "<div>\n",
       "<style scoped>\n",
       "    .dataframe tbody tr th:only-of-type {\n",
       "        vertical-align: middle;\n",
       "    }\n",
       "\n",
       "    .dataframe tbody tr th {\n",
       "        vertical-align: top;\n",
       "    }\n",
       "\n",
       "    .dataframe thead th {\n",
       "        text-align: right;\n",
       "    }\n",
       "</style>\n",
       "<table border=\"1\" class=\"dataframe\">\n",
       "  <thead>\n",
       "    <tr style=\"text-align: right;\">\n",
       "      <th></th>\n",
       "      <th>review_score</th>\n",
       "      <th>price</th>\n",
       "      <th>product_length_cm</th>\n",
       "      <th>product_width_cm</th>\n",
       "      <th>product_height_cm</th>\n",
       "      <th>product_weight_g</th>\n",
       "    </tr>\n",
       "  </thead>\n",
       "  <tbody>\n",
       "    <tr>\n",
       "      <th>count</th>\n",
       "      <td>319.000000</td>\n",
       "      <td>319.000000</td>\n",
       "      <td>319.000000</td>\n",
       "      <td>319.000000</td>\n",
       "      <td>319.000000</td>\n",
       "      <td>319.000000</td>\n",
       "    </tr>\n",
       "    <tr>\n",
       "      <th>mean</th>\n",
       "      <td>3.272727</td>\n",
       "      <td>37.807712</td>\n",
       "      <td>24.210031</td>\n",
       "      <td>16.909091</td>\n",
       "      <td>10.432602</td>\n",
       "      <td>314.219436</td>\n",
       "    </tr>\n",
       "    <tr>\n",
       "      <th>std</th>\n",
       "      <td>1.217370</td>\n",
       "      <td>33.980601</td>\n",
       "      <td>6.927506</td>\n",
       "      <td>5.302297</td>\n",
       "      <td>6.732607</td>\n",
       "      <td>181.245504</td>\n",
       "    </tr>\n",
       "    <tr>\n",
       "      <th>min</th>\n",
       "      <td>0.000000</td>\n",
       "      <td>2.200000</td>\n",
       "      <td>16.000000</td>\n",
       "      <td>11.000000</td>\n",
       "      <td>2.000000</td>\n",
       "      <td>50.000000</td>\n",
       "    </tr>\n",
       "    <tr>\n",
       "      <th>25%</th>\n",
       "      <td>3.000000</td>\n",
       "      <td>17.900000</td>\n",
       "      <td>20.000000</td>\n",
       "      <td>12.000000</td>\n",
       "      <td>6.000000</td>\n",
       "      <td>150.000000</td>\n",
       "    </tr>\n",
       "    <tr>\n",
       "      <th>50%</th>\n",
       "      <td>4.000000</td>\n",
       "      <td>31.700000</td>\n",
       "      <td>22.000000</td>\n",
       "      <td>16.000000</td>\n",
       "      <td>8.000000</td>\n",
       "      <td>250.000000</td>\n",
       "    </tr>\n",
       "    <tr>\n",
       "      <th>75%</th>\n",
       "      <td>4.000000</td>\n",
       "      <td>45.000000</td>\n",
       "      <td>28.000000</td>\n",
       "      <td>20.000000</td>\n",
       "      <td>13.000000</td>\n",
       "      <td>425.000000</td>\n",
       "    </tr>\n",
       "    <tr>\n",
       "      <th>max</th>\n",
       "      <td>4.000000</td>\n",
       "      <td>255.000000</td>\n",
       "      <td>55.000000</td>\n",
       "      <td>35.000000</td>\n",
       "      <td>43.000000</td>\n",
       "      <td>750.000000</td>\n",
       "    </tr>\n",
       "  </tbody>\n",
       "</table>\n",
       "</div>"
      ],
      "text/plain": [
       "       review_score       price  product_length_cm  product_width_cm  \\\n",
       "count    319.000000  319.000000         319.000000        319.000000   \n",
       "mean       3.272727   37.807712          24.210031         16.909091   \n",
       "std        1.217370   33.980601           6.927506          5.302297   \n",
       "min        0.000000    2.200000          16.000000         11.000000   \n",
       "25%        3.000000   17.900000          20.000000         12.000000   \n",
       "50%        4.000000   31.700000          22.000000         16.000000   \n",
       "75%        4.000000   45.000000          28.000000         20.000000   \n",
       "max        4.000000  255.000000          55.000000         35.000000   \n",
       "\n",
       "       product_height_cm  product_weight_g  \n",
       "count         319.000000        319.000000  \n",
       "mean           10.432602        314.219436  \n",
       "std             6.732607        181.245504  \n",
       "min             2.000000         50.000000  \n",
       "25%             6.000000        150.000000  \n",
       "50%             8.000000        250.000000  \n",
       "75%            13.000000        425.000000  \n",
       "max            43.000000        750.000000  "
      ]
     },
     "execution_count": 70,
     "metadata": {},
     "output_type": "execute_result"
    }
   ],
   "source": [
    "X_train,X_test,y_train,y_test=train_data(householdData)\n",
    "householdData.describe()"
   ]
  },
  {
   "cell_type": "code",
   "execution_count": 71,
   "metadata": {},
   "outputs": [
    {
     "data": {
      "text/plain": [
       "array([26.86635388])"
      ]
     },
     "execution_count": 71,
     "metadata": {},
     "output_type": "execute_result"
    }
   ],
   "source": [
    "model.fit(X_train,y_train)\n",
    "model.predict([[0,0,0,0,1,22,20,13,54]])"
   ]
  },
  {
   "cell_type": "code",
   "execution_count": 72,
   "metadata": {},
   "outputs": [
    {
     "data": {
      "text/plain": [
       "array([13.85886545])"
      ]
     },
     "execution_count": 72,
     "metadata": {},
     "output_type": "execute_result"
    }
   ],
   "source": [
    "model.predict([[1,0,0,0,0,22,20,13,54]])"
   ]
  },
  {
   "cell_type": "code",
   "execution_count": 73,
   "metadata": {},
   "outputs": [
    {
     "data": {
      "text/plain": [
       "array([63.41271316])"
      ]
     },
     "execution_count": 73,
     "metadata": {},
     "output_type": "execute_result"
    }
   ],
   "source": [
    "model.predict([[0,0,0,0,1,22,20,13,750]])"
   ]
  },
  {
   "cell_type": "code",
   "execution_count": 74,
   "metadata": {},
   "outputs": [
    {
     "data": {
      "text/plain": [
       "array([50.40522473])"
      ]
     },
     "execution_count": 74,
     "metadata": {},
     "output_type": "execute_result"
    }
   ],
   "source": [
    "model.predict([[1,0,0,0,0,22,20,13,750]])"
   ]
  },
  {
   "cell_type": "code",
   "execution_count": 75,
   "metadata": {},
   "outputs": [
    {
     "data": {
      "text/plain": [
       "array([21.58070563])"
      ]
     },
     "execution_count": 75,
     "metadata": {},
     "output_type": "execute_result"
    }
   ],
   "source": [
    "model.predict([[0,0,0,0,1,12,12,8,50]])"
   ]
  },
  {
   "cell_type": "code",
   "execution_count": 76,
   "metadata": {},
   "outputs": [
    {
     "data": {
      "text/plain": [
       "array([8.57321719])"
      ]
     },
     "execution_count": 76,
     "metadata": {},
     "output_type": "execute_result"
    }
   ],
   "source": [
    "model.predict([[1,0,0,0,0,12,12,8,50]])"
   ]
  },
  {
   "cell_type": "code",
   "execution_count": 77,
   "metadata": {},
   "outputs": [
    {
     "data": {
      "text/plain": [
       "array([58.33710145])"
      ]
     },
     "execution_count": 77,
     "metadata": {},
     "output_type": "execute_result"
    }
   ],
   "source": [
    "model.predict([[0,0,0,0,1,12,12,8,750]])"
   ]
  },
  {
   "cell_type": "code",
   "execution_count": 78,
   "metadata": {},
   "outputs": [
    {
     "data": {
      "text/plain": [
       "array([45.32961302])"
      ]
     },
     "execution_count": 78,
     "metadata": {},
     "output_type": "execute_result"
    }
   ],
   "source": [
    "model.predict([[1,0,0,0,0,12,12,8,750]])"
   ]
  },
  {
   "cell_type": "code",
   "execution_count": 79,
   "metadata": {},
   "outputs": [
    {
     "data": {
      "text/plain": [
       "0.15453554980496997"
      ]
     },
     "execution_count": 79,
     "metadata": {},
     "output_type": "execute_result"
    }
   ],
   "source": [
    "model.score(X_train,y_train)"
   ]
  },
  {
   "cell_type": "code",
   "execution_count": 80,
   "metadata": {},
   "outputs": [
    {
     "data": {
      "text/plain": [
       "array([21.31192655])"
      ]
     },
     "execution_count": 80,
     "metadata": {},
     "output_type": "execute_result"
    }
   ],
   "source": [
    "model.fit(X_test,y_test)\n",
    "model.predict([[0,0,0,0,1,22,15,2,54]])"
   ]
  },
  {
   "cell_type": "code",
   "execution_count": 81,
   "metadata": {},
   "outputs": [
    {
     "data": {
      "text/plain": [
       "0.18084412933795835"
      ]
     },
     "execution_count": 81,
     "metadata": {},
     "output_type": "execute_result"
    }
   ],
   "source": [
    "model.score(X_test,y_test)"
   ]
  },
  {
   "cell_type": "markdown",
   "metadata": {},
   "source": [
    "### Home Decoration"
   ]
  },
  {
   "cell_type": "code",
   "execution_count": 82,
   "metadata": {},
   "outputs": [],
   "source": [
    "decor=pricecatrev.loc[pricecatrev['business_segment']=='home_decor']\n",
    "decor=decor[decor['product_weight_g']<2000.00]\n",
    "price_decor=pd.DataFrame(decor['price'])\n",
    "review_decor=pd.DataFrame(decor['review_score'])"
   ]
  },
  {
   "cell_type": "code",
   "execution_count": 83,
   "metadata": {},
   "outputs": [
    {
     "name": "stdout",
     "output_type": "stream",
     "text": [
      "<class 'pandas.core.frame.DataFrame'>\n",
      "Int64Index: 281 entries, 386 to 11903\n",
      "Data columns (total 39 columns):\n",
      " #   Column                         Non-Null Count  Dtype  \n",
      "---  ------                         --------------  -----  \n",
      " 0   Unnamed: 0                     281 non-null    int64  \n",
      " 1   mql_id                         281 non-null    object \n",
      " 2   first_contact_date             281 non-null    object \n",
      " 3   landing_page_id                281 non-null    object \n",
      " 4   origin                         281 non-null    object \n",
      " 5   seller_id                      281 non-null    object \n",
      " 6   sdr_id                         281 non-null    object \n",
      " 7   sr_id                          281 non-null    object \n",
      " 8   won_date                       281 non-null    object \n",
      " 9   business_segment               281 non-null    object \n",
      " 10  lead_type                      281 non-null    object \n",
      " 11  lead_behaviour_profile         162 non-null    object \n",
      " 12  has_company                    1 non-null      object \n",
      " 13  has_gtin                       1 non-null      object \n",
      " 14  average_stock                  1 non-null      object \n",
      " 15  business_type                  281 non-null    object \n",
      " 16  declared_product_catalog_size  0 non-null      float64\n",
      " 17  declared_monthly_revenue       281 non-null    float64\n",
      " 18  order_id                       281 non-null    object \n",
      " 19  order_item_id                  281 non-null    float64\n",
      " 20  product_id                     281 non-null    object \n",
      " 21  shipping_limit_date            281 non-null    object \n",
      " 22  price                          281 non-null    float64\n",
      " 23  freight_value                  281 non-null    float64\n",
      " 24  product_category_name          281 non-null    object \n",
      " 25  product_name_lenght            281 non-null    float64\n",
      " 26  product_description_lenght     281 non-null    float64\n",
      " 27  product_photos_qty             281 non-null    float64\n",
      " 28  product_weight_g               281 non-null    float64\n",
      " 29  product_length_cm              281 non-null    float64\n",
      " 30  product_height_cm              281 non-null    float64\n",
      " 31  product_width_cm               281 non-null    float64\n",
      " 32  product_category_name_english  281 non-null    object \n",
      " 33  review_id                      281 non-null    object \n",
      " 34  review_score                   281 non-null    float64\n",
      " 35  review_comment_title           83 non-null     object \n",
      " 36  review_comment_message         111 non-null    object \n",
      " 37  review_creation_date           281 non-null    object \n",
      " 38  review_answer_timestamp        281 non-null    object \n",
      "dtypes: float64(13), int64(1), object(25)\n",
      "memory usage: 87.8+ KB\n"
     ]
    }
   ],
   "source": [
    "decor.info()"
   ]
  },
  {
   "cell_type": "code",
   "execution_count": 84,
   "metadata": {},
   "outputs": [
    {
     "data": {
      "text/html": [
       "<div>\n",
       "<style scoped>\n",
       "    .dataframe tbody tr th:only-of-type {\n",
       "        vertical-align: middle;\n",
       "    }\n",
       "\n",
       "    .dataframe tbody tr th {\n",
       "        vertical-align: top;\n",
       "    }\n",
       "\n",
       "    .dataframe thead th {\n",
       "        text-align: right;\n",
       "    }\n",
       "</style>\n",
       "<table border=\"1\" class=\"dataframe\">\n",
       "  <thead>\n",
       "    <tr style=\"text-align: right;\">\n",
       "      <th></th>\n",
       "      <th>price</th>\n",
       "    </tr>\n",
       "  </thead>\n",
       "  <tbody>\n",
       "    <tr>\n",
       "      <th>count</th>\n",
       "      <td>281.000000</td>\n",
       "    </tr>\n",
       "    <tr>\n",
       "      <th>mean</th>\n",
       "      <td>52.206121</td>\n",
       "    </tr>\n",
       "    <tr>\n",
       "      <th>std</th>\n",
       "      <td>38.185092</td>\n",
       "    </tr>\n",
       "    <tr>\n",
       "      <th>min</th>\n",
       "      <td>7.990000</td>\n",
       "    </tr>\n",
       "    <tr>\n",
       "      <th>25%</th>\n",
       "      <td>25.900000</td>\n",
       "    </tr>\n",
       "    <tr>\n",
       "      <th>50%</th>\n",
       "      <td>39.150000</td>\n",
       "    </tr>\n",
       "    <tr>\n",
       "      <th>75%</th>\n",
       "      <td>69.900000</td>\n",
       "    </tr>\n",
       "    <tr>\n",
       "      <th>max</th>\n",
       "      <td>198.900000</td>\n",
       "    </tr>\n",
       "  </tbody>\n",
       "</table>\n",
       "</div>"
      ],
      "text/plain": [
       "            price\n",
       "count  281.000000\n",
       "mean    52.206121\n",
       "std     38.185092\n",
       "min      7.990000\n",
       "25%     25.900000\n",
       "50%     39.150000\n",
       "75%     69.900000\n",
       "max    198.900000"
      ]
     },
     "execution_count": 84,
     "metadata": {},
     "output_type": "execute_result"
    }
   ],
   "source": [
    "price_decor.describe()"
   ]
  },
  {
   "cell_type": "code",
   "execution_count": 85,
   "metadata": {},
   "outputs": [
    {
     "data": {
      "text/plain": [
       "review_score\n",
       "5.0             207\n",
       "4.0              51\n",
       "3.0              27\n",
       "1.0              25\n",
       "2.0               9\n",
       "dtype: int64"
      ]
     },
     "execution_count": 85,
     "metadata": {},
     "output_type": "execute_result"
    }
   ],
   "source": [
    "review_household.value_counts()"
   ]
  },
  {
   "cell_type": "code",
   "execution_count": 86,
   "metadata": {},
   "outputs": [
    {
     "data": {
      "image/png": "[encoded data removed]",
      "text/plain": [
       "<Figure size 1728x432 with 3 Axes>"
      ]
     },
     "metadata": {},
     "output_type": "display_data"
    }
   ],
   "source": [
    "plot_price(price_decor)"
   ]
  },
  {
   "cell_type": "code",
   "execution_count": 87,
   "metadata": {},
   "outputs": [
    {
     "data": {
      "image/png": "[encoded data removed]",
      "text/plain": [
       "<Figure size 360x360 with 1 Axes>"
      ]
     },
     "metadata": {},
     "output_type": "display_data"
    }
   ],
   "source": [
    "plot_review(review_decor)"
   ]
  },
  {
   "cell_type": "code",
   "execution_count": 88,
   "metadata": {},
   "outputs": [
    {
     "data": {
      "image/png": "[encoded data removed]",
      "text/plain": [
       "<Figure size 1296x432 with 1 Axes>"
      ]
     },
     "metadata": {},
     "output_type": "display_data"
    }
   ],
   "source": [
    "plot_both(review_decor,price_decor)"
   ]
  },
  {
   "cell_type": "code",
   "execution_count": 89,
   "metadata": {},
   "outputs": [
    {
     "data": {
      "image/png": "[encoded data removed]",
      "text/plain": [
       "<Figure size 1296x432 with 1 Axes>"
      ]
     },
     "metadata": {},
     "output_type": "display_data"
    }
   ],
   "source": [
    "plot_scatter(review_decor,price_decor)"
   ]
  },
  {
   "cell_type": "code",
   "execution_count": 90,
   "metadata": {},
   "outputs": [
    {
     "data": {
      "text/html": [
       "<div>\n",
       "<style scoped>\n",
       "    .dataframe tbody tr th:only-of-type {\n",
       "        vertical-align: middle;\n",
       "    }\n",
       "\n",
       "    .dataframe tbody tr th {\n",
       "        vertical-align: top;\n",
       "    }\n",
       "\n",
       "    .dataframe thead th {\n",
       "        text-align: right;\n",
       "    }\n",
       "</style>\n",
       "<table border=\"1\" class=\"dataframe\">\n",
       "  <thead>\n",
       "    <tr style=\"text-align: right;\">\n",
       "      <th></th>\n",
       "      <th>review_score</th>\n",
       "      <th>price</th>\n",
       "      <th>product_length_cm</th>\n",
       "      <th>product_width_cm</th>\n",
       "      <th>product_height_cm</th>\n",
       "      <th>product_weight_g</th>\n",
       "    </tr>\n",
       "  </thead>\n",
       "  <tbody>\n",
       "    <tr>\n",
       "      <th>386</th>\n",
       "      <td>5.0</td>\n",
       "      <td>139.00</td>\n",
       "      <td>30.0</td>\n",
       "      <td>30.0</td>\n",
       "      <td>4.0</td>\n",
       "      <td>1650.0</td>\n",
       "    </tr>\n",
       "    <tr>\n",
       "      <th>387</th>\n",
       "      <td>5.0</td>\n",
       "      <td>69.95</td>\n",
       "      <td>16.0</td>\n",
       "      <td>16.0</td>\n",
       "      <td>27.0</td>\n",
       "      <td>700.0</td>\n",
       "    </tr>\n",
       "    <tr>\n",
       "      <th>388</th>\n",
       "      <td>1.0</td>\n",
       "      <td>139.00</td>\n",
       "      <td>32.0</td>\n",
       "      <td>32.0</td>\n",
       "      <td>4.0</td>\n",
       "      <td>1700.0</td>\n",
       "    </tr>\n",
       "    <tr>\n",
       "      <th>1034</th>\n",
       "      <td>5.0</td>\n",
       "      <td>14.90</td>\n",
       "      <td>30.0</td>\n",
       "      <td>30.0</td>\n",
       "      <td>15.0</td>\n",
       "      <td>750.0</td>\n",
       "    </tr>\n",
       "    <tr>\n",
       "      <th>1035</th>\n",
       "      <td>5.0</td>\n",
       "      <td>17.90</td>\n",
       "      <td>40.0</td>\n",
       "      <td>31.0</td>\n",
       "      <td>15.0</td>\n",
       "      <td>950.0</td>\n",
       "    </tr>\n",
       "    <tr>\n",
       "      <th>1036</th>\n",
       "      <td>5.0</td>\n",
       "      <td>14.90</td>\n",
       "      <td>30.0</td>\n",
       "      <td>30.0</td>\n",
       "      <td>15.0</td>\n",
       "      <td>750.0</td>\n",
       "    </tr>\n",
       "    <tr>\n",
       "      <th>1038</th>\n",
       "      <td>1.0</td>\n",
       "      <td>17.90</td>\n",
       "      <td>40.0</td>\n",
       "      <td>31.0</td>\n",
       "      <td>15.0</td>\n",
       "      <td>950.0</td>\n",
       "    </tr>\n",
       "    <tr>\n",
       "      <th>1039</th>\n",
       "      <td>1.0</td>\n",
       "      <td>17.90</td>\n",
       "      <td>40.0</td>\n",
       "      <td>31.0</td>\n",
       "      <td>15.0</td>\n",
       "      <td>950.0</td>\n",
       "    </tr>\n",
       "    <tr>\n",
       "      <th>1040</th>\n",
       "      <td>1.0</td>\n",
       "      <td>17.90</td>\n",
       "      <td>40.0</td>\n",
       "      <td>31.0</td>\n",
       "      <td>15.0</td>\n",
       "      <td>950.0</td>\n",
       "    </tr>\n",
       "    <tr>\n",
       "      <th>1041</th>\n",
       "      <td>1.0</td>\n",
       "      <td>17.90</td>\n",
       "      <td>40.0</td>\n",
       "      <td>31.0</td>\n",
       "      <td>15.0</td>\n",
       "      <td>950.0</td>\n",
       "    </tr>\n",
       "  </tbody>\n",
       "</table>\n",
       "</div>"
      ],
      "text/plain": [
       "      review_score   price  product_length_cm  product_width_cm  \\\n",
       "386            5.0  139.00               30.0              30.0   \n",
       "387            5.0   69.95               16.0              16.0   \n",
       "388            1.0  139.00               32.0              32.0   \n",
       "1034           5.0   14.90               30.0              30.0   \n",
       "1035           5.0   17.90               40.0              31.0   \n",
       "1036           5.0   14.90               30.0              30.0   \n",
       "1038           1.0   17.90               40.0              31.0   \n",
       "1039           1.0   17.90               40.0              31.0   \n",
       "1040           1.0   17.90               40.0              31.0   \n",
       "1041           1.0   17.90               40.0              31.0   \n",
       "\n",
       "      product_height_cm  product_weight_g  \n",
       "386                 4.0            1650.0  \n",
       "387                27.0             700.0  \n",
       "388                 4.0            1700.0  \n",
       "1034               15.0             750.0  \n",
       "1035               15.0             950.0  \n",
       "1036               15.0             750.0  \n",
       "1038               15.0             950.0  \n",
       "1039               15.0             950.0  \n",
       "1040               15.0             950.0  \n",
       "1041               15.0             950.0  "
      ]
     },
     "execution_count": 90,
     "metadata": {},
     "output_type": "execute_result"
    }
   ],
   "source": [
    "decorData=set_data(decor)\n",
    "decorData.head(10)"
   ]
  },
  {
   "cell_type": "code",
   "execution_count": 91,
   "metadata": {},
   "outputs": [
    {
     "data": {
      "text/html": [
       "<div>\n",
       "<style scoped>\n",
       "    .dataframe tbody tr th:only-of-type {\n",
       "        vertical-align: middle;\n",
       "    }\n",
       "\n",
       "    .dataframe tbody tr th {\n",
       "        vertical-align: top;\n",
       "    }\n",
       "\n",
       "    .dataframe thead th {\n",
       "        text-align: right;\n",
       "    }\n",
       "</style>\n",
       "<table border=\"1\" class=\"dataframe\">\n",
       "  <thead>\n",
       "    <tr style=\"text-align: right;\">\n",
       "      <th></th>\n",
       "      <th>review_score</th>\n",
       "      <th>price</th>\n",
       "      <th>product_length_cm</th>\n",
       "      <th>product_width_cm</th>\n",
       "      <th>product_height_cm</th>\n",
       "      <th>product_weight_g</th>\n",
       "    </tr>\n",
       "  </thead>\n",
       "  <tbody>\n",
       "    <tr>\n",
       "      <th>count</th>\n",
       "      <td>281.000000</td>\n",
       "      <td>281.000000</td>\n",
       "      <td>281.000000</td>\n",
       "      <td>281.000000</td>\n",
       "      <td>281.000000</td>\n",
       "      <td>281.000000</td>\n",
       "    </tr>\n",
       "    <tr>\n",
       "      <th>mean</th>\n",
       "      <td>3.060498</td>\n",
       "      <td>52.206121</td>\n",
       "      <td>31.935943</td>\n",
       "      <td>21.644128</td>\n",
       "      <td>12.256228</td>\n",
       "      <td>658.893238</td>\n",
       "    </tr>\n",
       "    <tr>\n",
       "      <th>std</th>\n",
       "      <td>1.441690</td>\n",
       "      <td>38.185092</td>\n",
       "      <td>15.154307</td>\n",
       "      <td>9.361092</td>\n",
       "      <td>8.355826</td>\n",
       "      <td>406.204034</td>\n",
       "    </tr>\n",
       "    <tr>\n",
       "      <th>min</th>\n",
       "      <td>0.000000</td>\n",
       "      <td>7.990000</td>\n",
       "      <td>16.000000</td>\n",
       "      <td>11.000000</td>\n",
       "      <td>2.000000</td>\n",
       "      <td>100.000000</td>\n",
       "    </tr>\n",
       "    <tr>\n",
       "      <th>25%</th>\n",
       "      <td>3.000000</td>\n",
       "      <td>25.900000</td>\n",
       "      <td>21.000000</td>\n",
       "      <td>15.000000</td>\n",
       "      <td>8.000000</td>\n",
       "      <td>300.000000</td>\n",
       "    </tr>\n",
       "    <tr>\n",
       "      <th>50%</th>\n",
       "      <td>4.000000</td>\n",
       "      <td>39.150000</td>\n",
       "      <td>30.000000</td>\n",
       "      <td>20.000000</td>\n",
       "      <td>11.000000</td>\n",
       "      <td>600.000000</td>\n",
       "    </tr>\n",
       "    <tr>\n",
       "      <th>75%</th>\n",
       "      <td>4.000000</td>\n",
       "      <td>69.900000</td>\n",
       "      <td>35.000000</td>\n",
       "      <td>25.000000</td>\n",
       "      <td>15.000000</td>\n",
       "      <td>950.000000</td>\n",
       "    </tr>\n",
       "    <tr>\n",
       "      <th>max</th>\n",
       "      <td>4.000000</td>\n",
       "      <td>198.900000</td>\n",
       "      <td>103.000000</td>\n",
       "      <td>60.000000</td>\n",
       "      <td>80.000000</td>\n",
       "      <td>1950.000000</td>\n",
       "    </tr>\n",
       "  </tbody>\n",
       "</table>\n",
       "</div>"
      ],
      "text/plain": [
       "       review_score       price  product_length_cm  product_width_cm  \\\n",
       "count    281.000000  281.000000         281.000000        281.000000   \n",
       "mean       3.060498   52.206121          31.935943         21.644128   \n",
       "std        1.441690   38.185092          15.154307          9.361092   \n",
       "min        0.000000    7.990000          16.000000         11.000000   \n",
       "25%        3.000000   25.900000          21.000000         15.000000   \n",
       "50%        4.000000   39.150000          30.000000         20.000000   \n",
       "75%        4.000000   69.900000          35.000000         25.000000   \n",
       "max        4.000000  198.900000         103.000000         60.000000   \n",
       "\n",
       "       product_height_cm  product_weight_g  \n",
       "count         281.000000        281.000000  \n",
       "mean           12.256228        658.893238  \n",
       "std             8.355826        406.204034  \n",
       "min             2.000000        100.000000  \n",
       "25%             8.000000        300.000000  \n",
       "50%            11.000000        600.000000  \n",
       "75%            15.000000        950.000000  \n",
       "max            80.000000       1950.000000  "
      ]
     },
     "execution_count": 91,
     "metadata": {},
     "output_type": "execute_result"
    }
   ],
   "source": [
    "X_train,X_test,y_train,y_test=train_data(decorData)\n",
    "decorData.describe()"
   ]
  },
  {
   "cell_type": "code",
   "execution_count": 92,
   "metadata": {},
   "outputs": [
    {
     "data": {
      "text/plain": [
       "array([91.4996463])"
      ]
     },
     "execution_count": 92,
     "metadata": {},
     "output_type": "execute_result"
    }
   ],
   "source": [
    "model.fit(X_train,y_train)\n",
    "model.predict([[0,0,0,0,1,40,40,15,1650]])"
   ]
  },
  {
   "cell_type": "code",
   "execution_count": 93,
   "metadata": {},
   "outputs": [
    {
     "data": {
      "text/plain": [
       "array([90.24685696])"
      ]
     },
     "execution_count": 93,
     "metadata": {},
     "output_type": "execute_result"
    }
   ],
   "source": [
    "model.predict([[1,0,0,0,0,40,40,15,1650]])"
   ]
  },
  {
   "cell_type": "code",
   "execution_count": 94,
   "metadata": {},
   "outputs": [
    {
     "data": {
      "text/plain": [
       "array([34.08225449])"
      ]
     },
     "execution_count": 94,
     "metadata": {},
     "output_type": "execute_result"
    }
   ],
   "source": [
    "model.predict([[0,0,0,0,1,40,40,15,300]])"
   ]
  },
  {
   "cell_type": "code",
   "execution_count": 95,
   "metadata": {},
   "outputs": [
    {
     "data": {
      "text/plain": [
       "array([32.82946515])"
      ]
     },
     "execution_count": 95,
     "metadata": {},
     "output_type": "execute_result"
    }
   ],
   "source": [
    "model.predict([[1,0,0,0,0,40,40,15,300]])"
   ]
  },
  {
   "cell_type": "code",
   "execution_count": 96,
   "metadata": {},
   "outputs": [
    {
     "data": {
      "text/plain": [
       "array([89.10905518])"
      ]
     },
     "execution_count": 96,
     "metadata": {},
     "output_type": "execute_result"
    }
   ],
   "source": [
    "model.predict([[0,0,0,0,1,16,16,4,1650]])"
   ]
  },
  {
   "cell_type": "code",
   "execution_count": 97,
   "metadata": {},
   "outputs": [
    {
     "data": {
      "text/plain": [
       "array([87.85626584])"
      ]
     },
     "execution_count": 97,
     "metadata": {},
     "output_type": "execute_result"
    }
   ],
   "source": [
    "model.predict([[1,0,0,0,0,16,16,4,1650]])"
   ]
  },
  {
   "cell_type": "code",
   "execution_count": 98,
   "metadata": {},
   "outputs": [
    {
     "data": {
      "text/plain": [
       "array([31.69166336])"
      ]
     },
     "execution_count": 98,
     "metadata": {},
     "output_type": "execute_result"
    }
   ],
   "source": [
    "model.predict([[0,0,0,0,1,16,16,4,300]])"
   ]
  },
  {
   "cell_type": "code",
   "execution_count": 99,
   "metadata": {},
   "outputs": [
    {
     "data": {
      "text/plain": [
       "array([30.43887402])"
      ]
     },
     "execution_count": 99,
     "metadata": {},
     "output_type": "execute_result"
    }
   ],
   "source": [
    "model.predict([[1,0,0,0,0,16,16,4,300]])"
   ]
  },
  {
   "cell_type": "code",
   "execution_count": 100,
   "metadata": {},
   "outputs": [
    {
     "data": {
      "text/plain": [
       "0.2158597021270927"
      ]
     },
     "execution_count": 100,
     "metadata": {},
     "output_type": "execute_result"
    }
   ],
   "source": [
    "model.score(X_train,y_train)"
   ]
  },
  {
   "cell_type": "code",
   "execution_count": 101,
   "metadata": {},
   "outputs": [
    {
     "data": {
      "text/plain": [
       "array([118.48779563])"
      ]
     },
     "execution_count": 101,
     "metadata": {},
     "output_type": "execute_result"
    }
   ],
   "source": [
    "model.fit(X_test,y_test)\n",
    "model.predict([[0,0,0,0,1,30,30,4,1650]])"
   ]
  },
  {
   "cell_type": "code",
   "execution_count": 102,
   "metadata": {},
   "outputs": [
    {
     "data": {
      "text/plain": [
       "0.5129470809815118"
      ]
     },
     "execution_count": 102,
     "metadata": {},
     "output_type": "execute_result"
    }
   ],
   "source": [
    "model.score(X_test,y_test)"
   ]
  },
  {
   "cell_type": "markdown",
   "metadata": {},
   "source": [
    "### Construction Tools"
   ]
  },
  {
   "cell_type": "code",
   "execution_count": 103,
   "metadata": {},
   "outputs": [],
   "source": [
    "construction=pricecatrev.loc[pricecatrev['business_segment']=='construction_tools_house_garden']\n",
    "construction=construction[construction['product_weight_g']<1000.00]\n",
    "price_construction=pd.DataFrame(construction['price'])\n",
    "review_construction=pd.DataFrame(construction['review_score'])"
   ]
  },
  {
   "cell_type": "code",
   "execution_count": 104,
   "metadata": {},
   "outputs": [
    {
     "name": "stdout",
     "output_type": "stream",
     "text": [
      "<class 'pandas.core.frame.DataFrame'>\n",
      "Int64Index: 203 entries, 262 to 12167\n",
      "Data columns (total 39 columns):\n",
      " #   Column                         Non-Null Count  Dtype  \n",
      "---  ------                         --------------  -----  \n",
      " 0   Unnamed: 0                     203 non-null    int64  \n",
      " 1   mql_id                         203 non-null    object \n",
      " 2   first_contact_date             203 non-null    object \n",
      " 3   landing_page_id                203 non-null    object \n",
      " 4   origin                         203 non-null    object \n",
      " 5   seller_id                      203 non-null    object \n",
      " 6   sdr_id                         203 non-null    object \n",
      " 7   sr_id                          203 non-null    object \n",
      " 8   won_date                       203 non-null    object \n",
      " 9   business_segment               203 non-null    object \n",
      " 10  lead_type                      203 non-null    object \n",
      " 11  lead_behaviour_profile         120 non-null    object \n",
      " 12  has_company                    2 non-null      object \n",
      " 13  has_gtin                       2 non-null      object \n",
      " 14  average_stock                  2 non-null      object \n",
      " 15  business_type                  203 non-null    object \n",
      " 16  declared_product_catalog_size  0 non-null      float64\n",
      " 17  declared_monthly_revenue       203 non-null    float64\n",
      " 18  order_id                       203 non-null    object \n",
      " 19  order_item_id                  203 non-null    float64\n",
      " 20  product_id                     203 non-null    object \n",
      " 21  shipping_limit_date            203 non-null    object \n",
      " 22  price                          203 non-null    float64\n",
      " 23  freight_value                  203 non-null    float64\n",
      " 24  product_category_name          198 non-null    object \n",
      " 25  product_name_lenght            198 non-null    float64\n",
      " 26  product_description_lenght     198 non-null    float64\n",
      " 27  product_photos_qty             198 non-null    float64\n",
      " 28  product_weight_g               203 non-null    float64\n",
      " 29  product_length_cm              203 non-null    float64\n",
      " 30  product_height_cm              203 non-null    float64\n",
      " 31  product_width_cm               203 non-null    float64\n",
      " 32  product_category_name_english  198 non-null    object \n",
      " 33  review_id                      203 non-null    object \n",
      " 34  review_score                   203 non-null    float64\n",
      " 35  review_comment_title           64 non-null     object \n",
      " 36  review_comment_message         79 non-null     object \n",
      " 37  review_creation_date           203 non-null    object \n",
      " 38  review_answer_timestamp        203 non-null    object \n",
      "dtypes: float64(13), int64(1), object(25)\n",
      "memory usage: 63.4+ KB\n"
     ]
    }
   ],
   "source": [
    "construction.info()"
   ]
  },
  {
   "cell_type": "code",
   "execution_count": 105,
   "metadata": {},
   "outputs": [
    {
     "data": {
      "text/html": [
       "<div>\n",
       "<style scoped>\n",
       "    .dataframe tbody tr th:only-of-type {\n",
       "        vertical-align: middle;\n",
       "    }\n",
       "\n",
       "    .dataframe tbody tr th {\n",
       "        vertical-align: top;\n",
       "    }\n",
       "\n",
       "    .dataframe thead th {\n",
       "        text-align: right;\n",
       "    }\n",
       "</style>\n",
       "<table border=\"1\" class=\"dataframe\">\n",
       "  <thead>\n",
       "    <tr style=\"text-align: right;\">\n",
       "      <th></th>\n",
       "      <th>price</th>\n",
       "    </tr>\n",
       "  </thead>\n",
       "  <tbody>\n",
       "    <tr>\n",
       "      <th>count</th>\n",
       "      <td>203.000000</td>\n",
       "    </tr>\n",
       "    <tr>\n",
       "      <th>mean</th>\n",
       "      <td>53.699852</td>\n",
       "    </tr>\n",
       "    <tr>\n",
       "      <th>std</th>\n",
       "      <td>44.674765</td>\n",
       "    </tr>\n",
       "    <tr>\n",
       "      <th>min</th>\n",
       "      <td>3.500000</td>\n",
       "    </tr>\n",
       "    <tr>\n",
       "      <th>25%</th>\n",
       "      <td>16.895000</td>\n",
       "    </tr>\n",
       "    <tr>\n",
       "      <th>50%</th>\n",
       "      <td>38.900000</td>\n",
       "    </tr>\n",
       "    <tr>\n",
       "      <th>75%</th>\n",
       "      <td>79.900000</td>\n",
       "    </tr>\n",
       "    <tr>\n",
       "      <th>max</th>\n",
       "      <td>219.000000</td>\n",
       "    </tr>\n",
       "  </tbody>\n",
       "</table>\n",
       "</div>"
      ],
      "text/plain": [
       "            price\n",
       "count  203.000000\n",
       "mean    53.699852\n",
       "std     44.674765\n",
       "min      3.500000\n",
       "25%     16.895000\n",
       "50%     38.900000\n",
       "75%     79.900000\n",
       "max    219.000000"
      ]
     },
     "execution_count": 105,
     "metadata": {},
     "output_type": "execute_result"
    }
   ],
   "source": [
    "price_construction.describe()"
   ]
  },
  {
   "cell_type": "code",
   "execution_count": 106,
   "metadata": {},
   "outputs": [
    {
     "data": {
      "text/plain": [
       "review_score\n",
       "5.0             134\n",
       "4.0              39\n",
       "1.0              17\n",
       "3.0              13\n",
       "dtype: int64"
      ]
     },
     "execution_count": 106,
     "metadata": {},
     "output_type": "execute_result"
    }
   ],
   "source": [
    "review_construction.value_counts()"
   ]
  },
  {
   "cell_type": "code",
   "execution_count": 107,
   "metadata": {},
   "outputs": [
    {
     "data": {
      "image/png": "[encoded data removed]",
      "text/plain": [
       "<Figure size 1728x432 with 3 Axes>"
      ]
     },
     "metadata": {},
     "output_type": "display_data"
    }
   ],
   "source": [
    "plot_price(price_construction)"
   ]
  },
  {
   "cell_type": "code",
   "execution_count": 108,
   "metadata": {},
   "outputs": [
    {
     "data": {
      "image/png": "[encoded data removed]",
      "text/plain": [
       "<Figure size 360x360 with 1 Axes>"
      ]
     },
     "metadata": {},
     "output_type": "display_data"
    }
   ],
   "source": [
    "plot_review(review_construction)"
   ]
  },
  {
   "cell_type": "code",
   "execution_count": 109,
   "metadata": {},
   "outputs": [
    {
     "data": {
      "image/png": "[encoded data removed]",
      "text/plain": [
       "<Figure size 1296x432 with 1 Axes>"
      ]
     },
     "metadata": {},
     "output_type": "display_data"
    }
   ],
   "source": [
    "plot_both(review_construction,price_construction)"
   ]
  },
  {
   "cell_type": "code",
   "execution_count": 110,
   "metadata": {},
   "outputs": [
    {
     "data": {
      "image/png": "[encoded data removed]",
      "text/plain": [
       "<Figure size 1296x432 with 1 Axes>"
      ]
     },
     "metadata": {},
     "output_type": "display_data"
    }
   ],
   "source": [
    "plot_scatter(review_construction,price_construction)"
   ]
  },
  {
   "cell_type": "code",
   "execution_count": 111,
   "metadata": {},
   "outputs": [
    {
     "data": {
      "text/html": [
       "<div>\n",
       "<style scoped>\n",
       "    .dataframe tbody tr th:only-of-type {\n",
       "        vertical-align: middle;\n",
       "    }\n",
       "\n",
       "    .dataframe tbody tr th {\n",
       "        vertical-align: top;\n",
       "    }\n",
       "\n",
       "    .dataframe thead th {\n",
       "        text-align: right;\n",
       "    }\n",
       "</style>\n",
       "<table border=\"1\" class=\"dataframe\">\n",
       "  <thead>\n",
       "    <tr style=\"text-align: right;\">\n",
       "      <th></th>\n",
       "      <th>review_score</th>\n",
       "      <th>price</th>\n",
       "      <th>product_length_cm</th>\n",
       "      <th>product_width_cm</th>\n",
       "      <th>product_height_cm</th>\n",
       "      <th>product_weight_g</th>\n",
       "    </tr>\n",
       "  </thead>\n",
       "  <tbody>\n",
       "    <tr>\n",
       "      <th>262</th>\n",
       "      <td>1.0</td>\n",
       "      <td>95.0</td>\n",
       "      <td>16.0</td>\n",
       "      <td>11.0</td>\n",
       "      <td>100.0</td>\n",
       "      <td>650.0</td>\n",
       "    </tr>\n",
       "    <tr>\n",
       "      <th>263</th>\n",
       "      <td>3.0</td>\n",
       "      <td>80.0</td>\n",
       "      <td>16.0</td>\n",
       "      <td>11.0</td>\n",
       "      <td>100.0</td>\n",
       "      <td>700.0</td>\n",
       "    </tr>\n",
       "    <tr>\n",
       "      <th>1584</th>\n",
       "      <td>5.0</td>\n",
       "      <td>8.9</td>\n",
       "      <td>22.0</td>\n",
       "      <td>22.0</td>\n",
       "      <td>11.0</td>\n",
       "      <td>325.0</td>\n",
       "    </tr>\n",
       "    <tr>\n",
       "      <th>1585</th>\n",
       "      <td>1.0</td>\n",
       "      <td>31.2</td>\n",
       "      <td>16.0</td>\n",
       "      <td>12.0</td>\n",
       "      <td>10.0</td>\n",
       "      <td>170.0</td>\n",
       "    </tr>\n",
       "    <tr>\n",
       "      <th>1586</th>\n",
       "      <td>4.0</td>\n",
       "      <td>49.9</td>\n",
       "      <td>32.0</td>\n",
       "      <td>29.0</td>\n",
       "      <td>35.0</td>\n",
       "      <td>975.0</td>\n",
       "    </tr>\n",
       "    <tr>\n",
       "      <th>1587</th>\n",
       "      <td>5.0</td>\n",
       "      <td>219.0</td>\n",
       "      <td>16.0</td>\n",
       "      <td>12.0</td>\n",
       "      <td>18.0</td>\n",
       "      <td>600.0</td>\n",
       "    </tr>\n",
       "    <tr>\n",
       "      <th>1588</th>\n",
       "      <td>5.0</td>\n",
       "      <td>219.0</td>\n",
       "      <td>16.0</td>\n",
       "      <td>12.0</td>\n",
       "      <td>18.0</td>\n",
       "      <td>600.0</td>\n",
       "    </tr>\n",
       "    <tr>\n",
       "      <th>1589</th>\n",
       "      <td>5.0</td>\n",
       "      <td>28.3</td>\n",
       "      <td>23.0</td>\n",
       "      <td>20.0</td>\n",
       "      <td>9.0</td>\n",
       "      <td>375.0</td>\n",
       "    </tr>\n",
       "    <tr>\n",
       "      <th>1591</th>\n",
       "      <td>5.0</td>\n",
       "      <td>60.0</td>\n",
       "      <td>32.0</td>\n",
       "      <td>29.0</td>\n",
       "      <td>35.0</td>\n",
       "      <td>975.0</td>\n",
       "    </tr>\n",
       "    <tr>\n",
       "      <th>1592</th>\n",
       "      <td>5.0</td>\n",
       "      <td>60.0</td>\n",
       "      <td>32.0</td>\n",
       "      <td>29.0</td>\n",
       "      <td>35.0</td>\n",
       "      <td>975.0</td>\n",
       "    </tr>\n",
       "  </tbody>\n",
       "</table>\n",
       "</div>"
      ],
      "text/plain": [
       "      review_score  price  product_length_cm  product_width_cm  \\\n",
       "262            1.0   95.0               16.0              11.0   \n",
       "263            3.0   80.0               16.0              11.0   \n",
       "1584           5.0    8.9               22.0              22.0   \n",
       "1585           1.0   31.2               16.0              12.0   \n",
       "1586           4.0   49.9               32.0              29.0   \n",
       "1587           5.0  219.0               16.0              12.0   \n",
       "1588           5.0  219.0               16.0              12.0   \n",
       "1589           5.0   28.3               23.0              20.0   \n",
       "1591           5.0   60.0               32.0              29.0   \n",
       "1592           5.0   60.0               32.0              29.0   \n",
       "\n",
       "      product_height_cm  product_weight_g  \n",
       "262               100.0             650.0  \n",
       "263               100.0             700.0  \n",
       "1584               11.0             325.0  \n",
       "1585               10.0             170.0  \n",
       "1586               35.0             975.0  \n",
       "1587               18.0             600.0  \n",
       "1588               18.0             600.0  \n",
       "1589                9.0             375.0  \n",
       "1591               35.0             975.0  \n",
       "1592               35.0             975.0  "
      ]
     },
     "execution_count": 111,
     "metadata": {},
     "output_type": "execute_result"
    }
   ],
   "source": [
    "constructionData=set_data(construction)\n",
    "constructionData.head(10)"
   ]
  },
  {
   "cell_type": "code",
   "execution_count": 112,
   "metadata": {},
   "outputs": [
    {
     "data": {
      "text/html": [
       "<div>\n",
       "<style scoped>\n",
       "    .dataframe tbody tr th:only-of-type {\n",
       "        vertical-align: middle;\n",
       "    }\n",
       "\n",
       "    .dataframe tbody tr th {\n",
       "        vertical-align: top;\n",
       "    }\n",
       "\n",
       "    .dataframe thead th {\n",
       "        text-align: right;\n",
       "    }\n",
       "</style>\n",
       "<table border=\"1\" class=\"dataframe\">\n",
       "  <thead>\n",
       "    <tr style=\"text-align: right;\">\n",
       "      <th></th>\n",
       "      <th>review_score</th>\n",
       "      <th>price</th>\n",
       "      <th>product_length_cm</th>\n",
       "      <th>product_width_cm</th>\n",
       "      <th>product_height_cm</th>\n",
       "      <th>product_weight_g</th>\n",
       "    </tr>\n",
       "  </thead>\n",
       "  <tbody>\n",
       "    <tr>\n",
       "      <th>count</th>\n",
       "      <td>203.000000</td>\n",
       "      <td>203.000000</td>\n",
       "      <td>203.000000</td>\n",
       "      <td>203.000000</td>\n",
       "      <td>203.000000</td>\n",
       "      <td>203.000000</td>\n",
       "    </tr>\n",
       "    <tr>\n",
       "      <th>mean</th>\n",
       "      <td>2.428571</td>\n",
       "      <td>53.699852</td>\n",
       "      <td>22.793103</td>\n",
       "      <td>16.857143</td>\n",
       "      <td>16.364532</td>\n",
       "      <td>432.591133</td>\n",
       "    </tr>\n",
       "    <tr>\n",
       "      <th>std</th>\n",
       "      <td>0.937963</td>\n",
       "      <td>44.674765</td>\n",
       "      <td>12.020467</td>\n",
       "      <td>6.728415</td>\n",
       "      <td>13.334060</td>\n",
       "      <td>251.717654</td>\n",
       "    </tr>\n",
       "    <tr>\n",
       "      <th>min</th>\n",
       "      <td>0.000000</td>\n",
       "      <td>3.500000</td>\n",
       "      <td>14.000000</td>\n",
       "      <td>10.000000</td>\n",
       "      <td>2.000000</td>\n",
       "      <td>50.000000</td>\n",
       "    </tr>\n",
       "    <tr>\n",
       "      <th>25%</th>\n",
       "      <td>2.000000</td>\n",
       "      <td>16.895000</td>\n",
       "      <td>16.000000</td>\n",
       "      <td>12.000000</td>\n",
       "      <td>10.000000</td>\n",
       "      <td>250.000000</td>\n",
       "    </tr>\n",
       "    <tr>\n",
       "      <th>50%</th>\n",
       "      <td>3.000000</td>\n",
       "      <td>38.900000</td>\n",
       "      <td>18.000000</td>\n",
       "      <td>14.000000</td>\n",
       "      <td>11.000000</td>\n",
       "      <td>400.000000</td>\n",
       "    </tr>\n",
       "    <tr>\n",
       "      <th>75%</th>\n",
       "      <td>3.000000</td>\n",
       "      <td>79.900000</td>\n",
       "      <td>27.000000</td>\n",
       "      <td>20.000000</td>\n",
       "      <td>20.000000</td>\n",
       "      <td>600.000000</td>\n",
       "    </tr>\n",
       "    <tr>\n",
       "      <th>max</th>\n",
       "      <td>3.000000</td>\n",
       "      <td>219.000000</td>\n",
       "      <td>94.000000</td>\n",
       "      <td>41.000000</td>\n",
       "      <td>100.000000</td>\n",
       "      <td>975.000000</td>\n",
       "    </tr>\n",
       "  </tbody>\n",
       "</table>\n",
       "</div>"
      ],
      "text/plain": [
       "       review_score       price  product_length_cm  product_width_cm  \\\n",
       "count    203.000000  203.000000         203.000000        203.000000   \n",
       "mean       2.428571   53.699852          22.793103         16.857143   \n",
       "std        0.937963   44.674765          12.020467          6.728415   \n",
       "min        0.000000    3.500000          14.000000         10.000000   \n",
       "25%        2.000000   16.895000          16.000000         12.000000   \n",
       "50%        3.000000   38.900000          18.000000         14.000000   \n",
       "75%        3.000000   79.900000          27.000000         20.000000   \n",
       "max        3.000000  219.000000          94.000000         41.000000   \n",
       "\n",
       "       product_height_cm  product_weight_g  \n",
       "count         203.000000        203.000000  \n",
       "mean           16.364532        432.591133  \n",
       "std            13.334060        251.717654  \n",
       "min             2.000000         50.000000  \n",
       "25%            10.000000        250.000000  \n",
       "50%            11.000000        400.000000  \n",
       "75%            20.000000        600.000000  \n",
       "max           100.000000        975.000000  "
      ]
     },
     "execution_count": 112,
     "metadata": {},
     "output_type": "execute_result"
    }
   ],
   "source": [
    "X_train,X_test,y_train,y_test=train_data(constructionData)\n",
    "constructionData.describe()"
   ]
  },
  {
   "cell_type": "code",
   "execution_count": 113,
   "metadata": {},
   "outputs": [
    {
     "data": {
      "text/plain": [
       "array([11.55013088])"
      ]
     },
     "execution_count": 113,
     "metadata": {},
     "output_type": "execute_result"
    }
   ],
   "source": [
    "model.fit(X_train,y_train)\n",
    "model.predict([[0,0,0,1,32,32,20,325]])"
   ]
  },
  {
   "cell_type": "code",
   "execution_count": 114,
   "metadata": {},
   "outputs": [
    {
     "data": {
      "text/plain": [
       "array([20.78505979])"
      ]
     },
     "execution_count": 114,
     "metadata": {},
     "output_type": "execute_result"
    }
   ],
   "source": [
    "model.predict([[1,0,0,0,32,32,11,325]])"
   ]
  },
  {
   "cell_type": "code",
   "execution_count": 115,
   "metadata": {},
   "outputs": [
    {
     "data": {
      "text/plain": [
       "array([67.15171956])"
      ]
     },
     "execution_count": 115,
     "metadata": {},
     "output_type": "execute_result"
    }
   ],
   "source": [
    "model.predict([[0,0,0,1,32,32,11,1000]])"
   ]
  },
  {
   "cell_type": "code",
   "execution_count": 116,
   "metadata": {},
   "outputs": [
    {
     "data": {
      "text/plain": [
       "array([73.10239821])"
      ]
     },
     "execution_count": 116,
     "metadata": {},
     "output_type": "execute_result"
    }
   ],
   "source": [
    "model.predict([[1,0,0,0,32,32,11,1000]])"
   ]
  },
  {
   "cell_type": "code",
   "execution_count": 117,
   "metadata": {},
   "outputs": [
    {
     "data": {
      "text/plain": [
       "array([61.5626206])"
      ]
     },
     "execution_count": 117,
     "metadata": {},
     "output_type": "execute_result"
    }
   ],
   "source": [
    "model.predict([[0,0,0,1,16,11,5,324]])"
   ]
  },
  {
   "cell_type": "code",
   "execution_count": 118,
   "metadata": {},
   "outputs": [
    {
     "data": {
      "text/plain": [
       "array([67.51329925])"
      ]
     },
     "execution_count": 118,
     "metadata": {},
     "output_type": "execute_result"
    }
   ],
   "source": [
    "model.predict([[1,0,0,0,16,11,5,324]])"
   ]
  },
  {
   "cell_type": "code",
   "execution_count": 119,
   "metadata": {},
   "outputs": [
    {
     "data": {
      "text/plain": [
       "array([113.95746619])"
      ]
     },
     "execution_count": 119,
     "metadata": {},
     "output_type": "execute_result"
    }
   ],
   "source": [
    "model.predict([[0,0,0,1,16,11,5,1000]])"
   ]
  },
  {
   "cell_type": "code",
   "execution_count": 120,
   "metadata": {},
   "outputs": [
    {
     "data": {
      "text/plain": [
       "array([119.90814484])"
      ]
     },
     "execution_count": 120,
     "metadata": {},
     "output_type": "execute_result"
    }
   ],
   "source": [
    "model.predict([[1,0,0,0,16,11,5,1000]])"
   ]
  },
  {
   "cell_type": "code",
   "execution_count": 121,
   "metadata": {},
   "outputs": [
    {
     "data": {
      "text/plain": [
       "0.14912286308695422"
      ]
     },
     "execution_count": 121,
     "metadata": {},
     "output_type": "execute_result"
    }
   ],
   "source": [
    "model.score(X_train,y_train)"
   ]
  },
  {
   "cell_type": "code",
   "execution_count": 122,
   "metadata": {},
   "outputs": [
    {
     "data": {
      "text/plain": [
       "array([29.70584556])"
      ]
     },
     "execution_count": 122,
     "metadata": {},
     "output_type": "execute_result"
    }
   ],
   "source": [
    "model.fit(X_test,y_test)\n",
    "model.predict([[0,0,0,1,22,22,11,325]])"
   ]
  },
  {
   "cell_type": "code",
   "execution_count": 123,
   "metadata": {},
   "outputs": [
    {
     "data": {
      "text/plain": [
       "0.3542934751335767"
      ]
     },
     "execution_count": 123,
     "metadata": {},
     "output_type": "execute_result"
    }
   ],
   "source": [
    "model.score(X_test,y_test)"
   ]
  },
  {
   "cell_type": "markdown",
   "metadata": {},
   "source": [
    "### Audio Video Electronics"
   ]
  },
  {
   "cell_type": "code",
   "execution_count": 124,
   "metadata": {},
   "outputs": [],
   "source": [
    "electronics=pricecatrev.loc[pricecatrev['business_segment']=='audio_video_electronics']\n",
    "electronics=electronics[electronics['product_weight_g']<1000.00]\n",
    "price_electronics=pd.DataFrame(electronics['price'])\n",
    "review_electronics=pd.DataFrame(electronics['review_score'])"
   ]
  },
  {
   "cell_type": "code",
   "execution_count": 125,
   "metadata": {},
   "outputs": [
    {
     "name": "stdout",
     "output_type": "stream",
     "text": [
      "<class 'pandas.core.frame.DataFrame'>\n",
      "Int64Index: 247 entries, 1232 to 12348\n",
      "Data columns (total 39 columns):\n",
      " #   Column                         Non-Null Count  Dtype  \n",
      "---  ------                         --------------  -----  \n",
      " 0   Unnamed: 0                     247 non-null    int64  \n",
      " 1   mql_id                         247 non-null    object \n",
      " 2   first_contact_date             247 non-null    object \n",
      " 3   landing_page_id                247 non-null    object \n",
      " 4   origin                         240 non-null    object \n",
      " 5   seller_id                      247 non-null    object \n",
      " 6   sdr_id                         247 non-null    object \n",
      " 7   sr_id                          247 non-null    object \n",
      " 8   won_date                       247 non-null    object \n",
      " 9   business_segment               247 non-null    object \n",
      " 10  lead_type                      247 non-null    object \n",
      " 11  lead_behaviour_profile         210 non-null    object \n",
      " 12  has_company                    0 non-null      object \n",
      " 13  has_gtin                       0 non-null      object \n",
      " 14  average_stock                  0 non-null      object \n",
      " 15  business_type                  247 non-null    object \n",
      " 16  declared_product_catalog_size  0 non-null      float64\n",
      " 17  declared_monthly_revenue       247 non-null    float64\n",
      " 18  order_id                       247 non-null    object \n",
      " 19  order_item_id                  247 non-null    float64\n",
      " 20  product_id                     247 non-null    object \n",
      " 21  shipping_limit_date            247 non-null    object \n",
      " 22  price                          247 non-null    float64\n",
      " 23  freight_value                  247 non-null    float64\n",
      " 24  product_category_name          247 non-null    object \n",
      " 25  product_name_lenght            247 non-null    float64\n",
      " 26  product_description_lenght     247 non-null    float64\n",
      " 27  product_photos_qty             247 non-null    float64\n",
      " 28  product_weight_g               247 non-null    float64\n",
      " 29  product_length_cm              247 non-null    float64\n",
      " 30  product_height_cm              247 non-null    float64\n",
      " 31  product_width_cm               247 non-null    float64\n",
      " 32  product_category_name_english  247 non-null    object \n",
      " 33  review_id                      247 non-null    object \n",
      " 34  review_score                   247 non-null    float64\n",
      " 35  review_comment_title           93 non-null     object \n",
      " 36  review_comment_message         89 non-null     object \n",
      " 37  review_creation_date           247 non-null    object \n",
      " 38  review_answer_timestamp        247 non-null    object \n",
      "dtypes: float64(13), int64(1), object(25)\n",
      "memory usage: 77.2+ KB\n"
     ]
    }
   ],
   "source": [
    "electronics.info()"
   ]
  },
  {
   "cell_type": "code",
   "execution_count": 126,
   "metadata": {},
   "outputs": [
    {
     "data": {
      "text/html": [
       "<div>\n",
       "<style scoped>\n",
       "    .dataframe tbody tr th:only-of-type {\n",
       "        vertical-align: middle;\n",
       "    }\n",
       "\n",
       "    .dataframe tbody tr th {\n",
       "        vertical-align: top;\n",
       "    }\n",
       "\n",
       "    .dataframe thead th {\n",
       "        text-align: right;\n",
       "    }\n",
       "</style>\n",
       "<table border=\"1\" class=\"dataframe\">\n",
       "  <thead>\n",
       "    <tr style=\"text-align: right;\">\n",
       "      <th></th>\n",
       "      <th>price</th>\n",
       "    </tr>\n",
       "  </thead>\n",
       "  <tbody>\n",
       "    <tr>\n",
       "      <th>count</th>\n",
       "      <td>247.000000</td>\n",
       "    </tr>\n",
       "    <tr>\n",
       "      <th>mean</th>\n",
       "      <td>169.430445</td>\n",
       "    </tr>\n",
       "    <tr>\n",
       "      <th>std</th>\n",
       "      <td>254.657986</td>\n",
       "    </tr>\n",
       "    <tr>\n",
       "      <th>min</th>\n",
       "      <td>9.900000</td>\n",
       "    </tr>\n",
       "    <tr>\n",
       "      <th>25%</th>\n",
       "      <td>28.825000</td>\n",
       "    </tr>\n",
       "    <tr>\n",
       "      <th>50%</th>\n",
       "      <td>69.400000</td>\n",
       "    </tr>\n",
       "    <tr>\n",
       "      <th>75%</th>\n",
       "      <td>189.000000</td>\n",
       "    </tr>\n",
       "    <tr>\n",
       "      <th>max</th>\n",
       "      <td>1520.880000</td>\n",
       "    </tr>\n",
       "  </tbody>\n",
       "</table>\n",
       "</div>"
      ],
      "text/plain": [
       "             price\n",
       "count   247.000000\n",
       "mean    169.430445\n",
       "std     254.657986\n",
       "min       9.900000\n",
       "25%      28.825000\n",
       "50%      69.400000\n",
       "75%     189.000000\n",
       "max    1520.880000"
      ]
     },
     "execution_count": 126,
     "metadata": {},
     "output_type": "execute_result"
    }
   ],
   "source": [
    "price_electronics.describe()"
   ]
  },
  {
   "cell_type": "code",
   "execution_count": 127,
   "metadata": {},
   "outputs": [
    {
     "data": {
      "text/plain": [
       "review_score\n",
       "5.0             140\n",
       "4.0              57\n",
       "1.0              28\n",
       "3.0              14\n",
       "2.0               8\n",
       "dtype: int64"
      ]
     },
     "execution_count": 127,
     "metadata": {},
     "output_type": "execute_result"
    }
   ],
   "source": [
    "review_electronics.value_counts()"
   ]
  },
  {
   "cell_type": "code",
   "execution_count": 128,
   "metadata": {},
   "outputs": [
    {
     "data": {
      "image/png": "[encoded data removed]",
      "text/plain": [
       "<Figure size 1728x432 with 3 Axes>"
      ]
     },
     "metadata": {},
     "output_type": "display_data"
    }
   ],
   "source": [
    "plot_price(price_electronics)"
   ]
  },
  {
   "cell_type": "code",
   "execution_count": 129,
   "metadata": {},
   "outputs": [
    {
     "data": {
      "image/png": "[encoded data removed]",
      "text/plain": [
       "<Figure size 360x360 with 1 Axes>"
      ]
     },
     "metadata": {},
     "output_type": "display_data"
    }
   ],
   "source": [
    "plot_review(review_electronics)"
   ]
  },
  {
   "cell_type": "code",
   "execution_count": 130,
   "metadata": {},
   "outputs": [
    {
     "data": {
      "image/png": "[encoded data removed]",
      "text/plain": [
       "<Figure size 1296x432 with 1 Axes>"
      ]
     },
     "metadata": {},
     "output_type": "display_data"
    }
   ],
   "source": [
    "plot_both(review_electronics,price_electronics)"
   ]
  },
  {
   "cell_type": "code",
   "execution_count": 131,
   "metadata": {},
   "outputs": [
    {
     "name": "stderr",
     "output_type": "stream",
     "text": [
      "C:\\Users\\Daren\\anaconda3\\lib\\site-packages\\seaborn\\categorical.py:1296: UserWarning: 17.1% of the points cannot be placed; you may want to decrease the size of the markers or use stripplot.\n",
      "  warnings.warn(msg, UserWarning)\n"
     ]
    },
    {
     "data": {
      "image/png": "[encoded data removed]",
      "text/plain": [
       "<Figure size 1296x432 with 1 Axes>"
      ]
     },
     "metadata": {},
     "output_type": "display_data"
    }
   ],
   "source": [
    "plot_scatter(review_electronics,price_electronics)"
   ]
  },
  {
   "cell_type": "code",
   "execution_count": 132,
   "metadata": {},
   "outputs": [
    {
     "data": {
      "text/html": [
       "<div>\n",
       "<style scoped>\n",
       "    .dataframe tbody tr th:only-of-type {\n",
       "        vertical-align: middle;\n",
       "    }\n",
       "\n",
       "    .dataframe tbody tr th {\n",
       "        vertical-align: top;\n",
       "    }\n",
       "\n",
       "    .dataframe thead th {\n",
       "        text-align: right;\n",
       "    }\n",
       "</style>\n",
       "<table border=\"1\" class=\"dataframe\">\n",
       "  <thead>\n",
       "    <tr style=\"text-align: right;\">\n",
       "      <th></th>\n",
       "      <th>review_score</th>\n",
       "      <th>price</th>\n",
       "      <th>product_length_cm</th>\n",
       "      <th>product_width_cm</th>\n",
       "      <th>product_height_cm</th>\n",
       "      <th>product_weight_g</th>\n",
       "    </tr>\n",
       "  </thead>\n",
       "  <tbody>\n",
       "    <tr>\n",
       "      <th>1232</th>\n",
       "      <td>5.0</td>\n",
       "      <td>27.19</td>\n",
       "      <td>16.0</td>\n",
       "      <td>13.0</td>\n",
       "      <td>9.0</td>\n",
       "      <td>133.0</td>\n",
       "    </tr>\n",
       "    <tr>\n",
       "      <th>1233</th>\n",
       "      <td>5.0</td>\n",
       "      <td>27.19</td>\n",
       "      <td>16.0</td>\n",
       "      <td>13.0</td>\n",
       "      <td>9.0</td>\n",
       "      <td>133.0</td>\n",
       "    </tr>\n",
       "    <tr>\n",
       "      <th>1234</th>\n",
       "      <td>4.0</td>\n",
       "      <td>27.19</td>\n",
       "      <td>16.0</td>\n",
       "      <td>13.0</td>\n",
       "      <td>9.0</td>\n",
       "      <td>133.0</td>\n",
       "    </tr>\n",
       "    <tr>\n",
       "      <th>1235</th>\n",
       "      <td>2.0</td>\n",
       "      <td>53.90</td>\n",
       "      <td>18.0</td>\n",
       "      <td>14.0</td>\n",
       "      <td>10.0</td>\n",
       "      <td>413.0</td>\n",
       "    </tr>\n",
       "    <tr>\n",
       "      <th>1236</th>\n",
       "      <td>5.0</td>\n",
       "      <td>27.19</td>\n",
       "      <td>16.0</td>\n",
       "      <td>13.0</td>\n",
       "      <td>9.0</td>\n",
       "      <td>133.0</td>\n",
       "    </tr>\n",
       "    <tr>\n",
       "      <th>1237</th>\n",
       "      <td>5.0</td>\n",
       "      <td>27.19</td>\n",
       "      <td>16.0</td>\n",
       "      <td>13.0</td>\n",
       "      <td>9.0</td>\n",
       "      <td>133.0</td>\n",
       "    </tr>\n",
       "    <tr>\n",
       "      <th>1238</th>\n",
       "      <td>5.0</td>\n",
       "      <td>27.19</td>\n",
       "      <td>16.0</td>\n",
       "      <td>13.0</td>\n",
       "      <td>9.0</td>\n",
       "      <td>133.0</td>\n",
       "    </tr>\n",
       "    <tr>\n",
       "      <th>1455</th>\n",
       "      <td>5.0</td>\n",
       "      <td>99.00</td>\n",
       "      <td>16.0</td>\n",
       "      <td>11.0</td>\n",
       "      <td>32.0</td>\n",
       "      <td>550.0</td>\n",
       "    </tr>\n",
       "    <tr>\n",
       "      <th>1456</th>\n",
       "      <td>4.0</td>\n",
       "      <td>92.90</td>\n",
       "      <td>16.0</td>\n",
       "      <td>11.0</td>\n",
       "      <td>20.0</td>\n",
       "      <td>350.0</td>\n",
       "    </tr>\n",
       "    <tr>\n",
       "      <th>1457</th>\n",
       "      <td>4.0</td>\n",
       "      <td>92.90</td>\n",
       "      <td>16.0</td>\n",
       "      <td>11.0</td>\n",
       "      <td>20.0</td>\n",
       "      <td>350.0</td>\n",
       "    </tr>\n",
       "  </tbody>\n",
       "</table>\n",
       "</div>"
      ],
      "text/plain": [
       "      review_score  price  product_length_cm  product_width_cm  \\\n",
       "1232           5.0  27.19               16.0              13.0   \n",
       "1233           5.0  27.19               16.0              13.0   \n",
       "1234           4.0  27.19               16.0              13.0   \n",
       "1235           2.0  53.90               18.0              14.0   \n",
       "1236           5.0  27.19               16.0              13.0   \n",
       "1237           5.0  27.19               16.0              13.0   \n",
       "1238           5.0  27.19               16.0              13.0   \n",
       "1455           5.0  99.00               16.0              11.0   \n",
       "1456           4.0  92.90               16.0              11.0   \n",
       "1457           4.0  92.90               16.0              11.0   \n",
       "\n",
       "      product_height_cm  product_weight_g  \n",
       "1232                9.0             133.0  \n",
       "1233                9.0             133.0  \n",
       "1234                9.0             133.0  \n",
       "1235               10.0             413.0  \n",
       "1236                9.0             133.0  \n",
       "1237                9.0             133.0  \n",
       "1238                9.0             133.0  \n",
       "1455               32.0             550.0  \n",
       "1456               20.0             350.0  \n",
       "1457               20.0             350.0  "
      ]
     },
     "execution_count": 132,
     "metadata": {},
     "output_type": "execute_result"
    }
   ],
   "source": [
    "electronicsData=set_data(electronics)\n",
    "electronicsData.head(10)"
   ]
  },
  {
   "cell_type": "code",
   "execution_count": 133,
   "metadata": {},
   "outputs": [
    {
     "data": {
      "text/plain": [
       "array([  0.,   0.,   0.,   1.,   0.,  16.,  12.,   5., 150.])"
      ]
     },
     "execution_count": 133,
     "metadata": {},
     "output_type": "execute_result"
    }
   ],
   "source": [
    "X_train,X_test,y_train,y_test=train_data(electronicsData)\n",
    "X_train[0]"
   ]
  },
  {
   "cell_type": "code",
   "execution_count": 134,
   "metadata": {},
   "outputs": [
    {
     "data": {
      "text/plain": [
       "array([146.38274261])"
      ]
     },
     "execution_count": 134,
     "metadata": {},
     "output_type": "execute_result"
    }
   ],
   "source": [
    "model.fit(X_train,y_train)\n",
    "model.predict([[0,0,0,0,1,16,13,9,133]])"
   ]
  },
  {
   "cell_type": "code",
   "execution_count": 135,
   "metadata": {},
   "outputs": [
    {
     "data": {
      "text/plain": [
       "0.05188938422039013"
      ]
     },
     "execution_count": 135,
     "metadata": {},
     "output_type": "execute_result"
    }
   ],
   "source": [
    "model.score(X_train,y_train)"
   ]
  },
  {
   "cell_type": "code",
   "execution_count": 136,
   "metadata": {},
   "outputs": [
    {
     "data": {
      "text/plain": [
       "array([67.38505107])"
      ]
     },
     "execution_count": 136,
     "metadata": {},
     "output_type": "execute_result"
    }
   ],
   "source": [
    "model.fit(X_test,y_test)\n",
    "model.predict([[0,0,0,0,1,16,13,9,133]])"
   ]
  },
  {
   "cell_type": "code",
   "execution_count": 137,
   "metadata": {},
   "outputs": [
    {
     "data": {
      "text/plain": [
       "0.41261520026924436"
      ]
     },
     "execution_count": 137,
     "metadata": {},
     "output_type": "execute_result"
    }
   ],
   "source": [
    "model.score(X_test,y_test)"
   ]
  },
  {
   "cell_type": "markdown",
   "metadata": {},
   "source": [
    "### Pet"
   ]
  },
  {
   "cell_type": "code",
   "execution_count": 138,
   "metadata": {},
   "outputs": [],
   "source": [
    "pet=pricecatrev.loc[pricecatrev['business_segment']=='pet']\n",
    "pet=pet[pet['product_weight_g']<1300.00]\n",
    "price_pet=pd.DataFrame(pet['price'])\n",
    "review_pet=pd.DataFrame(pet['review_score'])"
   ]
  },
  {
   "cell_type": "code",
   "execution_count": 139,
   "metadata": {},
   "outputs": [
    {
     "name": "stdout",
     "output_type": "stream",
     "text": [
      "<class 'pandas.core.frame.DataFrame'>\n",
      "Int64Index: 210 entries, 4 to 12418\n",
      "Data columns (total 39 columns):\n",
      " #   Column                         Non-Null Count  Dtype  \n",
      "---  ------                         --------------  -----  \n",
      " 0   Unnamed: 0                     210 non-null    int64  \n",
      " 1   mql_id                         210 non-null    object \n",
      " 2   first_contact_date             210 non-null    object \n",
      " 3   landing_page_id                210 non-null    object \n",
      " 4   origin                         210 non-null    object \n",
      " 5   seller_id                      210 non-null    object \n",
      " 6   sdr_id                         210 non-null    object \n",
      " 7   sr_id                          210 non-null    object \n",
      " 8   won_date                       210 non-null    object \n",
      " 9   business_segment               210 non-null    object \n",
      " 10  lead_type                      204 non-null    object \n",
      " 11  lead_behaviour_profile         49 non-null     object \n",
      " 12  has_company                    0 non-null      object \n",
      " 13  has_gtin                       0 non-null      object \n",
      " 14  average_stock                  0 non-null      object \n",
      " 15  business_type                  210 non-null    object \n",
      " 16  declared_product_catalog_size  0 non-null      float64\n",
      " 17  declared_monthly_revenue       210 non-null    float64\n",
      " 18  order_id                       210 non-null    object \n",
      " 19  order_item_id                  210 non-null    float64\n",
      " 20  product_id                     210 non-null    object \n",
      " 21  shipping_limit_date            210 non-null    object \n",
      " 22  price                          210 non-null    float64\n",
      " 23  freight_value                  210 non-null    float64\n",
      " 24  product_category_name          210 non-null    object \n",
      " 25  product_name_lenght            210 non-null    float64\n",
      " 26  product_description_lenght     210 non-null    float64\n",
      " 27  product_photos_qty             210 non-null    float64\n",
      " 28  product_weight_g               210 non-null    float64\n",
      " 29  product_length_cm              210 non-null    float64\n",
      " 30  product_height_cm              210 non-null    float64\n",
      " 31  product_width_cm               210 non-null    float64\n",
      " 32  product_category_name_english  210 non-null    object \n",
      " 33  review_id                      210 non-null    object \n",
      " 34  review_score                   210 non-null    float64\n",
      " 35  review_comment_title           79 non-null     object \n",
      " 36  review_comment_message         78 non-null     object \n",
      " 37  review_creation_date           210 non-null    object \n",
      " 38  review_answer_timestamp        210 non-null    object \n",
      "dtypes: float64(13), int64(1), object(25)\n",
      "memory usage: 65.6+ KB\n"
     ]
    }
   ],
   "source": [
    "pet.info()"
   ]
  },
  {
   "cell_type": "code",
   "execution_count": 140,
   "metadata": {},
   "outputs": [
    {
     "data": {
      "text/html": [
       "<div>\n",
       "<style scoped>\n",
       "    .dataframe tbody tr th:only-of-type {\n",
       "        vertical-align: middle;\n",
       "    }\n",
       "\n",
       "    .dataframe tbody tr th {\n",
       "        vertical-align: top;\n",
       "    }\n",
       "\n",
       "    .dataframe thead th {\n",
       "        text-align: right;\n",
       "    }\n",
       "</style>\n",
       "<table border=\"1\" class=\"dataframe\">\n",
       "  <thead>\n",
       "    <tr style=\"text-align: right;\">\n",
       "      <th></th>\n",
       "      <th>price</th>\n",
       "    </tr>\n",
       "  </thead>\n",
       "  <tbody>\n",
       "    <tr>\n",
       "      <th>count</th>\n",
       "      <td>210.000000</td>\n",
       "    </tr>\n",
       "    <tr>\n",
       "      <th>mean</th>\n",
       "      <td>111.896381</td>\n",
       "    </tr>\n",
       "    <tr>\n",
       "      <th>std</th>\n",
       "      <td>108.908027</td>\n",
       "    </tr>\n",
       "    <tr>\n",
       "      <th>min</th>\n",
       "      <td>15.000000</td>\n",
       "    </tr>\n",
       "    <tr>\n",
       "      <th>25%</th>\n",
       "      <td>46.275000</td>\n",
       "    </tr>\n",
       "    <tr>\n",
       "      <th>50%</th>\n",
       "      <td>107.990000</td>\n",
       "    </tr>\n",
       "    <tr>\n",
       "      <th>75%</th>\n",
       "      <td>129.970000</td>\n",
       "    </tr>\n",
       "    <tr>\n",
       "      <th>max</th>\n",
       "      <td>955.000000</td>\n",
       "    </tr>\n",
       "  </tbody>\n",
       "</table>\n",
       "</div>"
      ],
      "text/plain": [
       "            price\n",
       "count  210.000000\n",
       "mean   111.896381\n",
       "std    108.908027\n",
       "min     15.000000\n",
       "25%     46.275000\n",
       "50%    107.990000\n",
       "75%    129.970000\n",
       "max    955.000000"
      ]
     },
     "execution_count": 140,
     "metadata": {},
     "output_type": "execute_result"
    }
   ],
   "source": [
    "price_pet.describe()"
   ]
  },
  {
   "cell_type": "code",
   "execution_count": 141,
   "metadata": {},
   "outputs": [
    {
     "data": {
      "text/plain": [
       "review_score\n",
       "5.0             150\n",
       "4.0              28\n",
       "1.0              14\n",
       "3.0              10\n",
       "2.0               8\n",
       "dtype: int64"
      ]
     },
     "execution_count": 141,
     "metadata": {},
     "output_type": "execute_result"
    }
   ],
   "source": [
    "review_pet.value_counts()"
   ]
  },
  {
   "cell_type": "code",
   "execution_count": 142,
   "metadata": {},
   "outputs": [
    {
     "data": {
      "image/png": "[encoded data removed]",
      "text/plain": [
       "<Figure size 1728x432 with 3 Axes>"
      ]
     },
     "metadata": {},
     "output_type": "display_data"
    }
   ],
   "source": [
    "plot_price(price_pet)"
   ]
  },
  {
   "cell_type": "code",
   "execution_count": 143,
   "metadata": {},
   "outputs": [
    {
     "data": {
      "image/png": "[encoded data removed]",
      "text/plain": [
       "<Figure size 360x360 with 1 Axes>"
      ]
     },
     "metadata": {},
     "output_type": "display_data"
    }
   ],
   "source": [
    "plot_review(review_pet)"
   ]
  },
  {
   "cell_type": "code",
   "execution_count": 144,
   "metadata": {},
   "outputs": [
    {
     "data": {
      "image/png": "[encoded data removed]",
      "text/plain": [
       "<Figure size 1296x432 with 1 Axes>"
      ]
     },
     "metadata": {},
     "output_type": "display_data"
    }
   ],
   "source": [
    "plot_both(price_pet,review_pet)"
   ]
  },
  {
   "cell_type": "code",
   "execution_count": 145,
   "metadata": {},
   "outputs": [
    {
     "name": "stderr",
     "output_type": "stream",
     "text": [
      "C:\\Users\\Daren\\anaconda3\\lib\\site-packages\\seaborn\\categorical.py:1296: UserWarning: 12.0% of the points cannot be placed; you may want to decrease the size of the markers or use stripplot.\n",
      "  warnings.warn(msg, UserWarning)\n"
     ]
    },
    {
     "data": {
      "image/png": "[encoded data removed]",
      "text/plain": [
       "<Figure size 1296x432 with 1 Axes>"
      ]
     },
     "metadata": {},
     "output_type": "display_data"
    }
   ],
   "source": [
    "plot_scatter(price_pet,review_pet)"
   ]
  },
  {
   "cell_type": "code",
   "execution_count": 146,
   "metadata": {},
   "outputs": [
    {
     "data": {
      "text/html": [
       "<div>\n",
       "<style scoped>\n",
       "    .dataframe tbody tr th:only-of-type {\n",
       "        vertical-align: middle;\n",
       "    }\n",
       "\n",
       "    .dataframe tbody tr th {\n",
       "        vertical-align: top;\n",
       "    }\n",
       "\n",
       "    .dataframe thead th {\n",
       "        text-align: right;\n",
       "    }\n",
       "</style>\n",
       "<table border=\"1\" class=\"dataframe\">\n",
       "  <thead>\n",
       "    <tr style=\"text-align: right;\">\n",
       "      <th></th>\n",
       "      <th>review_score</th>\n",
       "      <th>price</th>\n",
       "      <th>product_length_cm</th>\n",
       "      <th>product_width_cm</th>\n",
       "      <th>product_height_cm</th>\n",
       "      <th>product_weight_g</th>\n",
       "    </tr>\n",
       "  </thead>\n",
       "  <tbody>\n",
       "    <tr>\n",
       "      <th>4</th>\n",
       "      <td>5.0</td>\n",
       "      <td>94.20</td>\n",
       "      <td>23.0</td>\n",
       "      <td>19.0</td>\n",
       "      <td>17.0</td>\n",
       "      <td>625.0</td>\n",
       "    </tr>\n",
       "    <tr>\n",
       "      <th>6</th>\n",
       "      <td>5.0</td>\n",
       "      <td>99.80</td>\n",
       "      <td>26.0</td>\n",
       "      <td>23.0</td>\n",
       "      <td>19.0</td>\n",
       "      <td>900.0</td>\n",
       "    </tr>\n",
       "    <tr>\n",
       "      <th>1048</th>\n",
       "      <td>5.0</td>\n",
       "      <td>168.80</td>\n",
       "      <td>18.0</td>\n",
       "      <td>14.0</td>\n",
       "      <td>10.0</td>\n",
       "      <td>127.0</td>\n",
       "    </tr>\n",
       "    <tr>\n",
       "      <th>1049</th>\n",
       "      <td>5.0</td>\n",
       "      <td>69.99</td>\n",
       "      <td>17.0</td>\n",
       "      <td>14.0</td>\n",
       "      <td>13.0</td>\n",
       "      <td>138.0</td>\n",
       "    </tr>\n",
       "    <tr>\n",
       "      <th>1050</th>\n",
       "      <td>5.0</td>\n",
       "      <td>69.99</td>\n",
       "      <td>17.0</td>\n",
       "      <td>14.0</td>\n",
       "      <td>13.0</td>\n",
       "      <td>138.0</td>\n",
       "    </tr>\n",
       "    <tr>\n",
       "      <th>1051</th>\n",
       "      <td>5.0</td>\n",
       "      <td>168.80</td>\n",
       "      <td>18.0</td>\n",
       "      <td>14.0</td>\n",
       "      <td>10.0</td>\n",
       "      <td>127.0</td>\n",
       "    </tr>\n",
       "    <tr>\n",
       "      <th>1052</th>\n",
       "      <td>5.0</td>\n",
       "      <td>108.90</td>\n",
       "      <td>18.0</td>\n",
       "      <td>14.0</td>\n",
       "      <td>10.0</td>\n",
       "      <td>156.0</td>\n",
       "    </tr>\n",
       "    <tr>\n",
       "      <th>1053</th>\n",
       "      <td>5.0</td>\n",
       "      <td>108.90</td>\n",
       "      <td>18.0</td>\n",
       "      <td>14.0</td>\n",
       "      <td>10.0</td>\n",
       "      <td>156.0</td>\n",
       "    </tr>\n",
       "    <tr>\n",
       "      <th>1054</th>\n",
       "      <td>5.0</td>\n",
       "      <td>105.99</td>\n",
       "      <td>19.0</td>\n",
       "      <td>14.0</td>\n",
       "      <td>12.0</td>\n",
       "      <td>180.0</td>\n",
       "    </tr>\n",
       "    <tr>\n",
       "      <th>1055</th>\n",
       "      <td>5.0</td>\n",
       "      <td>105.99</td>\n",
       "      <td>19.0</td>\n",
       "      <td>14.0</td>\n",
       "      <td>12.0</td>\n",
       "      <td>180.0</td>\n",
       "    </tr>\n",
       "  </tbody>\n",
       "</table>\n",
       "</div>"
      ],
      "text/plain": [
       "      review_score   price  product_length_cm  product_width_cm  \\\n",
       "4              5.0   94.20               23.0              19.0   \n",
       "6              5.0   99.80               26.0              23.0   \n",
       "1048           5.0  168.80               18.0              14.0   \n",
       "1049           5.0   69.99               17.0              14.0   \n",
       "1050           5.0   69.99               17.0              14.0   \n",
       "1051           5.0  168.80               18.0              14.0   \n",
       "1052           5.0  108.90               18.0              14.0   \n",
       "1053           5.0  108.90               18.0              14.0   \n",
       "1054           5.0  105.99               19.0              14.0   \n",
       "1055           5.0  105.99               19.0              14.0   \n",
       "\n",
       "      product_height_cm  product_weight_g  \n",
       "4                  17.0             625.0  \n",
       "6                  19.0             900.0  \n",
       "1048               10.0             127.0  \n",
       "1049               13.0             138.0  \n",
       "1050               13.0             138.0  \n",
       "1051               10.0             127.0  \n",
       "1052               10.0             156.0  \n",
       "1053               10.0             156.0  \n",
       "1054               12.0             180.0  \n",
       "1055               12.0             180.0  "
      ]
     },
     "execution_count": 146,
     "metadata": {},
     "output_type": "execute_result"
    }
   ],
   "source": [
    "petData=set_data(pet)\n",
    "petData.head(10)"
   ]
  },
  {
   "cell_type": "code",
   "execution_count": 147,
   "metadata": {},
   "outputs": [
    {
     "data": {
      "text/plain": [
       "array([ 1.,  0.,  0.,  0.,  0., 23., 15.,  8., 75.])"
      ]
     },
     "execution_count": 147,
     "metadata": {},
     "output_type": "execute_result"
    }
   ],
   "source": [
    "X_train,X_test,y_train,y_test=train_data(petData)\n",
    "X_train[0]"
   ]
  },
  {
   "cell_type": "code",
   "execution_count": 148,
   "metadata": {},
   "outputs": [
    {
     "data": {
      "text/plain": [
       "array([222.18849129])"
      ]
     },
     "execution_count": 148,
     "metadata": {},
     "output_type": "execute_result"
    }
   ],
   "source": [
    "model.fit(X_train,y_train)\n",
    "model.predict([[0,0,0,0,1,23,19,17,625]])"
   ]
  },
  {
   "cell_type": "code",
   "execution_count": 149,
   "metadata": {},
   "outputs": [
    {
     "data": {
      "text/plain": [
       "0.40382935690151445"
      ]
     },
     "execution_count": 149,
     "metadata": {},
     "output_type": "execute_result"
    }
   ],
   "source": [
    "model.score(X_train,y_train)"
   ]
  },
  {
   "cell_type": "code",
   "execution_count": 150,
   "metadata": {},
   "outputs": [
    {
     "data": {
      "text/plain": [
       "array([291.10615982])"
      ]
     },
     "execution_count": 150,
     "metadata": {},
     "output_type": "execute_result"
    }
   ],
   "source": [
    "model.fit(X_test,y_test)\n",
    "model.predict([[0,0,0,0,1,23,19,17,625]])"
   ]
  },
  {
   "cell_type": "code",
   "execution_count": 151,
   "metadata": {},
   "outputs": [
    {
     "data": {
      "text/plain": [
       "0.37126890705895943"
      ]
     },
     "execution_count": 151,
     "metadata": {},
     "output_type": "execute_result"
    }
   ],
   "source": [
    "model.score(X_test,y_test)"
   ]
  },
  {
   "cell_type": "markdown",
   "metadata": {},
   "source": [
    "### Car Accessories"
   ]
  },
  {
   "cell_type": "code",
   "execution_count": 152,
   "metadata": {},
   "outputs": [],
   "source": [
    "car=pricecatrev.loc[pricecatrev['business_segment']=='car_accessories']\n",
    "car=car[car['product_weight_g']<2000.00]\n",
    "price_car=pd.DataFrame(car['price'])\n",
    "review_car=pd.DataFrame(car['review_score'])"
   ]
  },
  {
   "cell_type": "code",
   "execution_count": 153,
   "metadata": {},
   "outputs": [
    {
     "name": "stdout",
     "output_type": "stream",
     "text": [
      "<class 'pandas.core.frame.DataFrame'>\n",
      "Int64Index: 114 entries, 1318 to 12227\n",
      "Data columns (total 39 columns):\n",
      " #   Column                         Non-Null Count  Dtype  \n",
      "---  ------                         --------------  -----  \n",
      " 0   Unnamed: 0                     114 non-null    int64  \n",
      " 1   mql_id                         114 non-null    object \n",
      " 2   first_contact_date             114 non-null    object \n",
      " 3   landing_page_id                114 non-null    object \n",
      " 4   origin                         114 non-null    object \n",
      " 5   seller_id                      114 non-null    object \n",
      " 6   sdr_id                         114 non-null    object \n",
      " 7   sr_id                          114 non-null    object \n",
      " 8   won_date                       114 non-null    object \n",
      " 9   business_segment               114 non-null    object \n",
      " 10  lead_type                      114 non-null    object \n",
      " 11  lead_behaviour_profile         106 non-null    object \n",
      " 12  has_company                    0 non-null      object \n",
      " 13  has_gtin                       0 non-null      object \n",
      " 14  average_stock                  0 non-null      object \n",
      " 15  business_type                  114 non-null    object \n",
      " 16  declared_product_catalog_size  0 non-null      float64\n",
      " 17  declared_monthly_revenue       114 non-null    float64\n",
      " 18  order_id                       114 non-null    object \n",
      " 19  order_item_id                  114 non-null    float64\n",
      " 20  product_id                     114 non-null    object \n",
      " 21  shipping_limit_date            114 non-null    object \n",
      " 22  price                          114 non-null    float64\n",
      " 23  freight_value                  114 non-null    float64\n",
      " 24  product_category_name          114 non-null    object \n",
      " 25  product_name_lenght            114 non-null    float64\n",
      " 26  product_description_lenght     114 non-null    float64\n",
      " 27  product_photos_qty             114 non-null    float64\n",
      " 28  product_weight_g               114 non-null    float64\n",
      " 29  product_length_cm              114 non-null    float64\n",
      " 30  product_height_cm              114 non-null    float64\n",
      " 31  product_width_cm               114 non-null    float64\n",
      " 32  product_category_name_english  114 non-null    object \n",
      " 33  review_id                      114 non-null    object \n",
      " 34  review_score                   114 non-null    float64\n",
      " 35  review_comment_title           54 non-null     object \n",
      " 36  review_comment_message         64 non-null     object \n",
      " 37  review_creation_date           114 non-null    object \n",
      " 38  review_answer_timestamp        114 non-null    object \n",
      "dtypes: float64(13), int64(1), object(25)\n",
      "memory usage: 35.6+ KB\n"
     ]
    }
   ],
   "source": [
    "car.info()"
   ]
  },
  {
   "cell_type": "code",
   "execution_count": 154,
   "metadata": {},
   "outputs": [
    {
     "data": {
      "text/html": [
       "<div>\n",
       "<style scoped>\n",
       "    .dataframe tbody tr th:only-of-type {\n",
       "        vertical-align: middle;\n",
       "    }\n",
       "\n",
       "    .dataframe tbody tr th {\n",
       "        vertical-align: top;\n",
       "    }\n",
       "\n",
       "    .dataframe thead th {\n",
       "        text-align: right;\n",
       "    }\n",
       "</style>\n",
       "<table border=\"1\" class=\"dataframe\">\n",
       "  <thead>\n",
       "    <tr style=\"text-align: right;\">\n",
       "      <th></th>\n",
       "      <th>price</th>\n",
       "    </tr>\n",
       "  </thead>\n",
       "  <tbody>\n",
       "    <tr>\n",
       "      <th>count</th>\n",
       "      <td>114.000000</td>\n",
       "    </tr>\n",
       "    <tr>\n",
       "      <th>mean</th>\n",
       "      <td>155.358333</td>\n",
       "    </tr>\n",
       "    <tr>\n",
       "      <th>std</th>\n",
       "      <td>355.035879</td>\n",
       "    </tr>\n",
       "    <tr>\n",
       "      <th>min</th>\n",
       "      <td>13.620000</td>\n",
       "    </tr>\n",
       "    <tr>\n",
       "      <th>25%</th>\n",
       "      <td>30.972500</td>\n",
       "    </tr>\n",
       "    <tr>\n",
       "      <th>50%</th>\n",
       "      <td>60.990000</td>\n",
       "    </tr>\n",
       "    <tr>\n",
       "      <th>75%</th>\n",
       "      <td>127.392500</td>\n",
       "    </tr>\n",
       "    <tr>\n",
       "      <th>max</th>\n",
       "      <td>2749.000000</td>\n",
       "    </tr>\n",
       "  </tbody>\n",
       "</table>\n",
       "</div>"
      ],
      "text/plain": [
       "             price\n",
       "count   114.000000\n",
       "mean    155.358333\n",
       "std     355.035879\n",
       "min      13.620000\n",
       "25%      30.972500\n",
       "50%      60.990000\n",
       "75%     127.392500\n",
       "max    2749.000000"
      ]
     },
     "execution_count": 154,
     "metadata": {},
     "output_type": "execute_result"
    }
   ],
   "source": [
    "price_car.describe()"
   ]
  },
  {
   "cell_type": "code",
   "execution_count": 155,
   "metadata": {},
   "outputs": [
    {
     "data": {
      "text/plain": [
       "review_score\n",
       "5.0             65\n",
       "1.0             18\n",
       "4.0             17\n",
       "3.0              8\n",
       "2.0              6\n",
       "dtype: int64"
      ]
     },
     "execution_count": 155,
     "metadata": {},
     "output_type": "execute_result"
    }
   ],
   "source": [
    "review_car.value_counts()"
   ]
  },
  {
   "cell_type": "code",
   "execution_count": 156,
   "metadata": {},
   "outputs": [
    {
     "data": {
      "image/png": "[encoded data removed]",
      "text/plain": [
       "<Figure size 1728x432 with 3 Axes>"
      ]
     },
     "metadata": {},
     "output_type": "display_data"
    }
   ],
   "source": [
    "plot_price(price_car)"
   ]
  },
  {
   "cell_type": "code",
   "execution_count": 157,
   "metadata": {},
   "outputs": [
    {
     "data": {
      "image/png": "[encoded data removed]",
      "text/plain": [
       "<Figure size 360x360 with 1 Axes>"
      ]
     },
     "metadata": {},
     "output_type": "display_data"
    }
   ],
   "source": [
    "plot_review(review_car)"
   ]
  },
  {
   "cell_type": "code",
   "execution_count": 158,
   "metadata": {},
   "outputs": [
    {
     "data": {
      "image/png": "[encoded data removed]",
      "text/plain": [
       "<Figure size 1296x432 with 1 Axes>"
      ]
     },
     "metadata": {},
     "output_type": "display_data"
    }
   ],
   "source": [
    "plot_both(review_car,price_car)"
   ]
  },
  {
   "cell_type": "code",
   "execution_count": 159,
   "metadata": {},
   "outputs": [
    {
     "name": "stderr",
     "output_type": "stream",
     "text": [
      "C:\\Users\\Daren\\anaconda3\\lib\\site-packages\\seaborn\\categorical.py:1296: UserWarning: 20.0% of the points cannot be placed; you may want to decrease the size of the markers or use stripplot.\n",
      "  warnings.warn(msg, UserWarning)\n"
     ]
    },
    {
     "data": {
      "image/png": "[encoded data removed]",
      "text/plain": [
       "<Figure size 1296x432 with 1 Axes>"
      ]
     },
     "metadata": {},
     "output_type": "display_data"
    }
   ],
   "source": [
    "plot_scatter(review_car,price_car)"
   ]
  },
  {
   "cell_type": "code",
   "execution_count": 160,
   "metadata": {},
   "outputs": [
    {
     "data": {
      "text/html": [
       "<div>\n",
       "<style scoped>\n",
       "    .dataframe tbody tr th:only-of-type {\n",
       "        vertical-align: middle;\n",
       "    }\n",
       "\n",
       "    .dataframe tbody tr th {\n",
       "        vertical-align: top;\n",
       "    }\n",
       "\n",
       "    .dataframe thead th {\n",
       "        text-align: right;\n",
       "    }\n",
       "</style>\n",
       "<table border=\"1\" class=\"dataframe\">\n",
       "  <thead>\n",
       "    <tr style=\"text-align: right;\">\n",
       "      <th></th>\n",
       "      <th>review_score</th>\n",
       "      <th>price</th>\n",
       "      <th>product_length_cm</th>\n",
       "      <th>product_width_cm</th>\n",
       "      <th>product_height_cm</th>\n",
       "      <th>product_weight_g</th>\n",
       "    </tr>\n",
       "  </thead>\n",
       "  <tbody>\n",
       "    <tr>\n",
       "      <th>1318</th>\n",
       "      <td>5.0</td>\n",
       "      <td>42.00</td>\n",
       "      <td>36.0</td>\n",
       "      <td>27.0</td>\n",
       "      <td>6.0</td>\n",
       "      <td>400.0</td>\n",
       "    </tr>\n",
       "    <tr>\n",
       "      <th>1319</th>\n",
       "      <td>4.0</td>\n",
       "      <td>42.00</td>\n",
       "      <td>36.0</td>\n",
       "      <td>27.0</td>\n",
       "      <td>6.0</td>\n",
       "      <td>400.0</td>\n",
       "    </tr>\n",
       "    <tr>\n",
       "      <th>1681</th>\n",
       "      <td>1.0</td>\n",
       "      <td>498.90</td>\n",
       "      <td>27.0</td>\n",
       "      <td>27.0</td>\n",
       "      <td>24.0</td>\n",
       "      <td>1550.0</td>\n",
       "    </tr>\n",
       "    <tr>\n",
       "      <th>1682</th>\n",
       "      <td>1.0</td>\n",
       "      <td>498.90</td>\n",
       "      <td>27.0</td>\n",
       "      <td>27.0</td>\n",
       "      <td>24.0</td>\n",
       "      <td>1550.0</td>\n",
       "    </tr>\n",
       "    <tr>\n",
       "      <th>1683</th>\n",
       "      <td>4.0</td>\n",
       "      <td>498.90</td>\n",
       "      <td>27.0</td>\n",
       "      <td>27.0</td>\n",
       "      <td>24.0</td>\n",
       "      <td>1550.0</td>\n",
       "    </tr>\n",
       "    <tr>\n",
       "      <th>1684</th>\n",
       "      <td>5.0</td>\n",
       "      <td>76.00</td>\n",
       "      <td>20.0</td>\n",
       "      <td>20.0</td>\n",
       "      <td>20.0</td>\n",
       "      <td>600.0</td>\n",
       "    </tr>\n",
       "    <tr>\n",
       "      <th>2094</th>\n",
       "      <td>5.0</td>\n",
       "      <td>39.99</td>\n",
       "      <td>16.0</td>\n",
       "      <td>11.0</td>\n",
       "      <td>12.0</td>\n",
       "      <td>200.0</td>\n",
       "    </tr>\n",
       "    <tr>\n",
       "      <th>2095</th>\n",
       "      <td>4.0</td>\n",
       "      <td>23.98</td>\n",
       "      <td>18.0</td>\n",
       "      <td>14.0</td>\n",
       "      <td>11.0</td>\n",
       "      <td>250.0</td>\n",
       "    </tr>\n",
       "    <tr>\n",
       "      <th>2096</th>\n",
       "      <td>5.0</td>\n",
       "      <td>60.99</td>\n",
       "      <td>18.0</td>\n",
       "      <td>14.0</td>\n",
       "      <td>11.0</td>\n",
       "      <td>175.0</td>\n",
       "    </tr>\n",
       "    <tr>\n",
       "      <th>2097</th>\n",
       "      <td>2.0</td>\n",
       "      <td>60.99</td>\n",
       "      <td>18.0</td>\n",
       "      <td>14.0</td>\n",
       "      <td>11.0</td>\n",
       "      <td>175.0</td>\n",
       "    </tr>\n",
       "  </tbody>\n",
       "</table>\n",
       "</div>"
      ],
      "text/plain": [
       "      review_score   price  product_length_cm  product_width_cm  \\\n",
       "1318           5.0   42.00               36.0              27.0   \n",
       "1319           4.0   42.00               36.0              27.0   \n",
       "1681           1.0  498.90               27.0              27.0   \n",
       "1682           1.0  498.90               27.0              27.0   \n",
       "1683           4.0  498.90               27.0              27.0   \n",
       "1684           5.0   76.00               20.0              20.0   \n",
       "2094           5.0   39.99               16.0              11.0   \n",
       "2095           4.0   23.98               18.0              14.0   \n",
       "2096           5.0   60.99               18.0              14.0   \n",
       "2097           2.0   60.99               18.0              14.0   \n",
       "\n",
       "      product_height_cm  product_weight_g  \n",
       "1318                6.0             400.0  \n",
       "1319                6.0             400.0  \n",
       "1681               24.0            1550.0  \n",
       "1682               24.0            1550.0  \n",
       "1683               24.0            1550.0  \n",
       "1684               20.0             600.0  \n",
       "2094               12.0             200.0  \n",
       "2095               11.0             250.0  \n",
       "2096               11.0             175.0  \n",
       "2097               11.0             175.0  "
      ]
     },
     "execution_count": 160,
     "metadata": {},
     "output_type": "execute_result"
    }
   ],
   "source": [
    "carData=set_data(car)\n",
    "carData.head(10)"
   ]
  },
  {
   "cell_type": "code",
   "execution_count": 161,
   "metadata": {},
   "outputs": [
    {
     "data": {
      "text/plain": [
       "array([1.00e+00, 0.00e+00, 0.00e+00, 0.00e+00, 0.00e+00, 3.20e+01,\n",
       "       1.10e+01, 2.20e+01, 1.65e+03])"
      ]
     },
     "execution_count": 161,
     "metadata": {},
     "output_type": "execute_result"
    }
   ],
   "source": [
    "X_train,X_test,y_train,y_test=train_data(carData)\n",
    "X_train[0]"
   ]
  },
  {
   "cell_type": "code",
   "execution_count": 162,
   "metadata": {},
   "outputs": [
    {
     "data": {
      "text/plain": [
       "array([23.46092901])"
      ]
     },
     "execution_count": 162,
     "metadata": {},
     "output_type": "execute_result"
    }
   ],
   "source": [
    "model.fit(X_train,y_train)\n",
    "model.predict([[0,0,0,0,1,36,27,6,400]])"
   ]
  },
  {
   "cell_type": "code",
   "execution_count": 163,
   "metadata": {},
   "outputs": [
    {
     "data": {
      "text/plain": [
       "0.22713392754899486"
      ]
     },
     "execution_count": 163,
     "metadata": {},
     "output_type": "execute_result"
    }
   ],
   "source": [
    "model.score(X_train,y_train)"
   ]
  },
  {
   "cell_type": "code",
   "execution_count": 164,
   "metadata": {},
   "outputs": [
    {
     "ename": "ValueError",
     "evalue": "matmul: Input operand 1 has a mismatch in its core dimension 0, with gufunc signature (n?,k),(k,m?)->(n?,m?) (size 9 is different from 8)",
     "output_type": "error",
     "traceback": [
      "\u001b[1;31m---------------------------------------------------------------------------\u001b[0m",
      "\u001b[1;31mValueError\u001b[0m                                Traceback (most recent call last)",
      "\u001b[1;32m<ipython-input-164-39b4e9260893>\u001b[0m in \u001b[0;36m<module>\u001b[1;34m\u001b[0m\n\u001b[0;32m      1\u001b[0m \u001b[0mmodel\u001b[0m\u001b[1;33m.\u001b[0m\u001b[0mfit\u001b[0m\u001b[1;33m(\u001b[0m\u001b[0mX_test\u001b[0m\u001b[1;33m,\u001b[0m\u001b[0my_test\u001b[0m\u001b[1;33m)\u001b[0m\u001b[1;33m\u001b[0m\u001b[1;33m\u001b[0m\u001b[0m\n\u001b[1;32m----> 2\u001b[1;33m \u001b[0mmodel\u001b[0m\u001b[1;33m.\u001b[0m\u001b[0mpredict\u001b[0m\u001b[1;33m(\u001b[0m\u001b[1;33m[\u001b[0m\u001b[1;33m[\u001b[0m\u001b[1;36m0\u001b[0m\u001b[1;33m,\u001b[0m\u001b[1;36m0\u001b[0m\u001b[1;33m,\u001b[0m\u001b[1;36m0\u001b[0m\u001b[1;33m,\u001b[0m\u001b[1;36m1\u001b[0m\u001b[1;33m,\u001b[0m\u001b[1;36m36\u001b[0m\u001b[1;33m,\u001b[0m\u001b[1;36m27\u001b[0m\u001b[1;33m,\u001b[0m\u001b[1;36m6\u001b[0m\u001b[1;33m,\u001b[0m\u001b[1;36m400\u001b[0m\u001b[1;33m]\u001b[0m\u001b[1;33m]\u001b[0m\u001b[1;33m)\u001b[0m\u001b[1;33m\u001b[0m\u001b[1;33m\u001b[0m\u001b[0m\n\u001b[0m",
      "\u001b[1;32m~\\anaconda3\\lib\\site-packages\\sklearn\\linear_model\\_base.py\u001b[0m in \u001b[0;36mpredict\u001b[1;34m(self, X)\u001b[0m\n\u001b[0;32m    234\u001b[0m             \u001b[0mReturns\u001b[0m \u001b[0mpredicted\u001b[0m \u001b[0mvalues\u001b[0m\u001b[1;33m.\u001b[0m\u001b[1;33m\u001b[0m\u001b[1;33m\u001b[0m\u001b[0m\n\u001b[0;32m    235\u001b[0m         \"\"\"\n\u001b[1;32m--> 236\u001b[1;33m         \u001b[1;32mreturn\u001b[0m \u001b[0mself\u001b[0m\u001b[1;33m.\u001b[0m\u001b[0m_decision_function\u001b[0m\u001b[1;33m(\u001b[0m\u001b[0mX\u001b[0m\u001b[1;33m)\u001b[0m\u001b[1;33m\u001b[0m\u001b[1;33m\u001b[0m\u001b[0m\n\u001b[0m\u001b[0;32m    237\u001b[0m \u001b[1;33m\u001b[0m\u001b[0m\n\u001b[0;32m    238\u001b[0m     \u001b[0m_preprocess_data\u001b[0m \u001b[1;33m=\u001b[0m \u001b[0mstaticmethod\u001b[0m\u001b[1;33m(\u001b[0m\u001b[0m_preprocess_data\u001b[0m\u001b[1;33m)\u001b[0m\u001b[1;33m\u001b[0m\u001b[1;33m\u001b[0m\u001b[0m\n",
      "\u001b[1;32m~\\anaconda3\\lib\\site-packages\\sklearn\\linear_model\\_base.py\u001b[0m in \u001b[0;36m_decision_function\u001b[1;34m(self, X)\u001b[0m\n\u001b[0;32m    217\u001b[0m \u001b[1;33m\u001b[0m\u001b[0m\n\u001b[0;32m    218\u001b[0m         \u001b[0mX\u001b[0m \u001b[1;33m=\u001b[0m \u001b[0mcheck_array\u001b[0m\u001b[1;33m(\u001b[0m\u001b[0mX\u001b[0m\u001b[1;33m,\u001b[0m \u001b[0maccept_sparse\u001b[0m\u001b[1;33m=\u001b[0m\u001b[1;33m[\u001b[0m\u001b[1;34m'csr'\u001b[0m\u001b[1;33m,\u001b[0m \u001b[1;34m'csc'\u001b[0m\u001b[1;33m,\u001b[0m \u001b[1;34m'coo'\u001b[0m\u001b[1;33m]\u001b[0m\u001b[1;33m)\u001b[0m\u001b[1;33m\u001b[0m\u001b[1;33m\u001b[0m\u001b[0m\n\u001b[1;32m--> 219\u001b[1;33m         return safe_sparse_dot(X, self.coef_.T,\n\u001b[0m\u001b[0;32m    220\u001b[0m                                dense_output=True) + self.intercept_\n\u001b[0;32m    221\u001b[0m \u001b[1;33m\u001b[0m\u001b[0m\n",
      "\u001b[1;32m~\\anaconda3\\lib\\site-packages\\sklearn\\utils\\validation.py\u001b[0m in \u001b[0;36minner_f\u001b[1;34m(*args, **kwargs)\u001b[0m\n\u001b[0;32m     70\u001b[0m                           FutureWarning)\n\u001b[0;32m     71\u001b[0m         \u001b[0mkwargs\u001b[0m\u001b[1;33m.\u001b[0m\u001b[0mupdate\u001b[0m\u001b[1;33m(\u001b[0m\u001b[1;33m{\u001b[0m\u001b[0mk\u001b[0m\u001b[1;33m:\u001b[0m \u001b[0marg\u001b[0m \u001b[1;32mfor\u001b[0m \u001b[0mk\u001b[0m\u001b[1;33m,\u001b[0m \u001b[0marg\u001b[0m \u001b[1;32min\u001b[0m \u001b[0mzip\u001b[0m\u001b[1;33m(\u001b[0m\u001b[0msig\u001b[0m\u001b[1;33m.\u001b[0m\u001b[0mparameters\u001b[0m\u001b[1;33m,\u001b[0m \u001b[0margs\u001b[0m\u001b[1;33m)\u001b[0m\u001b[1;33m}\u001b[0m\u001b[1;33m)\u001b[0m\u001b[1;33m\u001b[0m\u001b[1;33m\u001b[0m\u001b[0m\n\u001b[1;32m---> 72\u001b[1;33m         \u001b[1;32mreturn\u001b[0m \u001b[0mf\u001b[0m\u001b[1;33m(\u001b[0m\u001b[1;33m**\u001b[0m\u001b[0mkwargs\u001b[0m\u001b[1;33m)\u001b[0m\u001b[1;33m\u001b[0m\u001b[1;33m\u001b[0m\u001b[0m\n\u001b[0m\u001b[0;32m     73\u001b[0m     \u001b[1;32mreturn\u001b[0m \u001b[0minner_f\u001b[0m\u001b[1;33m\u001b[0m\u001b[1;33m\u001b[0m\u001b[0m\n\u001b[0;32m     74\u001b[0m \u001b[1;33m\u001b[0m\u001b[0m\n",
      "\u001b[1;32m~\\anaconda3\\lib\\site-packages\\sklearn\\utils\\extmath.py\u001b[0m in \u001b[0;36msafe_sparse_dot\u001b[1;34m(a, b, dense_output)\u001b[0m\n\u001b[0;32m    151\u001b[0m             \u001b[0mret\u001b[0m \u001b[1;33m=\u001b[0m \u001b[0mnp\u001b[0m\u001b[1;33m.\u001b[0m\u001b[0mdot\u001b[0m\u001b[1;33m(\u001b[0m\u001b[0ma\u001b[0m\u001b[1;33m,\u001b[0m \u001b[0mb\u001b[0m\u001b[1;33m)\u001b[0m\u001b[1;33m\u001b[0m\u001b[1;33m\u001b[0m\u001b[0m\n\u001b[0;32m    152\u001b[0m     \u001b[1;32melse\u001b[0m\u001b[1;33m:\u001b[0m\u001b[1;33m\u001b[0m\u001b[1;33m\u001b[0m\u001b[0m\n\u001b[1;32m--> 153\u001b[1;33m         \u001b[0mret\u001b[0m \u001b[1;33m=\u001b[0m \u001b[0ma\u001b[0m \u001b[1;33m@\u001b[0m \u001b[0mb\u001b[0m\u001b[1;33m\u001b[0m\u001b[1;33m\u001b[0m\u001b[0m\n\u001b[0m\u001b[0;32m    154\u001b[0m \u001b[1;33m\u001b[0m\u001b[0m\n\u001b[0;32m    155\u001b[0m     if (sparse.issparse(a) and sparse.issparse(b)\n",
      "\u001b[1;31mValueError\u001b[0m: matmul: Input operand 1 has a mismatch in its core dimension 0, with gufunc signature (n?,k),(k,m?)->(n?,m?) (size 9 is different from 8)"
     ]
    }
   ],
   "source": [
    "model.fit(X_test,y_test)\n",
    "model.predict([[0,0,0,1,36,27,6,400]])"
   ]
  },
  {
   "cell_type": "code",
   "execution_count": null,
   "metadata": {},
   "outputs": [],
   "source": [
    "model.score(X_test,y_test)"
   ]
  },
  {
   "cell_type": "markdown",
   "metadata": {},
   "source": [
    "### Sports Leisure"
   ]
  },
  {
   "cell_type": "code",
   "execution_count": null,
   "metadata": {},
   "outputs": [],
   "source": [
    "sports=pricecatrev.loc[pricecatrev['business_segment']=='sports_leisure']\n",
    "sports=sports[sports['product_weight_g']<1200.00]\n",
    "price_sports=pd.DataFrame(sports['price'])\n",
    "review_sports=pd.DataFrame(sports['review_score'])"
   ]
  },
  {
   "cell_type": "code",
   "execution_count": null,
   "metadata": {},
   "outputs": [],
   "source": [
    "sports.info()"
   ]
  },
  {
   "cell_type": "code",
   "execution_count": null,
   "metadata": {},
   "outputs": [],
   "source": [
    "price_sports.describe()"
   ]
  },
  {
   "cell_type": "code",
   "execution_count": null,
   "metadata": {},
   "outputs": [],
   "source": [
    "review_sports.value_counts()"
   ]
  },
  {
   "cell_type": "code",
   "execution_count": null,
   "metadata": {},
   "outputs": [],
   "source": [
    "plot_price(price_sports)"
   ]
  },
  {
   "cell_type": "code",
   "execution_count": null,
   "metadata": {},
   "outputs": [],
   "source": [
    "plot_review(review_sports)"
   ]
  },
  {
   "cell_type": "code",
   "execution_count": null,
   "metadata": {},
   "outputs": [],
   "source": [
    "plot_both(review_sports,price_sports)"
   ]
  },
  {
   "cell_type": "code",
   "execution_count": null,
   "metadata": {},
   "outputs": [],
   "source": [
    "plot_scatter(review_sports,price_sports)"
   ]
  },
  {
   "cell_type": "code",
   "execution_count": null,
   "metadata": {},
   "outputs": [],
   "source": [
    "sportsData=set_data(sports)\n",
    "sportsData.head(19)"
   ]
  },
  {
   "cell_type": "code",
   "execution_count": null,
   "metadata": {},
   "outputs": [],
   "source": [
    "X_train,X_test,y_train,y_test=train_data(sportsData)\n",
    "X_train[0]"
   ]
  },
  {
   "cell_type": "code",
   "execution_count": null,
   "metadata": {},
   "outputs": [],
   "source": [
    "model.fit(X_train,y_train)\n",
    "model.predict([[0,0,0,1,30,20,11,750]])"
   ]
  },
  {
   "cell_type": "code",
   "execution_count": null,
   "metadata": {},
   "outputs": [],
   "source": [
    "model.score(X_train,y_train)"
   ]
  },
  {
   "cell_type": "code",
   "execution_count": null,
   "metadata": {},
   "outputs": [],
   "source": [
    "model.fit(X_test,y_test)\n",
    "model.predict([[0,0,1,30,20,11,750]])"
   ]
  },
  {
   "cell_type": "code",
   "execution_count": null,
   "metadata": {},
   "outputs": [],
   "source": [
    "model.score(X_test,y_test)"
   ]
  },
  {
   "cell_type": "markdown",
   "metadata": {},
   "source": [
    "### Backpacks"
   ]
  },
  {
   "cell_type": "code",
   "execution_count": null,
   "metadata": {},
   "outputs": [],
   "source": [
    "backpacks=pricecatrev.loc[pricecatrev['business_segment']=='bags_backpacks']\n",
    "backpacks=backpacks[backpacks['product_weight_g']<1200.00]\n",
    "price_backpacks=pd.DataFrame(backpacks['price'])\n",
    "review_backpacks=pd.DataFrame(backpacks['review_score'])"
   ]
  },
  {
   "cell_type": "code",
   "execution_count": null,
   "metadata": {},
   "outputs": [],
   "source": [
    "backpacks.info()"
   ]
  },
  {
   "cell_type": "code",
   "execution_count": null,
   "metadata": {},
   "outputs": [],
   "source": [
    "price_backpacks.describe()"
   ]
  },
  {
   "cell_type": "code",
   "execution_count": null,
   "metadata": {},
   "outputs": [],
   "source": [
    "review_backpacks.value_counts()"
   ]
  },
  {
   "cell_type": "code",
   "execution_count": null,
   "metadata": {},
   "outputs": [],
   "source": [
    "plot_price(price_backpacks)"
   ]
  },
  {
   "cell_type": "code",
   "execution_count": null,
   "metadata": {},
   "outputs": [],
   "source": [
    "plot_review(review_backpacks)"
   ]
  },
  {
   "cell_type": "code",
   "execution_count": null,
   "metadata": {},
   "outputs": [],
   "source": [
    "plot_both(review_backpacks,price_backpacks)"
   ]
  },
  {
   "cell_type": "code",
   "execution_count": null,
   "metadata": {},
   "outputs": [],
   "source": [
    "plot_scatter(review_backpacks,price_backpacks)"
   ]
  },
  {
   "cell_type": "code",
   "execution_count": null,
   "metadata": {},
   "outputs": [],
   "source": [
    "backpacksData=set_data(backpacks)\n",
    "backpacksData.head(10)"
   ]
  },
  {
   "cell_type": "code",
   "execution_count": null,
   "metadata": {},
   "outputs": [],
   "source": [
    "X_train,X_test,y_train,y_test=train_data(backpacksData)\n",
    "X_train[0]"
   ]
  },
  {
   "cell_type": "code",
   "execution_count": null,
   "metadata": {},
   "outputs": [],
   "source": [
    "model.fit(X_train,y_train)\n",
    "model.predict([[0,0,0,1,26,11,36,350]])"
   ]
  },
  {
   "cell_type": "code",
   "execution_count": null,
   "metadata": {},
   "outputs": [],
   "source": [
    "model.score(X_train,y_train)"
   ]
  },
  {
   "cell_type": "code",
   "execution_count": null,
   "metadata": {},
   "outputs": [],
   "source": [
    "model.fit(X_test,y_test)\n",
    "model.predict([[0,0,1,26,11,36,350]])"
   ]
  },
  {
   "cell_type": "code",
   "execution_count": null,
   "metadata": {},
   "outputs": [],
   "source": [
    "model.score(X_test,y_test)"
   ]
  },
  {
   "cell_type": "markdown",
   "metadata": {},
   "source": [
    "### Computers"
   ]
  },
  {
   "cell_type": "code",
   "execution_count": null,
   "metadata": {},
   "outputs": [],
   "source": [
    "computers=pricecatrev.loc[pricecatrev['business_segment']=='computers']\n",
    "computers=computers[computers['product_weight_g']<4000.00]\n",
    "price_computers=pd.DataFrame(computers['price'])\n",
    "review_computers=pd.DataFrame(computers['review_score'])"
   ]
  },
  {
   "cell_type": "code",
   "execution_count": null,
   "metadata": {},
   "outputs": [],
   "source": [
    "computers.info()"
   ]
  },
  {
   "cell_type": "code",
   "execution_count": null,
   "metadata": {},
   "outputs": [],
   "source": [
    "price_computers.describe()"
   ]
  },
  {
   "cell_type": "code",
   "execution_count": null,
   "metadata": {},
   "outputs": [],
   "source": [
    "review_computers.value_counts()"
   ]
  },
  {
   "cell_type": "code",
   "execution_count": null,
   "metadata": {},
   "outputs": [],
   "source": [
    "plot_price(price_computers)"
   ]
  },
  {
   "cell_type": "code",
   "execution_count": null,
   "metadata": {},
   "outputs": [],
   "source": [
    "plot_review(review_computers)"
   ]
  },
  {
   "cell_type": "code",
   "execution_count": null,
   "metadata": {},
   "outputs": [],
   "source": [
    "plot_both(review_computers,price_computers)"
   ]
  },
  {
   "cell_type": "code",
   "execution_count": null,
   "metadata": {},
   "outputs": [],
   "source": [
    "plot_scatter(review_computers,price_computers)"
   ]
  },
  {
   "cell_type": "code",
   "execution_count": null,
   "metadata": {},
   "outputs": [],
   "source": [
    "computersData=set_data(computers)\n",
    "computersData.head(10)"
   ]
  },
  {
   "cell_type": "code",
   "execution_count": null,
   "metadata": {},
   "outputs": [],
   "source": [
    "X_train,X_test,y_train,y_test=train_data(computersData)\n",
    "X_train[0]"
   ]
  },
  {
   "cell_type": "code",
   "execution_count": null,
   "metadata": {},
   "outputs": [],
   "source": [
    "model.fit(X_train,y_train)\n",
    "model.predict([[0,0,0,0,1,41,33,27,3695]])"
   ]
  },
  {
   "cell_type": "code",
   "execution_count": null,
   "metadata": {},
   "outputs": [],
   "source": [
    "model.score(X_train,y_train)"
   ]
  },
  {
   "cell_type": "code",
   "execution_count": null,
   "metadata": {},
   "outputs": [],
   "source": [
    "model.fit(X_test,y_test)\n",
    "model.predict([[0,0,0,1,41,33,27,3695]])"
   ]
  },
  {
   "cell_type": "code",
   "execution_count": null,
   "metadata": {},
   "outputs": [],
   "source": [
    "model.score(X_test,y_test)"
   ]
  },
  {
   "cell_type": "code",
   "execution_count": null,
   "metadata": {},
   "outputs": [],
   "source": []
  }
 ],
 "metadata": {
  "kernelspec": {
   "display_name": "Python 3",
   "language": "python",
   "name": "python3"
  },
  "language_info": {
   "codemirror_mode": {
    "name": "ipython",
    "version": 3
   },
   "file_extension": ".py",
   "mimetype": "text/x-python",
   "name": "python",
   "nbconvert_exporter": "python",
   "pygments_lexer": "ipython3",
   "version": "3.8.5"
  }
 },
 "nbformat": 4,
 "nbformat_minor": 4
}
