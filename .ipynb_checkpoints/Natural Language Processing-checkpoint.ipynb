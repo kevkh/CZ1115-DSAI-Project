{
 "cells": [
  {
   "cell_type": "markdown",
   "metadata": {},
   "source": [
    "### Why Natural Language Processing"
   ]
  },
  {
   "cell_type": "markdown",
   "metadata": {},
   "source": [
    "Natural Language Processing allows analysis of review comments (textual data)  to gather feedback of current practices. We can use these feedbacks to suggest practices to  sellers to improve customer satisfaction.\n"
   ]
  },
  {
   "cell_type": "code",
   "execution_count": 1,
   "metadata": {},
   "outputs": [],
   "source": [
    "import numpy as np\n",
    "import pandas as pd\n",
    "import seaborn as sb\n",
    "import matplotlib.pyplot as plt # we only need pyplo\n",
    "import time\n",
    "import nltk\n",
    "import re"
   ]
  },
  {
   "cell_type": "markdown",
   "metadata": {},
   "source": [
    "### Data Cleaning"
   ]
  },
  {
   "cell_type": "code",
   "execution_count": 2,
   "metadata": {},
   "outputs": [
    {
     "name": "stdout",
     "output_type": "stream",
     "text": [
      "<class 'pandas.core.frame.DataFrame'>\n",
      "Int64Index: 41753 entries, 3 to 99999\n",
      "Data columns (total 5 columns):\n",
      " #   Column                     Non-Null Count  Dtype  \n",
      "---  ------                     --------------  -----  \n",
      " 0   order_id                   41753 non-null  object \n",
      " 1   review_score               41753 non-null  int64  \n",
      " 2   review_comment_message     41753 non-null  object \n",
      " 3   polarity_score             0 non-null      float64\n",
      " 4   review_translated_message  0 non-null      float64\n",
      "dtypes: float64(2), int64(1), object(2)\n",
      "memory usage: 1.9+ MB\n"
     ]
    }
   ],
   "source": [
    "reviewData = pd.read_csv('./data/brazilian-ecommerce/olist_order_reviews_dataset.csv')\n",
    "com_rate = pd.DataFrame(reviewData[['order_id', 'review_score', 'review_comment_message']]).dropna()\n",
    "com_rate['polarity_score'] = np.nan\n",
    "com_rate['review_translated_message']= np.nan\n",
    "com_rate.info()\n"
   ]
  },
  {
   "cell_type": "markdown",
   "metadata": {},
   "source": [
    "### Score Distribution"
   ]
  },
  {
   "cell_type": "code",
   "execution_count": 3,
   "metadata": {},
   "outputs": [
    {
     "data": {
      "image/png": "[encoded data removed]",
      "text/plain": [
       "<Figure size 360x360 with 1 Axes>"
      ]
     },
     "metadata": {
      "needs_background": "light"
     },
     "output_type": "display_data"
    }
   ],
   "source": [
    "sb.catplot( y ='review_score', data = com_rate, kind = 'count')\n",
    "plt.show()"
   ]
  },
  {
   "cell_type": "markdown",
   "metadata": {},
   "source": [
    "Mostly those with extreme ratings (1 & 5) has commented. Since majority of scores are > 3, with score of 5 being most common, we can say that mostly users had good experience with Olist. However, we need to take note of what results in bad scores (<3) and encourage sellers to take corrective action while maintaining the actions that caused for positive comments."
   ]
  },
  {
   "cell_type": "markdown",
   "metadata": {},
   "source": [
    "### Word Processing"
   ]
  },
  {
   "cell_type": "markdown",
   "metadata": {},
   "source": [
    "#### Process & Clean Text for Consistency\n",
    "- Remove non-letters (such as punctuations and emoticons)\n",
    "- Tokenize (extract words from the sentences)\n",
    "- Convert to lower case  (for consistency)\n",
    "- Remove Stopwords in Portuguese  (improve accuracy)\n"
   ]
  },
  {
   "cell_type": "code",
   "execution_count": 4,
   "metadata": {
    "scrolled": true
   },
   "outputs": [
    {
     "name": "stderr",
     "output_type": "stream",
     "text": [
      "[nltk_data] Downloading package stopwords to C:\\Users\\Kee\n",
      "[nltk_data]     How\\AppData\\Roaming\\nltk_data...\n",
      "[nltk_data]   Package stopwords is already up-to-date!\n",
      "[nltk_data] Downloading package punkt to C:\\Users\\Kee\n",
      "[nltk_data]     How\\AppData\\Roaming\\nltk_data...\n",
      "[nltk_data]   Package punkt is already up-to-date!\n"
     ]
    },
    {
     "data": {
      "text/plain": [
       "True"
      ]
     },
     "execution_count": 4,
     "metadata": {},
     "output_type": "execute_result"
    }
   ],
   "source": [
    "from nltk.corpus import stopwords\n",
    "nltk.download('stopwords')\n",
    "from nltk.tokenize import word_tokenize\n",
    "nltk.download('punkt')"
   ]
  },
  {
   "cell_type": "code",
   "execution_count": null,
   "metadata": {},
   "outputs": [],
   "source": [
    "comments_processed = []\n",
    "\n",
    "stopword_pt = set(stopwords.words('portuguese'))\n",
    "#print(stopword_pt)\n",
    "\n",
    "for review in com_rate['review_comment_message']:\n",
    "    # remove non-letters such as emoticons\n",
    "    no_non_letter = re.sub(\"[^a-zA-Z]\", \" \", review) \n",
    "    #extract words from the sentences #tokenise\n",
    "    token = nltk.word_tokenize(no_non_letter)\n",
    "    #convert to lower case\n",
    "    token = [word.lower() for word in token]\n",
    "    #remove stopwords\n",
    "    tokens_no_sw = [word for word in token if not word in stopword_pt]\n",
    "    #add to list\n",
    "    comments_processed.append(' '.join(tokens_no_sw))\n",
    "\n",
    "\n",
    "comments_processed"
   ]
  },
  {
   "cell_type": "markdown",
   "metadata": {},
   "source": [
    "#### Extract Bigram"
   ]
  },
  {
   "cell_type": "code",
   "execution_count": null,
   "metadata": {},
   "outputs": [],
   "source": [
    "from sklearn.feature_extraction.text import CountVectorizer"
   ]
  },
  {
   "cell_type": "code",
   "execution_count": null,
   "metadata": {
    "scrolled": true
   },
   "outputs": [],
   "source": [
    "co_bi = CountVectorizer(ngram_range = (2,2))\n",
    "counts = co_bi.fit_transform (comments_processed)\n",
    "bigram = pd.DataFrame(counts.sum(axis=0),columns=co_bi.get_feature_names()).T.sort_values(0,ascending=False)\n",
    "bigram = bigram.reset_index().rename(columns = {'index': 'bigram', 0:'frequency'})\n",
    "\n",
    "bigram"
   ]
  },
  {
   "cell_type": "markdown",
   "metadata": {},
   "source": [
    "#### Keep Bigram with Frequency  >=50 "
   ]
  },
  {
   "cell_type": "code",
   "execution_count": null,
   "metadata": {
    "scrolled": true
   },
   "outputs": [],
   "source": [
    "bigram_impt = pd.DataFrame(bigram.loc[bigram['frequency'] >= 50])\n",
    "bigram_impt"
   ]
  },
  {
   "cell_type": "markdown",
   "metadata": {},
   "source": [
    "### Data Visualisation using  `wordcloud`"
   ]
  },
  {
   "cell_type": "markdown",
   "metadata": {},
   "source": [
    "Wordcloud enables visualisation of text with reference to its frequency. It highlights some of the important feedbacks from the customers to sellers\n"
   ]
  },
  {
   "cell_type": "code",
   "execution_count": null,
   "metadata": {},
   "outputs": [],
   "source": [
    "from wordcloud import WordCloud"
   ]
  },
  {
   "cell_type": "markdown",
   "metadata": {},
   "source": [
    "### Data Visualisation of Portuguese Text"
   ]
  },
  {
   "cell_type": "code",
   "execution_count": null,
   "metadata": {},
   "outputs": [],
   "source": [
    "bigram_string=(\" \").join(bigram_impt['bigram'].tolist())\n",
    "bigram_string"
   ]
  },
  {
   "cell_type": "code",
   "execution_count": null,
   "metadata": {},
   "outputs": [],
   "source": [
    "wordcloud = WordCloud(width=2000, height =1000,collocation_threshold = 2, \n",
    "                      background_color = 'white').generate(bigram_string)\n",
    "plt.figure(figsize=(20,20))\n",
    "plt.imshow(wordcloud,interpolation=\"bilinear\")\n",
    "plt.axis('off')\n",
    "plt.show()"
   ]
  },
  {
   "cell_type": "markdown",
   "metadata": {},
   "source": [
    "### Translate by importing `google_trans_new`"
   ]
  },
  {
   "cell_type": "code",
   "execution_count": null,
   "metadata": {},
   "outputs": [],
   "source": [
    "from google_trans_new import google_translator\n",
    "translator = google_translator()"
   ]
  },
  {
   "cell_type": "markdown",
   "metadata": {},
   "source": [
    "#### Translate bigram"
   ]
  },
  {
   "cell_type": "code",
   "execution_count": null,
   "metadata": {
    "scrolled": true
   },
   "outputs": [],
   "source": [
    "bigram_impt['translated_bigram'] = bigram_impt['bigram'].apply(translator.translate)\n",
    "bigram_impt"
   ]
  },
  {
   "cell_type": "markdown",
   "metadata": {},
   "source": [
    "### Data Visualisation of English Text"
   ]
  },
  {
   "cell_type": "code",
   "execution_count": null,
   "metadata": {},
   "outputs": [],
   "source": [
    "bigram_string2 = (\" \").join(bigram_impt['translated_bigram'].tolist())\n",
    "bigram_string2"
   ]
  },
  {
   "cell_type": "code",
   "execution_count": null,
   "metadata": {},
   "outputs": [],
   "source": [
    "wordcloud2 = WordCloud(width=2000, height =1000,collocation_threshold = 2, \n",
    "                       background_color = 'white').generate(bigram_string2)\n",
    "plt.figure(figsize=(20,20))\n",
    "plt.imshow(wordcloud2,interpolation=\"bilinear\")\n",
    "plt.axis('off')\n",
    "plt.show()"
   ]
  },
  {
   "cell_type": "markdown",
   "metadata": {},
   "source": [
    "### Sentiment Analysis"
   ]
  },
  {
   "cell_type": "markdown",
   "metadata": {},
   "source": [
    "Sentiment Analysis enables us to separate comments by polarity. It allows differentiation of the good practices of the sellers that should be continued from bad practices that should be improved on.\n",
    "\n",
    "Negative comments can be used to get pointers for improvement. Positive & neutral comments denote practices sellers should continue doing. This can also give a sense of what customers could expect from Olist. "
   ]
  },
  {
   "cell_type": "code",
   "execution_count": null,
   "metadata": {
    "scrolled": false
   },
   "outputs": [],
   "source": [
    "nltk.download('vader_lexicon')\n",
    "from nltk.sentiment import SentimentIntensityAnalyzer\n",
    "sia = SentimentIntensityAnalyzer()\n",
    "#sia.polarity_scores(\"amazing\")"
   ]
  },
  {
   "cell_type": "code",
   "execution_count": null,
   "metadata": {},
   "outputs": [],
   "source": [
    "sia.polarity_scores(\"before term\")"
   ]
  },
  {
   "cell_type": "code",
   "execution_count": null,
   "metadata": {
    "scrolled": true
   },
   "outputs": [],
   "source": [
    "polarity = []\n",
    "for i in bigram_impt['translated_bigram']:\n",
    "    polar = sia.polarity_scores(i).get('compound')\n",
    "    polarity += [polar]\n",
    "    \n",
    "\n",
    "bigram_impt['polarity_score'] = np.array(polarity)\n",
    "bigram_impt"
   ]
  },
  {
   "cell_type": "markdown",
   "metadata": {},
   "source": [
    "#### Negative comments"
   ]
  },
  {
   "cell_type": "code",
   "execution_count": null,
   "metadata": {
    "scrolled": true
   },
   "outputs": [],
   "source": [
    "bigram_neg = pd.DataFrame(bigram_impt.loc[bigram_impt['polarity_score'] < 0])\n",
    "bigram_neg"
   ]
  },
  {
   "cell_type": "code",
   "execution_count": null,
   "metadata": {},
   "outputs": [],
   "source": [
    "bigram_Sneg = (\" \").join(bigram_neg['translated_bigram'].tolist())\n",
    "bigram_Sneg"
   ]
  },
  {
   "cell_type": "code",
   "execution_count": null,
   "metadata": {
    "scrolled": false
   },
   "outputs": [],
   "source": [
    "bigram_Sneg = (\" \").join(bigram_neg['translated_bigram'].tolist())\n",
    "\n",
    "wordcloud_neg = WordCloud(width=2000, height =1000,collocation_threshold = 2, \n",
    "                       background_color = 'white').generate(bigram_Sneg)\n",
    "plt.figure(figsize=(20,20))\n",
    "plt.imshow(wordcloud_neg,interpolation=\"bilinear\")\n",
    "plt.axis('off')\n",
    "plt.show()"
   ]
  },
  {
   "cell_type": "markdown",
   "metadata": {},
   "source": [
    "#### Neutral Comments"
   ]
  },
  {
   "cell_type": "code",
   "execution_count": null,
   "metadata": {},
   "outputs": [],
   "source": [
    "bigram_neu = pd.DataFrame(bigram_impt.loc[bigram_impt['polarity_score'] == 0])\n",
    "bigram_neu"
   ]
  },
  {
   "cell_type": "code",
   "execution_count": null,
   "metadata": {},
   "outputs": [],
   "source": [
    "bigram_Sneu = (\" \").join(bigram_neu['translated_bigram'].tolist())\n",
    "\n",
    "wordcloud_neu = WordCloud(width=2000, height =1000,collocation_threshold = 2, \n",
    "                       background_color = 'white').generate(bigram_Sneu)\n",
    "plt.figure(figsize=(20,20))\n",
    "plt.imshow(wordcloud_neu,interpolation=\"bilinear\")\n",
    "plt.axis('off')\n",
    "plt.show()"
   ]
  },
  {
   "cell_type": "markdown",
   "metadata": {},
   "source": [
    "#### Positive Comments"
   ]
  },
  {
   "cell_type": "code",
   "execution_count": null,
   "metadata": {},
   "outputs": [],
   "source": [
    "bigram_pos = pd.DataFrame(bigram_impt.loc[bigram_impt['polarity_score'] > 0])\n",
    "bigram_pos"
   ]
  },
  {
   "cell_type": "code",
   "execution_count": null,
   "metadata": {
    "scrolled": false
   },
   "outputs": [],
   "source": [
    "bigram_Spos = (\" \").join(bigram_pos['translated_bigram'].tolist())\n",
    "\n",
    "wordcloud_pos = WordCloud(width=2000, height =1000,collocation_threshold = 2, \n",
    "                       background_color = 'white').generate(bigram_Spos)\n",
    "plt.figure(figsize=(20,20))\n",
    "plt.imshow(wordcloud_pos,interpolation=\"bilinear\")\n",
    "plt.axis('off')\n",
    "plt.show()"
   ]
  },
  {
   "cell_type": "markdown",
   "metadata": {},
   "source": [
    "### Conclusion"
   ]
  },
  {
   "cell_type": "markdown",
   "metadata": {},
   "source": [
    "#### Areas of Improvement for Sellers:\n",
    "- delivery time\n",
    "- delivery to correct person\n",
    "- quality of products\n",
    "- product defects and missing parts\n"
   ]
  },
  {
   "cell_type": "markdown",
   "metadata": {},
   "source": [
    "#### Customers can Mostly Expect\n",
    "- product to be delivered within time\n",
    "- mostly good products recommended by previous buyers"
   ]
  },
  {
   "cell_type": "markdown",
   "metadata": {},
   "source": [
    "### Translate using Google Sheets\n",
    "(Too many requests for  `google_trans_new` )\n",
    "- Translate using function `GOOGLETRANSLATE`"
   ]
  },
  {
   "cell_type": "code",
   "execution_count": null,
   "metadata": {
    "scrolled": true
   },
   "outputs": [],
   "source": [
    "translated_review =pd.read_csv('olist_translated_reviews_dataset.csv')\n",
    "com_rate2 = pd.DataFrame(translated_review[['order_id', 'review_score', 'review_comment_message', 'review_translated_message']])\n",
    "com_rate2 = com_rate2.dropna()\n",
    "#com_rate2['polarity_score'] = np.nan\n",
    "\n",
    "com_rate2.info()"
   ]
  },
  {
   "cell_type": "code",
   "execution_count": null,
   "metadata": {
    "scrolled": true
   },
   "outputs": [],
   "source": [
    "polarity_full = []\n",
    "for i in com_rate2['review_translated_message']:\n",
    "    polar = sia.polarity_scores(i).get('compound')\n",
    "    polarity_full += [polar]\n",
    "    \n",
    "\n",
    "com_rate2['polarity_score'] = np.array(polarity_full)\n",
    "com_rate2"
   ]
  },
  {
   "cell_type": "code",
   "execution_count": null,
   "metadata": {},
   "outputs": [],
   "source": [
    "sb.histplot(data = com_rate2, x = 'polarity_score')\n",
    "plt.show()"
   ]
  },
  {
   "cell_type": "markdown",
   "metadata": {},
   "source": [
    "Most comments are neutral, followed by positive comments and then negative comments."
   ]
  }
 ],
 "metadata": {
  "kernelspec": {
   "display_name": "Python 3",
   "language": "python",
   "name": "python3"
  },
  "language_info": {
   "codemirror_mode": {
    "name": "ipython",
    "version": 3
   },
   "file_extension": ".py",
   "mimetype": "text/x-python",
   "name": "python",
   "nbconvert_exporter": "python",
   "pygments_lexer": "ipython3",
   "version": "3.8.5"
  }
 },
 "nbformat": 4,
 "nbformat_minor": 4
}
